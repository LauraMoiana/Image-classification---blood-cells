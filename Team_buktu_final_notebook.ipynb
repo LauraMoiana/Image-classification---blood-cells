{
 "cells": [
  {
   "cell_type": "markdown",
   "metadata": {
    "id": "nuwVgG3Vbbka"
   },
   "source": [
    "# Artificial Neural Networks and Deep Learning\n",
    "\n",
    "---\n",
    "\n",
    "## Homework 1: Image classification\n",
    "\n",
    "\n"
   ]
  },
  {
   "cell_type": "markdown",
   "metadata": {
    "id": "dw_-hFm6bjY6"
   },
   "source": [
    "## 🌐 Connect Colab to Google Drive"
   ]
  },
  {
   "cell_type": "code",
   "execution_count": null,
   "metadata": {
    "colab": {
     "base_uri": "https://localhost:8080/"
    },
    "executionInfo": {
     "elapsed": 2458,
     "status": "ok",
     "timestamp": 1732290961353,
     "user": {
      "displayName": "Laura Moiana",
      "userId": "03513378093158623547"
     },
     "user_tz": -60
    },
    "id": "y2S4GWr3Uoa8",
    "outputId": "264e1a44-1fe6-44fc-a9cf-8af0d1d8e79c"
   },
   "outputs": [],
   "source": [
    "from google.colab import drive\n",
    "\n",
    "drive.mount('/gdrive')\n",
    "%cd /gdrive/My Drive/[2024-2025] AN2DL/Homework 1"
   ]
  },
  {
   "cell_type": "markdown",
   "metadata": {
    "id": "d7IqZP5Iblna"
   },
   "source": [
    "## ⚙️ Import Libraries"
   ]
  },
  {
   "cell_type": "code",
   "execution_count": null,
   "metadata": {
    "colab": {
     "base_uri": "https://localhost:8080/"
    },
    "executionInfo": {
     "elapsed": 5513,
     "status": "ok",
     "timestamp": 1732290983181,
     "user": {
      "displayName": "Laura Moiana",
      "userId": "03513378093158623547"
     },
     "user_tz": -60
    },
    "id": "vOP-j7-GY9Cx",
    "outputId": "51dc3dda-c3fe-4595-cb60-d1906f25f6c1"
   },
   "outputs": [],
   "source": [
    "!pip install cleanvision"
   ]
  },
  {
   "cell_type": "code",
   "execution_count": null,
   "metadata": {
    "colab": {
     "base_uri": "https://localhost:8080/"
    },
    "executionInfo": {
     "elapsed": 5222,
     "status": "ok",
     "timestamp": 1732290992296,
     "user": {
      "displayName": "Laura Moiana",
      "userId": "03513378093158623547"
     },
     "user_tz": -60
    },
    "id": "SZrt6lerJOsh",
    "outputId": "79a0c95c-8874-4acc-8c58-691ecd11066b"
   },
   "outputs": [],
   "source": [
    "pip install keras-cv --upgrade\n"
   ]
  },
  {
   "cell_type": "code",
   "execution_count": null,
   "metadata": {
    "id": "1fRtQx5dKSQ8"
   },
   "outputs": [],
   "source": [
    "!pip install -q --upgrade keras-cv\n",
    "!pip install -q --upgrade keras"
   ]
  },
  {
   "cell_type": "code",
   "execution_count": null,
   "metadata": {
    "colab": {
     "base_uri": "https://localhost:8080/",
     "height": 1000
    },
    "executionInfo": {
     "elapsed": 81595,
     "status": "ok",
     "timestamp": 1732290927990,
     "user": {
      "displayName": "Laura Moiana",
      "userId": "03513378093158623547"
     },
     "user_tz": -60
    },
    "id": "j3auo23xlGyB",
    "outputId": "31c33ded-434d-403f-9e23-6958ccacd3de"
   },
   "outputs": [],
   "source": [
    "!pip install --upgrade tensorflow keras keras-cv\n"
   ]
  },
  {
   "cell_type": "code",
   "execution_count": null,
   "metadata": {
    "colab": {
     "base_uri": "https://localhost:8080/"
    },
    "executionInfo": {
     "elapsed": 16022,
     "status": "ok",
     "timestamp": 1732291023850,
     "user": {
      "displayName": "Laura Moiana",
      "userId": "03513378093158623547"
     },
     "user_tz": -60
    },
    "id": "CO6_Ft_8T56A",
    "outputId": "7c5ccb07-53e7-4466-d3c9-dd058cbe8196"
   },
   "outputs": [],
   "source": [
    "# Import necessary libraries\n",
    "import os\n",
    "\n",
    "# Set environment variables before importing modules\n",
    "os.environ['TF_CPP_MIN_LOG_LEVEL'] = '3'\n",
    "os.environ['PYTHONHASHSEED'] = str(42)\n",
    "os.environ['MPLCONFIGDIR'] = os.getcwd() + '/configs/'\n",
    "\n",
    "# Suppress warnings\n",
    "import warnings\n",
    "warnings.simplefilter(action='ignore', category=FutureWarning)\n",
    "warnings.simplefilter(action='ignore', category=Warning)\n",
    "\n",
    "# Import necessary modules\n",
    "import logging\n",
    "import random\n",
    "import numpy as np\n",
    "\n",
    "# Import TensorFlow and Keras\n",
    "import tensorflow as tf\n",
    "from tensorflow import keras as tfk\n",
    "from tensorflow.keras import layers as tfkl\n",
    "import tensorflow_datasets as tfds\n",
    "import keras_cv\n",
    "\n",
    "# Set seeds for random number generators in NumPy, Python and Tensor Flow\n",
    "np.random.seed(42)\n",
    "tf.random.set_seed(42);\n",
    "tf.compat.v1.set_random_seed(42);\n",
    "\n",
    "# Reduce TensorFlow verbosity\n",
    "tf.autograph.set_verbosity(0)\n",
    "tf.get_logger().setLevel(logging.ERROR)\n",
    "tf.compat.v1.logging.set_verbosity(tf.compat.v1.logging.ERROR)\n",
    "\n",
    "\n",
    "# Print TensorFlow version\n",
    "print(tf.__version__)\n",
    "\n",
    "# Import other libraries\n",
    "import pandas as pd\n",
    "import matplotlib.pyplot as plt\n",
    "import seaborn as sns\n",
    "from sklearn.model_selection import train_test_split\n",
    "from sklearn.metrics import accuracy_score, confusion_matrix, precision_score, recall_score, f1_score\n",
    "from PIL import Image\n",
    "import matplotlib.gridspec as gridspec\n",
    "import cv2\n",
    "from cleanvision import Imagelab\n",
    "\n",
    "# Configure plot display settings\n",
    "sns.set(font_scale=1.4)\n",
    "sns.set_style('white')\n",
    "plt.rc('font', size=14)\n",
    "%matplotlib inline"
   ]
  },
  {
   "cell_type": "markdown",
   "metadata": {
    "id": "GN_cpHlSboXV"
   },
   "source": [
    "## ⏳ Load the Data"
   ]
  },
  {
   "cell_type": "code",
   "execution_count": null,
   "metadata": {
    "colab": {
     "base_uri": "https://localhost:8080/"
    },
    "executionInfo": {
     "elapsed": 9502,
     "status": "ok",
     "timestamp": 1732284973234,
     "user": {
      "displayName": "Laura Moiana",
      "userId": "03513378093158623547"
     },
     "user_tz": -60
    },
    "id": "pLaoDaG1V1Yg",
    "outputId": "e5cbad31-2632-4250-e224-4b833f1f8722"
   },
   "outputs": [],
   "source": [
    "# Load the dataset\n",
    "path_training_set=\"/gdrive/MyDrive/[2024-2025] AN2DL/Homework 1/training_set.npz\"\n",
    "data = np.load(path_training_set)\n",
    "print(data.files)\n",
    "\n",
    "X = data['images']  # Features (images)\n",
    "y = data['labels']  # Labels\n",
    "\n",
    "# inspect the dataset shape\n",
    "print(\"Images shape:\", X.shape)\n",
    "print(\"Labels shape:\", y.shape)\n",
    "# we have 13759 images (of size 96x96x3) with an associated label"
   ]
  },
  {
   "cell_type": "code",
   "execution_count": null,
   "metadata": {
    "colab": {
     "base_uri": "https://localhost:8080/"
    },
    "executionInfo": {
     "elapsed": 5,
     "status": "ok",
     "timestamp": 1732284973234,
     "user": {
      "displayName": "Laura Moiana",
      "userId": "03513378093158623547"
     },
     "user_tz": -60
    },
    "id": "Nz7rdTSUeJ0E",
    "outputId": "ae041d3d-5f03-4014-f939-e34009917cb1"
   },
   "outputs": [],
   "source": [
    "# Inspect the target\n",
    "print('Counting occurrences of target classes:')\n",
    "print(pd.DataFrame(y, columns=['digit'])['digit'].value_counts())"
   ]
  },
  {
   "cell_type": "markdown",
   "metadata": {
    "id": "EGRxhBnrv9MI"
   },
   "source": [
    "## 🧹 CleanVision"
   ]
  },
  {
   "cell_type": "markdown",
   "metadata": {
    "id": "PGMmONbM0gvR"
   },
   "source": [
    "It's a library that automatically detects various issues in the image data, such as images that are: (near) duplicates, blurry, over/under-exposed, etc. This data-centric AI package is designed as a quick first step for any computer vision project to find problems in the dataset."
   ]
  },
  {
   "cell_type": "code",
   "execution_count": null,
   "metadata": {
    "id": "Ruivbp8iwfqN"
   },
   "outputs": [],
   "source": [
    "# create a temporary fold to save the images in .jpg\n",
    "temp_folder = \"/gdrive/MyDrive/[2024-2025] AN2DL/Homework 1/X_temp/\"\n",
    "if not os.path.exists(temp_folder):\n",
    "    os.makedirs(temp_folder)\n",
    "\n",
    "# Save each image in this temporary folder\n",
    "for i, img in enumerate(X):\n",
    "    img_path = os.path.join(temp_folder, f\"image_{i}.jpg\")  # save as jpg\n",
    "    cv2.imwrite(img_path, img.astype(np.uint8))"
   ]
  },
  {
   "cell_type": "code",
   "execution_count": null,
   "metadata": {
    "id": "n1jqOARM3CFN"
   },
   "outputs": [],
   "source": [
    "# temp_folder = \"/gdrive/MyDrive/[2024-2025] AN2DL/Homework 1/X_temp/\""
   ]
  },
  {
   "cell_type": "code",
   "execution_count": null,
   "metadata": {
    "colab": {
     "base_uri": "https://localhost:8080/",
     "height": 1000,
     "referenced_widgets": [
      "995f16b5131449cdbcc8563051c3be8e",
      "e015c44aceab4b1f80ed49fe72ade973",
      "84e78f576f394c8d983bc696b41c2c38",
      "af96b1f3ca1843bbaf0cee800464c2cf",
      "ebc07425a6374a7285fb2812aa77a833",
      "783296acd36f43ab9a08f60f6e32e343",
      "1ace48d529d64ea59cf6c5a3234c689a",
      "cfcea22ddd24459d9098125bcd8e5149",
      "eea8adf6634f442bb25931cac9a474b4",
      "453295d2701443258fdd5b81953d9f12",
      "4312bf3e62d1474a804400efe07f7474",
      "e12bac9c59d549beb640693459cd161d",
      "8911630013464449811ab6e3fa17b90e",
      "e248ea748deb45d28d7158c5301ad351",
      "eea5b4d29f774b6e9b4a18b56bd72ac9",
      "561380765c6a472bbc1f5f076114f9c0",
      "9230c0cc3a644ca1b2c4cfe3b372f49f",
      "75f2671fbe7e47bb91111b4b8634f8ef",
      "3329592262d54b36bdf9f121d80ae16a",
      "cc1fdb8730084bcfa7378db898c891c7",
      "ee2d4d1b9481436a87cd3f05fd14019d",
      "9c3ecb313279407a93db342b1d9b575a"
     ]
    },
    "executionInfo": {
     "elapsed": 592068,
     "status": "ok",
     "timestamp": 1731332889031,
     "user": {
      "displayName": "Laura Moiana",
      "userId": "03513378093158623547"
     },
     "user_tz": -60
    },
    "id": "P8cH9xTCw8lw",
    "outputId": "79e339d1-ddb0-48c8-bcd7-78d92341a208"
   },
   "outputs": [],
   "source": [
    "# take the path of all the .jpg images in the folder\n",
    "image_files = [os.path.join(temp_folder, f) for f in os.listdir(temp_folder) if f.endswith('.jpg')]\n",
    "\n",
    "# Use Imagelab on that images\n",
    "imagelab = Imagelab(filepaths=image_files)\n",
    "imagelab.find_issues()\n",
    "imagelab.report()\n",
    "\n",
    "# It has identified 1816 duplicates in the dataset, divided in 10 folders.\n",
    "# no other problems were found\n",
    "# (the error is only a visualization error because there are too many images to plot)"
   ]
  },
  {
   "cell_type": "code",
   "execution_count": null,
   "metadata": {
    "colab": {
     "base_uri": "https://localhost:8080/"
    },
    "executionInfo": {
     "elapsed": 5,
     "status": "ok",
     "timestamp": 1731332889847,
     "user": {
      "displayName": "Laura Moiana",
      "userId": "03513378093158623547"
     },
     "user_tz": -60
    },
    "id": "v96guarTxLk3",
    "outputId": "c67642b0-bd36-4d30-edab-93fdb488ab65"
   },
   "outputs": [],
   "source": [
    "# print the number of sets of duplicates\n",
    "imagelab.info[\"exact_duplicates\"][\"num_sets\"]"
   ]
  },
  {
   "cell_type": "code",
   "execution_count": null,
   "metadata": {
    "colab": {
     "base_uri": "https://localhost:8080/"
    },
    "executionInfo": {
     "elapsed": 204,
     "status": "ok",
     "timestamp": 1731332893856,
     "user": {
      "displayName": "Laura Moiana",
      "userId": "03513378093158623547"
     },
     "user_tz": -60
    },
    "id": "yoEqjGadEXZ2",
    "outputId": "d02cbd82-c81b-4e1a-a9c4-6c51370d5aa2"
   },
   "outputs": [],
   "source": [
    "# Print the number of duplicated images for each set\n",
    "duplicated_images = imagelab.info[\"exact_duplicates\"][\"sets\"]\n",
    "print(f\"numebr of duplicated set: {len(duplicated_images)}\")\n",
    "\n",
    "for i, duplicate_set in enumerate(duplicated_images):\n",
    "    print(f\"Set {i}: contains {len(duplicate_set)} duplicated images\")"
   ]
  },
  {
   "cell_type": "code",
   "execution_count": null,
   "metadata": {
    "colab": {
     "base_uri": "https://localhost:8080/"
    },
    "executionInfo": {
     "elapsed": 216,
     "status": "ok",
     "timestamp": 1731332897359,
     "user": {
      "displayName": "Laura Moiana",
      "userId": "03513378093158623547"
     },
     "user_tz": -60
    },
    "id": "-I02i5p0FDSJ",
    "outputId": "f36a51b2-b6be-4235-924b-6ac39f5a3fd9"
   },
   "outputs": [],
   "source": [
    "# just to check:\n",
    "print(duplicated_images[9]) # last set contains only 2 elements"
   ]
  },
  {
   "cell_type": "markdown",
   "metadata": {
    "id": "ZWGzdnT4-FJA"
   },
   "source": [
    "Remove the duplicated image"
   ]
  },
  {
   "cell_type": "code",
   "execution_count": null,
   "metadata": {
    "colab": {
     "base_uri": "https://localhost:8080/"
    },
    "executionInfo": {
     "elapsed": 291,
     "status": "ok",
     "timestamp": 1731332904807,
     "user": {
      "displayName": "Laura Moiana",
      "userId": "03513378093158623547"
     },
     "user_tz": -60
    },
    "id": "MZDOqp3_xTih",
    "outputId": "abc307fc-1e86-4188-d342-a243ec507dbf"
   },
   "outputs": [],
   "source": [
    "# select duplicated images: i want to mantain only one image for set => i select the first one and discard the others\n",
    "image_to_deleate = []  # List of images to deleate\n",
    "image_to_maintain = []  # List of images to mantain\n",
    "\n",
    "# (duplicated_images is a list of lists => images contains the duplicated_images for each set)\n",
    "for images in duplicated_images:\n",
    "    image_to_maintain.append(images[0])  # take only the first image of each set and add it to the list \"image_to_mantain\"\n",
    "\n",
    "    # for the other images, add them to \"image_to_deleate\"\n",
    "    for i in range(1, len(images)):\n",
    "        image_to_deleate.append(images[i])\n",
    "\n",
    "# print the 2 lists\n",
    "print(\"Immagini da mantenere:\", image_to_maintain)\n",
    "print(\"Immagini da eliminare:\", image_to_deleate)\n"
   ]
  },
  {
   "cell_type": "code",
   "execution_count": null,
   "metadata": {
    "colab": {
     "base_uri": "https://localhost:8080/"
    },
    "executionInfo": {
     "elapsed": 307,
     "status": "ok",
     "timestamp": 1731332907466,
     "user": {
      "displayName": "Laura Moiana",
      "userId": "03513378093158623547"
     },
     "user_tz": -60
    },
    "id": "oouvc63VFTsv",
    "outputId": "b4725c87-1128-4322-db9d-dc60c0b14572"
   },
   "outputs": [],
   "source": [
    "# check: the list \"image to mantain\" contains 10 elements as expected (1 for set)\n",
    "print(len(image_to_maintain))"
   ]
  },
  {
   "cell_type": "code",
   "execution_count": null,
   "metadata": {
    "colab": {
     "base_uri": "https://localhost:8080/",
     "height": 117
    },
    "executionInfo": {
     "elapsed": 1854,
     "status": "ok",
     "timestamp": 1731332913836,
     "user": {
      "displayName": "Laura Moiana",
      "userId": "03513378093158623547"
     },
     "user_tz": -60
    },
    "id": "NZc6H6VDxYRb",
    "outputId": "07fcdbac-6942-42ff-bd72-89d2403a523e"
   },
   "outputs": [],
   "source": [
    "# Print all the 10 images in \"images_to_mantain\"\n",
    "fig, axes = plt.subplots(1, 10, figsize=(15, 3))\n",
    "\n",
    "for i, img_path in enumerate(image_to_maintain):\n",
    "    img = cv2.imread(img_path)\n",
    "\n",
    "    # convert images from BGR (OpenCV) to RGB (matplotlib)\n",
    "    img_rgb = cv2.cvtColor(img, cv2.COLOR_BGR2RGB)\n",
    "\n",
    "    # show the image on the i axis\n",
    "    axes[i].imshow(img_rgb)\n",
    "    axes[i].axis('off')\n",
    "\n",
    "plt.tight_layout()\n",
    "plt.show()\n",
    "\n",
    "# As we can see, the first 2 images are mixup augmentation of a blood cell and a ”random” image taken from the web\n",
    "# => we must remove also them from the dataset"
   ]
  },
  {
   "cell_type": "code",
   "execution_count": null,
   "metadata": {
    "colab": {
     "base_uri": "https://localhost:8080/"
    },
    "executionInfo": {
     "elapsed": 413,
     "status": "ok",
     "timestamp": 1731332920173,
     "user": {
      "displayName": "Laura Moiana",
      "userId": "03513378093158623547"
     },
     "user_tz": -60
    },
    "id": "1FdMOiREzT3B",
    "outputId": "654e0e37-fc33-421e-c490-3c5ce9b9a924"
   },
   "outputs": [],
   "source": [
    "# In images_to_remove I have the path of the images, not their index.\n",
    "# so I have to translate them in indixes in order to remove the corresponding images from the dataset\n",
    "\n",
    "# list of index to remove\n",
    "indices_to_remove = []\n",
    "\n",
    "# path of the images\n",
    "image_paths = [f\"/gdrive/MyDrive/[2024-2025] AN2DL/Homework 1/X_temp/image_{i}.jpg\" for i in range(len(X))]\n",
    "\n",
    "# find indexes of images to remove\n",
    "for idx, path in enumerate(image_paths):\n",
    "    if path in image_to_deleate:\n",
    "        indices_to_remove.append(idx)\n",
    "\n",
    "print(len(indices_to_remove))\n",
    "\n",
    "# to check:\n",
    "# 1816-10 (1 per set) = 1806 => ok"
   ]
  },
  {
   "cell_type": "code",
   "execution_count": null,
   "metadata": {
    "colab": {
     "base_uri": "https://localhost:8080/"
    },
    "executionInfo": {
     "elapsed": 255,
     "status": "ok",
     "timestamp": 1731332928531,
     "user": {
      "displayName": "Laura Moiana",
      "userId": "03513378093158623547"
     },
     "user_tz": -60
    },
    "id": "M4OKVg70jfY5",
    "outputId": "821b1917-6788-49eb-9c9d-a14a67ef44a2"
   },
   "outputs": [],
   "source": [
    "# Analyze the 'images_to_remove' target to assess whether their removal might lead to class imbalance.\n",
    "print('Counting occurrences of target classes:')\n",
    "print(pd.DataFrame(y[indices_to_remove], columns=['digit'])['digit'].value_counts())\n"
   ]
  },
  {
   "cell_type": "code",
   "execution_count": null,
   "metadata": {
    "colab": {
     "base_uri": "https://localhost:8080/"
    },
    "executionInfo": {
     "elapsed": 633,
     "status": "ok",
     "timestamp": 1731332941462,
     "user": {
      "displayName": "Laura Moiana",
      "userId": "03513378093158623547"
     },
     "user_tz": -60
    },
    "id": "_V2hBrVwkszH",
    "outputId": "e47a4d15-63b1-4953-fd49-499cb9014188"
   },
   "outputs": [],
   "source": [
    "# Try to understand how the images in each set have been classified\n",
    "# start for the test 0 and then change the set\n",
    "image_to_deleate_0 = []  # list of images_to_deleate set0\n",
    "image_to_maintain_0 = []  # list of images_to_ mantain set0\n",
    "\n",
    "image_to_maintain_0=duplicated_images[0][0] # take only the first image of the set\n",
    "\n",
    "for image in (duplicated_images[0]): # add all the others to image-to_deleate set0\n",
    "    image_to_deleate_0.append(image)\n",
    "\n",
    "# print results\n",
    "print(\"Immagini da mantenere:\", image_to_maintain_0)\n",
    "print(\"Immagini da eliminare:\", image_to_deleate_0)\n",
    "\n",
    "image_paths = [f\"/gdrive/MyDrive/[2024-2025] AN2DL/Homework 1/X_temp/image_{i}.jpg\" for i in range(len(X))]\n",
    "\n",
    "indices_to_remove_0 = [] # list of indixes to remove\n",
    "\n",
    "for idx, path in enumerate(image_paths): # find indixes of image to remove\n",
    "    if path in image_to_deleate_0:\n",
    "        indices_to_remove_0.append(idx)\n",
    "\n",
    "print(len(indices_to_remove_0))\n",
    "\n",
    "\n",
    "# Inspect the target\n",
    "print('Counting occurrences of target classes:')\n",
    "print(pd.DataFrame(y[indices_to_remove_0], columns=['digit'])['digit'].value_counts())\n",
    "\n",
    "# the 1600 images of the set 0, are equally classified => no problem of class unbalance\n",
    "# The 1600 images in the set 0 are evenly distributed across the 8 classes, with 200 images per class => no class imbalance\n",
    "# the 200 images of the set 1 are all classified as class 5\n",
    "# all the other 8 images are classified in ≠ classes\n",
    "# => ok, no evident problems in class imbalance"
   ]
  },
  {
   "cell_type": "markdown",
   "metadata": {
    "id": "7Vjnj4miDJFy"
   },
   "source": [
    "Now I add also the 2 images of the first 2 sets (the ones with MIxUp) to the list of image to remove."
   ]
  },
  {
   "cell_type": "code",
   "execution_count": null,
   "metadata": {
    "colab": {
     "base_uri": "https://localhost:8080/"
    },
    "executionInfo": {
     "elapsed": 205,
     "status": "ok",
     "timestamp": 1731332984554,
     "user": {
      "displayName": "Laura Moiana",
      "userId": "03513378093158623547"
     },
     "user_tz": -60
    },
    "id": "vUryfBNQqFHH",
    "outputId": "5467a08f-b31e-46b8-edc9-c3dd4b37929c"
   },
   "outputs": [],
   "source": [
    "print(image_to_maintain[0]) # print to read the indixes\n",
    "print(image_to_maintain[1])\n",
    "indices_to_remove.append(12759) # add both to the list to remove\n",
    "indices_to_remove.append(13559)"
   ]
  },
  {
   "cell_type": "code",
   "execution_count": null,
   "metadata": {
    "colab": {
     "base_uri": "https://localhost:8080/"
    },
    "executionInfo": {
     "elapsed": 231,
     "status": "ok",
     "timestamp": 1731332988348,
     "user": {
      "displayName": "Laura Moiana",
      "userId": "03513378093158623547"
     },
     "user_tz": -60
    },
    "id": "FK0HwPGTmPbu",
    "outputId": "f82139b3-4693-48cb-f06d-815995e2319a"
   },
   "outputs": [],
   "source": [
    "# just to check: print the length of \"indices_to_remove\"\n",
    "print(len(indices_to_remove))\n",
    "# 1816-8 =1808 => ok"
   ]
  },
  {
   "cell_type": "code",
   "execution_count": null,
   "metadata": {
    "colab": {
     "base_uri": "https://localhost:8080/"
    },
    "executionInfo": {
     "elapsed": 410,
     "status": "ok",
     "timestamp": 1731332997662,
     "user": {
      "displayName": "Laura Moiana",
      "userId": "03513378093158623547"
     },
     "user_tz": -60
    },
    "id": "b9NO023qzgp_",
    "outputId": "0315c2a7-e31e-462f-bc34-da1a26195644"
   },
   "outputs": [],
   "source": [
    "# REMOVE DUPLICATED IMAGES\n",
    "# Deleate duplicated images and the corresponded labels.\n",
    "\n",
    "indices_to_remove.sort(reverse=True)\n",
    "X_new = np.delete(X, indices_to_remove, axis=0)\n",
    "y_new = np.delete(y, indices_to_remove, axis=0)\n",
    "\n",
    "print(f\"Numero di immagini dopo la rimozione: {len(X_new)}\")"
   ]
  },
  {
   "cell_type": "code",
   "execution_count": null,
   "metadata": {
    "colab": {
     "base_uri": "https://localhost:8080/"
    },
    "executionInfo": {
     "elapsed": 3376,
     "status": "ok",
     "timestamp": 1731333023589,
     "user": {
      "displayName": "Laura Moiana",
      "userId": "03513378093158623547"
     },
     "user_tz": -60
    },
    "id": "5V5PIfbbGcOd",
    "outputId": "3f4166a1-1e0c-49ae-e87f-42f2015cdc1c"
   },
   "outputs": [],
   "source": [
    "# Save the new dataset\n",
    "save_path = \"/gdrive/MyDrive/[2024-2025] AN2DL/Homework 1/images_new2.npz\"\n",
    "np.savez(save_path, X_new=X_new, y_new=y_new) # save as .npz\n",
    "print(f\"X_new e y_new salvati in: {save_path}\")"
   ]
  },
  {
   "cell_type": "markdown",
   "metadata": {
    "id": "Ml96MUv_FgXW"
   },
   "source": [
    "Load pre-processed data"
   ]
  },
  {
   "cell_type": "code",
   "execution_count": null,
   "metadata": {
    "colab": {
     "base_uri": "https://localhost:8080/"
    },
    "executionInfo": {
     "elapsed": 4522,
     "status": "ok",
     "timestamp": 1732291080477,
     "user": {
      "displayName": "Laura Moiana",
      "userId": "03513378093158623547"
     },
     "user_tz": -60
    },
    "id": "hKlsaq_qHA2w",
    "outputId": "c68a3486-bb83-4fe3-8bd1-25b5741ec484"
   },
   "outputs": [],
   "source": [
    "# Load X_new e y_new from the file .npz\n",
    "data = np.load(\"/gdrive/MyDrive/[2024-2025] AN2DL/Homework 1/images_new2.npz\")\n",
    "\n",
    "X = data['X_new']\n",
    "y = data['y_new']\n",
    "\n",
    "print(f\"X_new caricato con {X.shape[0]} immagini\")\n",
    "print(f\"y_new caricato con {y.shape[0]} labels\")"
   ]
  },
  {
   "cell_type": "code",
   "execution_count": null,
   "metadata": {
    "colab": {
     "base_uri": "https://localhost:8080/"
    },
    "executionInfo": {
     "elapsed": 3,
     "status": "ok",
     "timestamp": 1732291080478,
     "user": {
      "displayName": "Laura Moiana",
      "userId": "03513378093158623547"
     },
     "user_tz": -60
    },
    "id": "0q8shuGsfKed",
    "outputId": "2ad46fdb-1b84-4635-82a8-f3a4cd21a7bb"
   },
   "outputs": [],
   "source": [
    "# Inspect the target\n",
    "print('Counting occurrences of target classes:')\n",
    "print(pd.DataFrame(y, columns=['digit'])['digit'].value_counts())"
   ]
  },
  {
   "cell_type": "markdown",
   "metadata": {
    "id": "cQCrFOVmLR4m"
   },
   "source": [
    "## 🔎 Inspect dataset"
   ]
  },
  {
   "cell_type": "code",
   "execution_count": null,
   "metadata": {
    "colab": {
     "base_uri": "https://localhost:8080/"
    },
    "executionInfo": {
     "elapsed": 391,
     "status": "ok",
     "timestamp": 1732291082600,
     "user": {
      "displayName": "Laura Moiana",
      "userId": "03513378093158623547"
     },
     "user_tz": -60
    },
    "id": "qK3tDrxPLq-P",
    "outputId": "50f64f21-5ac4-4651-eaf3-a481fe4754e4"
   },
   "outputs": [],
   "source": [
    "labels = {0:'Basophil', 1:'Eosinophil', 2:'Erythroblast', 3:'Immature granulocytes', 4:'Lymphocyte', 5:'Monocyte', 6:'Neutrophil', 7:'Platelet'}\n",
    "unique_labels = list(labels.values())\n",
    "unique_labels"
   ]
  },
  {
   "cell_type": "code",
   "execution_count": null,
   "metadata": {
    "colab": {
     "base_uri": "https://localhost:8080/"
    },
    "executionInfo": {
     "elapsed": 3,
     "status": "ok",
     "timestamp": 1732291084548,
     "user": {
      "displayName": "Laura Moiana",
      "userId": "03513378093158623547"
     },
     "user_tz": -60
    },
    "id": "DP2u4QRAMklY",
    "outputId": "7d923175-e637-40b3-f2ff-a51f3b8b4dc2"
   },
   "outputs": [],
   "source": [
    "# TRAIN - TEST SPLIT\n",
    "# Split the data into training and validation sets (80% train, 20% val/test)\n",
    "X_train, X_val, y_train, y_val = train_test_split(X, y, test_size=0.2, random_state=42, stratify=y)\n",
    "\n",
    "# Print the shapes of the loaded datasets\n",
    "print(\"Training Data Shape:\", X_train.shape)\n",
    "print(\"Training Label Shape:\", y_train.shape)\n",
    "print(\"validation Data Shape:\", X_val.shape)\n",
    "print(\"validation Label Shape:\", y_val.shape)"
   ]
  },
  {
   "cell_type": "code",
   "execution_count": null,
   "metadata": {
    "colab": {
     "base_uri": "https://localhost:8080/",
     "height": 131
    },
    "executionInfo": {
     "elapsed": 4347,
     "status": "ok",
     "timestamp": 1732200668909,
     "user": {
      "displayName": "Laura Moiana",
      "userId": "03513378093158623547"
     },
     "user_tz": -60
    },
    "id": "xp8FVnfnMmaI",
    "outputId": "15c1fb2a-bdeb-4ee1-d02a-d67650e482d7"
   },
   "outputs": [],
   "source": [
    "# DISPLAY SOME EXAMPLES\n",
    "# Display a sample of images from the training dataset\n",
    "num_img = 10\n",
    "random_indices = random.sample(range(len(X_train)), num_img)\n",
    "\n",
    "fig, axes = plt.subplots(1, num_img, figsize=(20, 20))\n",
    "\n",
    "# Iterate through the selected number of images\n",
    "for i, idx in enumerate(random_indices):\n",
    "    ax = axes[i % num_img]\n",
    "    ax.imshow(np.squeeze(X_train[idx]), vmin=0., vmax=1.)\n",
    "    ax.set_title(f'{y_train[idx]}')\n",
    "    ax.axis('off')\n",
    "\n",
    "# Adjust layout and display the images\n",
    "plt.tight_layout()\n",
    "plt.show()"
   ]
  },
  {
   "cell_type": "markdown",
   "metadata": {
    "id": "B3BpqzRkNdhZ"
   },
   "source": [
    "## 🔧 Prepare dataset"
   ]
  },
  {
   "cell_type": "markdown",
   "metadata": {
    "id": "eAveFzuCAJuV"
   },
   "source": [
    " I transform both the training and the validation sets in dictionaries, containing both the images and the labels. This is required in order to apply augmentations that modify also the labels (ex: MixUp, CutMix)."
   ]
  },
  {
   "cell_type": "code",
   "execution_count": null,
   "metadata": {
    "id": "3NcLUST7NdCf"
   },
   "outputs": [],
   "source": [
    "NUM_CLASSES = 8   # n of classes\n",
    "BATCH_SIZE = 32   # divide in batch sizes\n",
    "\n",
    "# transform in a dictionary and change the labels in one-hot-encoded\n",
    "def package_inputs(image, label):\n",
    "    return {\"images\": image, \"labels\": tf.one_hot(label, NUM_CLASSES)}\n",
    "\n",
    "\n",
    "# put X_train and y_train in a dictionary \"train_ds\"\n",
    "train_ds = tf.data.Dataset.from_tensor_slices((X_train, y_train))\n",
    "train_ds = train_ds.map(lambda image, label: package_inputs(image, label), num_parallel_calls=tf.data.AUTOTUNE)\n",
    "train_ds = train_ds.shuffle(buffer_size=BATCH_SIZE * 16) #  mescoliamo i dati (shuffle)\n",
    "\n",
    "# put X_val and y_val in a dictionary \"val_ds\"\n",
    "val_ds = tf.data.Dataset.from_tensor_slices((X_val, y_val))\n",
    "val_ds = val_ds.map(lambda image, label:package_inputs(image, label), num_parallel_calls=tf.data.AUTOTUNE)\n",
    "train_ds = train_ds.batch(BATCH_SIZE)# create batch"
   ]
  },
  {
   "cell_type": "code",
   "execution_count": null,
   "metadata": {
    "colab": {
     "base_uri": "https://localhost:8080/"
    },
    "executionInfo": {
     "elapsed": 491,
     "status": "ok",
     "timestamp": 1732291088516,
     "user": {
      "displayName": "Laura Moiana",
      "userId": "03513378093158623547"
     },
     "user_tz": -60
    },
    "id": "FPWeDlfmNV97",
    "outputId": "ee29a47d-8694-4e61-ac56-28dd1bcf3c4c"
   },
   "outputs": [],
   "source": [
    "for batch in train_ds.take(1):  # take a batch as example\n",
    "    print(batch[\"images\"].shape)\n",
    "    print(batch[\"labels\"].shape)\n",
    "\n",
    "# images: (BATCH_SIZE, Height, Width, Channel)\n",
    "# labels: (BATCH_SIZE, NUM_CLASSES)"
   ]
  },
  {
   "cell_type": "code",
   "execution_count": null,
   "metadata": {
    "colab": {
     "base_uri": "https://localhost:8080/",
     "height": 594
    },
    "executionInfo": {
     "elapsed": 4676,
     "status": "ok",
     "timestamp": 1732291093191,
     "user": {
      "displayName": "Laura Moiana",
      "userId": "03513378093158623547"
     },
     "user_tz": -60
    },
    "id": "Gd8VpSdtPjRP",
    "outputId": "3aa52b56-d945-4501-9c09-d8bb6e1a7fd6"
   },
   "outputs": [],
   "source": [
    "# Print examples\n",
    "batch = next(iter(train_ds.take(1)))\n",
    "label_batch = batch[\"labels\"]\n",
    "image_batch = batch[\"images\"].numpy()\n",
    "\n",
    "keras_cv.visualization.plot_image_gallery(\n",
    "    image_batch,\n",
    "    rows=3,\n",
    "    cols=3,\n",
    "    value_range=(0, 255),\n",
    "    show=True,\n",
    ")\n"
   ]
  },
  {
   "cell_type": "markdown",
   "metadata": {
    "id": "n0H3LL1cPoS5"
   },
   "source": [
    "## 🎨 Augmentation"
   ]
  },
  {
   "cell_type": "markdown",
   "metadata": {
    "id": "qIsDt3ErSM7x"
   },
   "source": [
    "**1) Random Flip:**\n",
    "Flips the image horizontally or vertically to create mirror images. Help the model to generalize better to different orientations."
   ]
  },
  {
   "cell_type": "code",
   "execution_count": null,
   "metadata": {
    "colab": {
     "base_uri": "https://localhost:8080/",
     "height": 594
    },
    "executionInfo": {
     "elapsed": 2252,
     "status": "ok",
     "timestamp": 1732291095440,
     "user": {
      "displayName": "Laura Moiana",
      "userId": "03513378093158623547"
     },
     "user_tz": -60
    },
    "id": "nJuMFEnMP4NY",
    "outputId": "8a1be5d0-e41b-44c3-eb0d-1a9f34113855"
   },
   "outputs": [],
   "source": [
    "#RANDOM FLIP\n",
    "random_flip = keras_cv.layers.RandomFlip(seed=42)\n",
    "augmenters = [random_flip] # add random_flip to the pipeline of augmentation\n",
    "\n",
    "# print examples\n",
    "image_batch = random_flip(image_batch)\n",
    "keras_cv.visualization.plot_image_gallery(\n",
    "    image_batch,\n",
    "    rows=3,\n",
    "    cols=3,\n",
    "    value_range=(0, 255),\n",
    "    show=True,\n",
    ")"
   ]
  },
  {
   "cell_type": "markdown",
   "metadata": {
    "id": "1DdfFM2DSXZM"
   },
   "source": [
    "**2) Rand_Augment:** Applies a set of randomly chosen augmentation transformations from a predefined list (rotation, shear, translation, brightness, contrast, color, sharpness, posterize, solarize, autocontrast, equalize, invert) with a fixed number of transformations and magnitude.\n",
    "This method enhances image diversity and reduces the risk of overfitting by introducing random variations."
   ]
  },
  {
   "cell_type": "code",
   "execution_count": null,
   "metadata": {
    "colab": {
     "base_uri": "https://localhost:8080/",
     "height": 594
    },
    "executionInfo": {
     "elapsed": 3545,
     "status": "ok",
     "timestamp": 1732291098981,
     "user": {
      "displayName": "Laura Moiana",
      "userId": "03513378093158623547"
     },
     "user_tz": -60
    },
    "id": "FKkkRLRTP6oX",
    "outputId": "1cd0d53e-0c3e-4ad8-ec67-9e6e7cc521c6"
   },
   "outputs": [],
   "source": [
    "# RAND_AUGMENT\n",
    "\n",
    "rand_augment = keras_cv.layers.RandAugment(\n",
    "    augmentations_per_image=3,  # apply 3 of the possible augmentation for each image\n",
    "    value_range=(0, 255),\n",
    "    magnitude=0.3,  # apply augmentations with a magnitude of 0.3\n",
    "    magnitude_stddev=0.2, # and a standard deviation of 0.2\n",
    "    rate=0.8, # apply Rand_augment to 80% of the images\n",
    "    seed=42,\n",
    ")\n",
    "augmenters += [rand_augment] # add rand_augment to the pipeline of augmentation\n",
    "\n",
    "# print examples\n",
    "image_batch = rand_augment(image_batch)\n",
    "keras_cv.visualization.plot_image_gallery(\n",
    "    image_batch,\n",
    "    rows=3,\n",
    "    cols=3,\n",
    "    value_range=(0, 255),\n",
    "    show=True,\n",
    ")"
   ]
  },
  {
   "cell_type": "markdown",
   "metadata": {
    "id": "00UgR0V6WPDQ"
   },
   "source": [
    "**3) Random_cutout:** removes a random square or rectangular region from the image, replacing it with a constant value (usually black). This forces the model to rely on surrounding context and other features, improving its robustness to occluded parts."
   ]
  },
  {
   "cell_type": "code",
   "execution_count": null,
   "metadata": {
    "colab": {
     "base_uri": "https://localhost:8080/",
     "height": 594
    },
    "executionInfo": {
     "elapsed": 4125,
     "status": "ok",
     "timestamp": 1732291103102,
     "user": {
      "displayName": "Laura Moiana",
      "userId": "03513378093158623547"
     },
     "user_tz": -60
    },
    "id": "17jjaCGuP-Ys",
    "outputId": "ef15dcbf-d902-45ba-e9f8-7b844fdf6657"
   },
   "outputs": [],
   "source": [
    "# RANDOM_CUTOUT\n",
    "random_cutout = keras_cv.layers.RandomCutout(width_factor=0.4, height_factor=0.4, seed=42)\n",
    "\n",
    "# print examples\n",
    "keras_cv.visualization.plot_image_gallery(\n",
    "    random_cutout(image_batch),\n",
    "    rows=3,\n",
    "    cols=3,\n",
    "    value_range=(0, 255),\n",
    "    show=True,\n",
    ")"
   ]
  },
  {
   "cell_type": "markdown",
   "metadata": {
    "id": "7VTBKFSeXvby"
   },
   "source": [
    "**4) CutMix:** combines two training images  by cutting a rectangular patch from one image and pasting it onto another. The model is trained on the mixed image, and the labels are proportionally mixed based on the area of the patch => the model  generalize better"
   ]
  },
  {
   "cell_type": "code",
   "execution_count": null,
   "metadata": {
    "colab": {
     "base_uri": "https://localhost:8080/",
     "height": 594
    },
    "executionInfo": {
     "elapsed": 7,
     "status": "ok",
     "timestamp": 1732291103103,
     "user": {
      "displayName": "Laura Moiana",
      "userId": "03513378093158623547"
     },
     "user_tz": -60
    },
    "id": "yDuQXayBQADd",
    "outputId": "ef016cd9-3152-4032-87a0-a3fa651d3eb1"
   },
   "outputs": [],
   "source": [
    "# CUTMIX\n",
    "cut_mix = keras_cv.layers.CutMix(seed=42)\n",
    "\n",
    "# CutMix needs as input both images and labels in a tensorflow format\n",
    "\n",
    "# Convert numpy array in tensor of TensorFlow\n",
    "image_batch = tf.convert_to_tensor(image_batch)\n",
    "label_batch = tf.convert_to_tensor(label_batch)\n",
    "inputs = {\"images\": image_batch, \"labels\": label_batch}\n",
    "\n",
    "# print examples\n",
    "keras_cv.visualization.plot_image_gallery(\n",
    "    cut_mix(inputs)[\"images\"],\n",
    "    rows=3,\n",
    "    cols=3,\n",
    "    value_range=(0, 255),\n",
    "    show=True,\n",
    ")"
   ]
  },
  {
   "cell_type": "markdown",
   "metadata": {
    "id": "ezFzQE9SYTKO"
   },
   "source": [
    "**5) MixUp:** combines two images  by taking a weighted average of their pixel values and their corresponding labels. It results in a new image that is a blend of both inputs => prevents the model from overfitting to specific patterns in the training data."
   ]
  },
  {
   "cell_type": "code",
   "execution_count": null,
   "metadata": {
    "colab": {
     "base_uri": "https://localhost:8080/",
     "height": 594
    },
    "executionInfo": {
     "elapsed": 9,
     "status": "ok",
     "timestamp": 1732291106223,
     "user": {
      "displayName": "Laura Moiana",
      "userId": "03513378093158623547"
     },
     "user_tz": -60
    },
    "id": "hVK6i0HuQEXk",
    "outputId": "f5fb7903-8d24-4a99-e04f-06fb5fb8b8bc"
   },
   "outputs": [],
   "source": [
    "# MIXUP\n",
    "mix_up = keras_cv.layers.MixUp(seed=42)\n",
    "\n",
    "# MixUp needs as input both images and labels in a tensorflow format\n",
    "inputs = {\"images\": image_batch, \"labels\": label_batch}\n",
    "\n",
    "# print examples\n",
    "keras_cv.visualization.plot_image_gallery(\n",
    "    mix_up(inputs)[\"images\"],\n",
    "    rows=3,\n",
    "    cols=3,\n",
    "    value_range=(0, 255),\n",
    "    show=True,\n",
    ")"
   ]
  },
  {
   "cell_type": "code",
   "execution_count": null,
   "metadata": {
    "id": "M2ak0RzyQGvp"
   },
   "outputs": [],
   "source": [
    "# to apply to some batches cut mix and to other mix up\n",
    "cut_mix_or_mix_up = keras_cv.layers.RandomChoice([cut_mix, mix_up],seed=42, batchwise=True)\n",
    "augmenters += [cut_mix_or_mix_up]"
   ]
  },
  {
   "cell_type": "markdown",
   "metadata": {
    "id": "bnA5w6YEaP89"
   },
   "source": [
    "**=>** now that the Augmentation pipeline is done, we can apply it to train_ds"
   ]
  },
  {
   "cell_type": "code",
   "execution_count": null,
   "metadata": {
    "colab": {
     "base_uri": "https://localhost:8080/",
     "height": 594
    },
    "executionInfo": {
     "elapsed": 6287,
     "status": "ok",
     "timestamp": 1732291112505,
     "user": {
      "displayName": "Laura Moiana",
      "userId": "03513378093158623547"
     },
     "user_tz": -60
    },
    "id": "rLq263GIQIao",
    "outputId": "cb7a75d4-b38a-4fee-f6f5-c7affb067286"
   },
   "outputs": [],
   "source": [
    "# AUGMENTATION\n",
    "\n",
    "def create_augmenter_fn(augmenters): # take all the augmentations in the pipeline...\n",
    "    def augmenter_fn(inputs): # ... and apply each of them in sequence to the input\n",
    "        for augmenter in augmenters:\n",
    "            inputs = augmenter(inputs)\n",
    "        return inputs\n",
    "    return augmenter_fn\n",
    "\n",
    "# apply augmentation to train_ds\n",
    "# augmenters is a list of functions that apply transformations\n",
    "augmenter_fn = create_augmenter_fn(augmenters) # create the function of Augmentation based on \"augmenters\"\n",
    "train_ds = train_ds.map(augmenter_fn, num_parallel_calls=tf.data.AUTOTUNE) # applies the function to train_ds\n",
    "\n",
    "# print examples\n",
    "image_batch = next(iter(train_ds.take(1)))[\"images\"]\n",
    "keras_cv.visualization.plot_image_gallery(\n",
    "    image_batch,\n",
    "    rows=3,\n",
    "    cols=3,\n",
    "    value_range=(0, 255),\n",
    "    show=True,\n",
    ")"
   ]
  },
  {
   "cell_type": "code",
   "execution_count": null,
   "metadata": {
    "colab": {
     "base_uri": "https://localhost:8080/"
    },
    "executionInfo": {
     "elapsed": 8,
     "status": "ok",
     "timestamp": 1732291112505,
     "user": {
      "displayName": "Laura Moiana",
      "userId": "03513378093158623547"
     },
     "user_tz": -60
    },
    "id": "BSdte2QpQKpW",
    "outputId": "32018054-802a-4203-9b90-4a3287bac27c"
   },
   "outputs": [],
   "source": [
    "# check the shape of train_ds\n",
    "print(train_ds.element_spec)"
   ]
  },
  {
   "cell_type": "code",
   "execution_count": null,
   "metadata": {
    "colab": {
     "base_uri": "https://localhost:8080/"
    },
    "executionInfo": {
     "elapsed": 364,
     "status": "ok",
     "timestamp": 1732291112865,
     "user": {
      "displayName": "Laura Moiana",
      "userId": "03513378093158623547"
     },
     "user_tz": -60
    },
    "id": "oPPgcugFwgtY",
    "outputId": "d1f308aa-147f-49e0-c170-8635c3f46080"
   },
   "outputs": [],
   "source": [
    "# function of label preprocessing (they are in the format 32x32x8, but i want them in 32x1x8)\n",
    "# (32x32x8): - 32: is the number of elements in each batch;\n",
    "#            - 32: due to applying mixup/CutMix augmentations, each image in the batch has been mixed with another,\n",
    "#                 resulting in 32 labels for each image. These label vectors are not one-hot-encoded, but only hot-encoded\n",
    "#                 meaning that there are continuous values btw 0 and 1, representing the probability to belong to each class\n",
    "#            - 8 is the number of elements in this vector (the 8 classes)\n",
    "\n",
    "def preprocess_labels(batch): # sum along the axis 1 (I sum the probabilities to belong to each class)\n",
    "                              # => from (None, None, 8) to (None, 1, 8)\n",
    "    labels = batch['labels'] # extract a label from the batch\n",
    "    labels_reduced = tf.reduce_sum(labels, axis=1, keepdims=False) # collapse the 32 \"mixup\" labels into a single one\n",
    "\n",
    "    # now each element in the batch has 1 vector that corresponds to the class scores.\n",
    "    # we find the index of the class with the highest value (most dominant class)\n",
    "    indices = tf.argmax(labels_reduced, axis=1)  # (None,) --> one index for image\n",
    "\n",
    "    # transform in one-hot (with shape (None, 8))\n",
    "    labels_one_hot = tf.one_hot(indices, depth=8, axis=-1)  # (None, 8)\n",
    "\n",
    "    # update the disctionary with the new labels\n",
    "    batch['labels'] = labels_one_hot\n",
    "    return batch\n",
    "\n",
    "# apply the label pre-processing function to train_ds\n",
    "train_ds = train_ds.map(preprocess_labels, num_parallel_calls=tf.data.AUTOTUNE)\n",
    "\n",
    "# check new shape\n",
    "for batch in train_ds.take(1):\n",
    "    print(batch['images'].shape)  # (None, 96, 96, 3)\n",
    "    print(batch['labels'].shape)  # (None, 8) => ok\n"
   ]
  },
  {
   "cell_type": "code",
   "execution_count": null,
   "metadata": {
    "id": "_Clj5Uy60bzX"
   },
   "outputs": [],
   "source": [
    "# transform train_ds from a dictionary to a tupla (the model want a tupla as input)\n",
    "def unpackage_dict(inputs):\n",
    "    return inputs[\"images\"], inputs[\"labels\"]\n",
    "\n",
    "train_ds = train_ds.map(unpackage_dict, num_parallel_calls=tf.data.AUTOTUNE)  # apply unpackage_dict to train_ds"
   ]
  },
  {
   "cell_type": "code",
   "execution_count": null,
   "metadata": {
    "colab": {
     "base_uri": "https://localhost:8080/"
    },
    "executionInfo": {
     "elapsed": 2,
     "status": "ok",
     "timestamp": 1732291113227,
     "user": {
      "displayName": "Laura Moiana",
      "userId": "03513378093158623547"
     },
     "user_tz": -60
    },
    "id": "w5BOsz6n0W1j",
    "outputId": "eda1a33e-d748-4a65-907c-03c3857b736b"
   },
   "outputs": [],
   "source": [
    "# check the shape of train_ds\n",
    "print(train_ds.element_spec)"
   ]
  },
  {
   "cell_type": "code",
   "execution_count": null,
   "metadata": {
    "colab": {
     "base_uri": "https://localhost:8080/"
    },
    "executionInfo": {
     "elapsed": 3,
     "status": "ok",
     "timestamp": 1732291114960,
     "user": {
      "displayName": "Laura Moiana",
      "userId": "03513378093158623547"
     },
     "user_tz": -60
    },
    "id": "rP8m57N834VC",
    "outputId": "d220620f-9b9f-4b8d-f79e-0f9b6ff52835"
   },
   "outputs": [],
   "source": [
    "# check the shape of val_ds\n",
    "print(val_ds.element_spec)"
   ]
  },
  {
   "cell_type": "code",
   "execution_count": null,
   "metadata": {
    "id": "1XDwJW8IPvZk"
   },
   "outputs": [],
   "source": [
    "# RESIZE\n",
    "# Xceptionet takes as input images of shape 299x299\n",
    "def resize_image(image, label):\n",
    "    image = tf.image.resize(image, (299, 299))  # reshape\n",
    "    return image, label\n",
    "\n",
    "train_ds = train_ds.map(resize_image) # reshape train_ds\n",
    "val_ds = val_ds.map(lambda x: resize_image(x['images'], x['labels']), num_parallel_calls=tf.data.AUTOTUNE) # reshape val_ds"
   ]
  },
  {
   "cell_type": "code",
   "execution_count": null,
   "metadata": {
    "id": "GVgjkj0U13FA"
   },
   "outputs": [],
   "source": [
    "# NORMALIZATION\n",
    "# depending on the model we used, we applied ≠ types of normalization\n",
    "def normalize_image(image, label):\n",
    "    image = tf.cast(image, tf.float32) / 255.0\n",
    "    return image, label\n",
    "\n",
    "train_ds = train_ds.map(normalize_image, num_parallel_calls=tf.data.AUTOTUNE) # normalize train_ds\n",
    "val_ds = val_ds.map(normalize_image, num_parallel_calls=tf.data.AUTOTUNE) # normalize val_ds"
   ]
  },
  {
   "cell_type": "code",
   "execution_count": null,
   "metadata": {
    "id": "9_GBADUv5C0h"
   },
   "outputs": [],
   "source": [
    "# val_ds hasn't batch now, but i want the same structure of train_ds\n",
    "# => create batch in val_ds\n",
    "val_ds = val_ds.batch(BATCH_SIZE)"
   ]
  },
  {
   "cell_type": "code",
   "execution_count": null,
   "metadata": {
    "id": "P1BX1Kyh6UtL"
   },
   "outputs": [],
   "source": [
    "# val_ds shape is (32x1x8), but i want (32x8) => remove extra dimension\n",
    "def reshape_labels(images, labels):\n",
    "    labels = tf.squeeze(labels, axis=1)  # Rimuove la dimensione 1 dai labels\n",
    "    return images, labels\n",
    "\n",
    "val_ds = val_ds.map(lambda x, y: reshape_labels(x, y), num_parallel_calls=tf.data.AUTOTUNE) # reshape vaL_ds"
   ]
  },
  {
   "cell_type": "markdown",
   "metadata": {
    "id": "sg9U9iDWEY1M"
   },
   "source": [
    "Since we have seen that the dataset is quite unbalanced we decided to calculate class weights to be multiplied to the loss function. In the training, the model will give more importance to the errors coming from samples that are weighted more, that are those belonging to less represented classes."
   ]
  },
  {
   "cell_type": "code",
   "execution_count": null,
   "metadata": {
    "id": "CNev3xp4P3Ot"
   },
   "outputs": [],
   "source": [
    "counts = tf.zeros((8,), dtype=tf.float32) #initialize the counts variable\n",
    "for batch in train_ds: #for batch\n",
    "  counts += tf.reduce_sum(batch[1], axis=0) #sum the appearances for each class\n",
    "\n",
    "total = tf.reduce_sum(counts) #calculate the total of the samples"
   ]
  },
  {
   "cell_type": "code",
   "execution_count": null,
   "metadata": {
    "colab": {
     "base_uri": "https://localhost:8080/"
    },
    "executionInfo": {
     "elapsed": 12,
     "status": "ok",
     "timestamp": 1732285511549,
     "user": {
      "displayName": "Laura Moiana",
      "userId": "03513378093158623547"
     },
     "user_tz": -60
    },
    "id": "aWirxwncWRpJ",
    "outputId": "5e57e233-8af3-4951-b537-0a6f00020a63"
   },
   "outputs": [],
   "source": [
    "total = total.numpy() #reduce to a scalar\n",
    "total"
   ]
  },
  {
   "cell_type": "code",
   "execution_count": null,
   "metadata": {
    "id": "a2B3ZrCMQVh1"
   },
   "outputs": [],
   "source": [
    "#each class weight is the total of the samples divided by the number of samples for that class\n",
    "class_weights = {\n",
    "    0: total/counts[0].numpy(),\n",
    "    1: total/counts[1].numpy(),\n",
    "    2: total/counts[2].numpy(),\n",
    "    3: total/counts[3].numpy(),\n",
    "    4: total/counts[4].numpy(),\n",
    "    5: total/counts[5].numpy(),\n",
    "    6: total/counts[6].numpy(),\n",
    "    7: total/counts[7].numpy()\n",
    "}"
   ]
  },
  {
   "cell_type": "code",
   "execution_count": null,
   "metadata": {
    "colab": {
     "base_uri": "https://localhost:8080/"
    },
    "executionInfo": {
     "elapsed": 6,
     "status": "ok",
     "timestamp": 1732285511549,
     "user": {
      "displayName": "Laura Moiana",
      "userId": "03513378093158623547"
     },
     "user_tz": -60
    },
    "id": "SEaRlJQzRuAX",
    "outputId": "2b50aa4d-cfbf-41c4-fb49-c339f155cbce"
   },
   "outputs": [],
   "source": [
    "'''Normalization of the weights was performed to ensure their mean equals 1. This choice was made to prevent altering the total error\n",
    "when the weights are applied to the loss, maintaining consistency in the overall scale of the error.'''\n",
    "normalized_class_weights = {k: v / np.mean(np.asarray(list(class_weights.values()))) for k, v in class_weights.items()}\n",
    "normalized_class_weights"
   ]
  },
  {
   "cell_type": "markdown",
   "metadata": {
    "id": "iXNuQf4danpz"
   },
   "source": [
    "## 🔄 Model Training"
   ]
  },
  {
   "cell_type": "markdown",
   "metadata": {
    "id": "i6O-PBMrLK7I"
   },
   "source": [
    "We have test different models: VGG16, Xception, EfficientNetB7, ResNet101. The pipeline is the same, changes only the pre-processing needed (resize, normalization) and the pre-trained model that is imported."
   ]
  },
  {
   "cell_type": "markdown",
   "metadata": {
    "id": "8S_yIyWkbH5e"
   },
   "source": [
    "Extraction of input and output shape to build the model"
   ]
  },
  {
   "cell_type": "code",
   "execution_count": null,
   "metadata": {
    "colab": {
     "base_uri": "https://localhost:8080/"
    },
    "executionInfo": {
     "elapsed": 4,
     "status": "ok",
     "timestamp": 1732285517011,
     "user": {
      "displayName": "Laura Moiana",
      "userId": "03513378093158623547"
     },
     "user_tz": -60
    },
    "id": "c232WqnKam6D",
    "outputId": "e8b3f460-ca88-4dcd-a20d-ae25e0f6e4f6"
   },
   "outputs": [],
   "source": [
    "# Input shape for the model\n",
    "#input_shape = X_train.shape[1:]\n",
    "input_shape = (299,299,3)   # it changes depending on the model\n",
    "\n",
    "# Output shape for the model\n",
    "y_train = tfk.utils.to_categorical(y_train)\n",
    "output_shape = y_train.shape[1]\n",
    "\n",
    "print(\"Input Shape:\", input_shape)\n",
    "print(\"Output Shape:\", output_shape)"
   ]
  },
  {
   "cell_type": "code",
   "execution_count": null,
   "metadata": {
    "id": "WGO6vuWIbJm8"
   },
   "outputs": [],
   "source": [
    "# Number of training epochs\n",
    "epochs = 150\n",
    "\n",
    "# Batch size for training\n",
    "batch_size = 16\n",
    "\n",
    "# Learning rate: step size for updating the model's weights\n",
    "initial_learning_rate = 0.001\n",
    "lr_schedule = tf.keras.optimizers.schedules.ExponentialDecay(\n",
    "    initial_learning_rate,    # initial learning rate\n",
    "    decay_steps=5000,         # number of steps in which the decay is applied\n",
    "    decay_rate=0.7,           # decay factor\n",
    "    staircase=True            # staircase decay\n",
    ")"
   ]
  },
  {
   "cell_type": "code",
   "execution_count": null,
   "metadata": {
    "colab": {
     "base_uri": "https://localhost:8080/"
    },
    "executionInfo": {
     "elapsed": 268,
     "status": "ok",
     "timestamp": 1732133086296,
     "user": {
      "displayName": "Matteo Missana",
      "userId": "04302314732838947234"
     },
     "user_tz": -60
    },
    "id": "CJ0aQMjB8OWx",
    "outputId": "8df21bdd-14dd-4e1a-de80-8371b837dc64"
   },
   "outputs": [],
   "source": [
    "%cd https://www.youtube.com/watch?v=dQw4w9WgXcQ #insert the path in which you want to save the model weights"
   ]
  },
  {
   "cell_type": "code",
   "execution_count": null,
   "metadata": {
    "id": "zMJEnw_NaKmo"
   },
   "outputs": [],
   "source": [
    "# Define the patience value for early stopping\n",
    "patience = 15 #configs['earlystopping_patience']\n",
    "\n",
    "# Create an EarlyStopping callback\n",
    "early_stopping = tfk.callbacks.EarlyStopping(\n",
    "    monitor='val_categorical_accuracy',\n",
    "    mode='max',\n",
    "    patience=patience,\n",
    "    restore_best_weights=True\n",
    ")\n",
    "\n",
    "# Store the callback in a list\n",
    "callbacks = [early_stopping]"
   ]
  },
  {
   "cell_type": "markdown",
   "metadata": {
    "id": "Vs3DHSYTNiU7"
   },
   "source": [
    "### basic CNN (5 convolutional layer)"
   ]
  },
  {
   "cell_type": "code",
   "execution_count": null,
   "metadata": {
    "id": "aV6nrcsDeEle"
   },
   "outputs": [],
   "source": [
    "seed=42\n",
    "def build_model(\n",
    "    input_shape=input_shape,\n",
    "    output_shape=output_shape,\n",
    "    learning_rate=lr_schedule,\n",
    "    augmentation=None,\n",
    "    seed=seed\n",
    "):\n",
    "    # Set the random seed for reproducibility\n",
    "    tf.random.set_seed(seed)\n",
    "\n",
    "    # Define the input layer\n",
    "    input_layer = tfkl.Input(shape=input_shape, name='Input')\n",
    "\n",
    "    # Apply optional data augmentation, then first convolutional layer\n",
    "    if augmentation == None:\n",
    "        x = tfkl.Conv2D(filters=16, kernel_size=3, padding='same', name='conv0')(input_layer)\n",
    "    else:\n",
    "        x = augmentation(input_layer)\n",
    "        x = tfkl.Conv2D(filters=16, kernel_size=3, padding='same', name='conv0')(x)\n",
    "\n",
    "    # Apply activation and pooling after the first convolution\n",
    "    x = tfkl.ReLU(name='relu0')(x)\n",
    "    x = tfkl.MaxPooling2D(name='mp0')(x)\n",
    "\n",
    "    # Apply second convolutional layer, activation, and pooling\n",
    "    x = tfkl.Conv2D(filters=32, kernel_size=3, padding='same', name='conv1')(x)\n",
    "    x = tfkl.ReLU(name='relu1')(x)\n",
    "    x = tfkl.MaxPooling2D(name='mp1')(x)\n",
    "\n",
    "    # Apply third convolutional layer, activation, and pooling\n",
    "    x = tfkl.Conv2D(filters=64, kernel_size=3, padding='same', name='conv2')(x)\n",
    "    x = tfkl.ReLU(name='relu2')(x)\n",
    "    x = tfkl.MaxPooling2D(name='mp2')(x)\n",
    "\n",
    "    # Apply fourth convolutional layer, activation, and pooling\n",
    "    x = tfkl.Conv2D(filters=128, kernel_size=3, padding='same', name='conv3')(x)\n",
    "    x = tfkl.ReLU(name='relu3')(x)\n",
    "    x = tfkl.MaxPooling2D(name='mp3')(x)\n",
    "\n",
    "    # Apply fifth convolutional layer, activation, and pooling\n",
    "    x = tfkl.Conv2D(filters=256, kernel_size=3, padding='same', name='conv4')(x)\n",
    "    x = tfkl.ReLU(name='relu4')(x)\n",
    "    x = tfkl.Flatten(name='flatten')(x)\n",
    "\n",
    "    # Define the output layer with softmax activation for classification\n",
    "    output_layer = tfkl.Dense(units=output_shape, activation='softmax', name='Output')(x)\n",
    "\n",
    "    # Create the model\n",
    "    model = tfk.Model(inputs=input_layer, outputs=output_layer, name='CNN')\n",
    "\n",
    "    # Compile the model\n",
    "    #loss = tfk.losses.CategoricalCrossentropy()\n",
    "    loss=tf.keras.losses.CategoricalCrossentropy(label_smoothing=0.1)   # smoothing to prevent overfitting due to MixUp e CutMix\n",
    "    #optimizer = tfk.optimizers.Adam(learning_rate)\n",
    "    optimizer = tf.keras.optimizers.SGD(learning_rate, momentum=0.9)\n",
    "    metrics=[tf.keras.metrics.CategoricalAccuracy(), tf.keras.metrics.TopKCategoricalAccuracy(k=5)]\n",
    "    model.compile(loss=loss, optimizer=optimizer, metrics=metrics)\n",
    "\n",
    "    # Return the compiled model\n",
    "    return model"
   ]
  },
  {
   "cell_type": "code",
   "execution_count": null,
   "metadata": {
    "colab": {
     "base_uri": "https://localhost:8080/",
     "height": 1000
    },
    "executionInfo": {
     "elapsed": 3166,
     "status": "ok",
     "timestamp": 1732439104043,
     "user": {
      "displayName": "Laura Moiana",
      "userId": "03513378093158623547"
     },
     "user_tz": -60
    },
    "id": "YkA6qI8LeElt",
    "outputId": "2a398967-5872-47a9-f95d-3466dcbf3649"
   },
   "outputs": [],
   "source": [
    "# Build the model with specified input and output shapes\n",
    "model = build_model()\n",
    "#model = build_model(input_shape=input_shape, output_shape=output_shape, learning_rate=learning_rate)\n",
    "\n",
    "# Display a summary of the model architecture\n",
    "model.summary(expand_nested=True, show_trainable=True)\n",
    "\n",
    "# Plot the model architecture\n",
    "tfk.utils.plot_model(model, expand_nested=True, show_trainable=True, show_shapes=True, dpi=70)"
   ]
  },
  {
   "cell_type": "code",
   "execution_count": null,
   "metadata": {
    "id": "xhG4g-VDwLT1"
   },
   "outputs": [],
   "source": [
    "# Train the model with early stopping callback\n",
    "#model.fit(augmented_data['images'], augmented_data['labels'], epochs=10, batch_size=32)\n",
    "history = model.fit(\n",
    "    train_ds,\n",
    "    batch_size=batch_size,\n",
    "    epochs=epochs,\n",
    "    validation_data=val_ds,\n",
    "    callbacks=callbacks\n",
    ").history\n",
    "\n",
    "# Calculate and print the final validation accuracy\n",
    "final_val_accuracy = round(max(history['val_categorical_accuracy'])* 100, 2)\n",
    "print(f'Final validation accuracy: {final_val_accuracy}%')\n",
    "\n",
    "# Save the trained model to a file with the accuracy included in the filename\n",
    "model_filename = 'CNN_'+str(final_val_accuracy)+'.keras'\n",
    "model.save(model_filename)\n",
    "\n",
    "del model"
   ]
  },
  {
   "cell_type": "code",
   "execution_count": null,
   "metadata": {
    "id": "OuGShJTaJ64q"
   },
   "outputs": [],
   "source": [
    "Epoch 1/200\n",
    "299/299 ━━━━━━━━━━━━━━━━━━━━ 37s 108ms/step - categorical_accuracy: 0.1794 - loss: 2.0373 - top_k_categorical_accuracy: 0.7526 - val_categorical_accuracy: 0.1957 - val_loss: 2.0094 - val_top_k_categorical_accuracy: 0.7595\n",
    "Epoch 2/200\n",
    "299/299 ━━━━━━━━━━━━━━━━━━━━ 25s 75ms/step - categorical_accuracy: 0.1950 - loss: 2.0142 - top_k_categorical_accuracy: 0.7833 - val_categorical_accuracy: 0.1957 - val_loss: 1.9880 - val_top_k_categorical_accuracy: 0.7595\n",
    "Epoch 3/200\n",
    "299/299 ━━━━━━━━━━━━━━━━━━━━ 24s 77ms/step - categorical_accuracy: 0.1968 - loss: 2.0081 - top_k_categorical_accuracy: 0.7808 - val_categorical_accuracy: 0.3003 - val_loss: 1.9503 - val_top_k_categorical_accuracy: 0.8223\n",
    "Epoch 4/200\n",
    "299/299 ━━━━━━━━━━━━━━━━━━━━ 25s 78ms/step - categorical_accuracy: 0.2312 - loss: 1.9957 - top_k_categorical_accuracy: 0.7894 - val_categorical_accuracy: 0.4145 - val_loss: 1.8473 - val_top_k_categorical_accuracy: 0.9009\n",
    "Epoch 5/200\n",
    "299/299 ━━━━━━━━━━━━━━━━━━━━ 24s 76ms/step - categorical_accuracy: 0.2434 - loss: 1.9765 - top_k_categorical_accuracy: 0.8029 - val_categorical_accuracy: 0.3300 - val_loss: 1.8007 - val_top_k_categorical_accuracy: 0.9628\n",
    "Epoch 6/200\n",
    "299/299 ━━━━━━━━━━━━━━━━━━━━ 42s 137ms/step - categorical_accuracy: 0.2453 - loss: 1.9632 - top_k_categorical_accuracy: 0.8099 - val_categorical_accuracy: 0.4417 - val_loss: 1.7067 - val_top_k_categorical_accuracy: 0.9808\n",
    "Epoch 7/200\n",
    "299/299 ━━━━━━━━━━━━━━━━━━━━ 24s 76ms/step - categorical_accuracy: 0.2503 - loss: 1.9609 - top_k_categorical_accuracy: 0.8189 - val_categorical_accuracy: 0.5362 - val_loss: 1.6577 - val_top_k_categorical_accuracy: 0.9808\n",
    "Epoch 8/200\n",
    "299/299 ━━━━━━━━━━━━━━━━━━━━ 24s 76ms/step - categorical_accuracy: 0.2613 - loss: 1.9514 - top_k_categorical_accuracy: 0.8212 - val_categorical_accuracy: 0.4613 - val_loss: 1.6241 - val_top_k_categorical_accuracy: 0.9829\n",
    "Epoch 9/200\n",
    "299/299 ━━━━━━━━━━━━━━━━━━━━ 25s 78ms/step - categorical_accuracy: 0.2632 - loss: 1.9467 - top_k_categorical_accuracy: 0.8270 - val_categorical_accuracy: 0.5437 - val_loss: 1.5505 - val_top_k_categorical_accuracy: 0.9833\n",
    "Epoch 10/200\n",
    "299/299 ━━━━━━━━━━━━━━━━━━━━ 25s 78ms/step - categorical_accuracy: 0.2774 - loss: 1.9303 - top_k_categorical_accuracy: 0.8296 - val_categorical_accuracy: 0.6064 - val_loss: 1.6008 - val_top_k_categorical_accuracy: 0.9778\n",
    "Epoch 11/200\n",
    "299/299 ━━━━━━━━━━━━━━━━━━━━ 24s 77ms/step - categorical_accuracy: 0.2935 - loss: 1.9189 - top_k_categorical_accuracy: 0.8306 - val_categorical_accuracy: 0.6290 - val_loss: 1.5269 - val_top_k_categorical_accuracy: 0.9787\n",
    "Epoch 12/200\n",
    "299/299 ━━━━━━━━━━━━━━━━━━━━ 24s 77ms/step - categorical_accuracy: 0.2973 - loss: 1.9057 - top_k_categorical_accuracy: 0.8408 - val_categorical_accuracy: 0.6386 - val_loss: 1.5089 - val_top_k_categorical_accuracy: 0.9808\n",
    "Epoch 13/200\n",
    "299/299 ━━━━━━━━━━━━━━━━━━━━ 25s 78ms/step - categorical_accuracy: 0.2987 - loss: 1.9106 - top_k_categorical_accuracy: 0.8323 - val_categorical_accuracy: 0.6713 - val_loss: 1.4271 - val_top_k_categorical_accuracy: 0.9808\n",
    "Epoch 14/200\n",
    "299/299 ━━━━━━━━━━━━━━━━━━━━ 25s 78ms/step - categorical_accuracy: 0.3129 - loss: 1.8872 - top_k_categorical_accuracy: 0.8510 - val_categorical_accuracy: 0.6320 - val_loss: 1.4237 - val_top_k_categorical_accuracy: 0.9816\n",
    "Epoch 15/200\n",
    "299/299 ━━━━━━━━━━━━━━━━━━━━ 25s 78ms/step - categorical_accuracy: 0.3232 - loss: 1.8820 - top_k_categorical_accuracy: 0.8436 - val_categorical_accuracy: 0.5847 - val_loss: 1.3736 - val_top_k_categorical_accuracy: 0.9824\n",
    "Epoch 16/200\n",
    "299/299 ━━━━━━━━━━━━━━━━━━━━ 42s 137ms/step - categorical_accuracy: 0.3220 - loss: 1.8831 - top_k_categorical_accuracy: 0.8411 - val_categorical_accuracy: 0.5893 - val_loss: 1.3891 - val_top_k_categorical_accuracy: 0.9833\n",
    "Epoch 17/200\n",
    "299/299 ━━━━━━━━━━━━━━━━━━━━ 24s 77ms/step - categorical_accuracy: 0.3383 - loss: 1.8681 - top_k_categorical_accuracy: 0.8456 - val_categorical_accuracy: 0.6939 - val_loss: 1.3304 - val_top_k_categorical_accuracy: 0.9849\n",
    "Epoch 18/200\n",
    "299/299 ━━━━━━━━━━━━━━━━━━━━ 24s 76ms/step - categorical_accuracy: 0.3411 - loss: 1.8540 - top_k_categorical_accuracy: 0.8601 - val_categorical_accuracy: 0.6834 - val_loss: 1.3287 - val_top_k_categorical_accuracy: 0.9875\n",
    "Epoch 19/200\n",
    "299/299 ━━━━━━━━━━━━━━━━━━━━ 24s 77ms/step - categorical_accuracy: 0.3519 - loss: 1.8445 - top_k_categorical_accuracy: 0.8601 - val_categorical_accuracy: 0.7240 - val_loss: 1.2784 - val_top_k_categorical_accuracy: 0.9820\n",
    "Epoch 20/200\n",
    "299/299 ━━━━━━━━━━━━━━━━━━━━ 24s 77ms/step - categorical_accuracy: 0.3475 - loss: 1.8581 - top_k_categorical_accuracy: 0.8496 - val_categorical_accuracy: 0.6855 - val_loss: 1.3236 - val_top_k_categorical_accuracy: 0.9837\n",
    "Epoch 21/200\n",
    "299/299 ━━━━━━━━━━━━━━━━━━━━ 24s 77ms/step - categorical_accuracy: 0.3579 - loss: 1.8424 - top_k_categorical_accuracy: 0.8561 - val_categorical_accuracy: 0.7340 - val_loss: 1.2989 - val_top_k_categorical_accuracy: 0.9833\n",
    "Epoch 22/200\n",
    "299/299 ━━━━━━━━━━━━━━━━━━━━ 24s 77ms/step - categorical_accuracy: 0.3551 - loss: 1.8465 - top_k_categorical_accuracy: 0.8551 - val_categorical_accuracy: 0.7762 - val_loss: 1.2221 - val_top_k_categorical_accuracy: 0.9891\n",
    "Epoch 23/200\n",
    "299/299 ━━━━━━━━━━━━━━━━━━━━ 24s 76ms/step - categorical_accuracy: 0.3553 - loss: 1.8440 - top_k_categorical_accuracy: 0.8542 - val_categorical_accuracy: 0.7650 - val_loss: 1.2256 - val_top_k_categorical_accuracy: 0.9879\n",
    "Epoch 24/200\n",
    "299/299 ━━━━━━━━━━━━━━━━━━━━ 25s 78ms/step - categorical_accuracy: 0.3678 - loss: 1.8242 - top_k_categorical_accuracy: 0.8522 - val_categorical_accuracy: 0.7712 - val_loss: 1.1646 - val_top_k_categorical_accuracy: 0.9925\n",
    "Epoch 25/200\n",
    "299/299 ━━━━━━━━━━━━━━━━━━━━ 24s 77ms/step - categorical_accuracy: 0.3789 - loss: 1.8187 - top_k_categorical_accuracy: 0.8578 - val_categorical_accuracy: 0.7353 - val_loss: 1.1493 - val_top_k_categorical_accuracy: 0.9946\n",
    "Epoch 26/200\n",
    "299/299 ━━━━━━━━━━━━━━━━━━━━ 42s 137ms/step - categorical_accuracy: 0.3821 - loss: 1.8148 - top_k_categorical_accuracy: 0.8594 - val_categorical_accuracy: 0.7875 - val_loss: 1.1492 - val_top_k_categorical_accuracy: 0.9941\n",
    "Epoch 27/200\n",
    "299/299 ━━━━━━━━━━━━━━━━━━━━ 24s 77ms/step - categorical_accuracy: 0.3893 - loss: 1.8079 - top_k_categorical_accuracy: 0.8592 - val_categorical_accuracy: 0.7566 - val_loss: 1.1954 - val_top_k_categorical_accuracy: 0.9946\n",
    "Epoch 28/200\n",
    "299/299 ━━━━━━━━━━━━━━━━━━━━ 25s 79ms/step - categorical_accuracy: 0.3872 - loss: 1.8067 - top_k_categorical_accuracy: 0.8564 - val_categorical_accuracy: 0.7854 - val_loss: 1.1288 - val_top_k_categorical_accuracy: 0.9908\n",
    "Epoch 29/200\n",
    "299/299 ━━━━━━━━━━━━━━━━━━━━ 25s 79ms/step - categorical_accuracy: 0.3958 - loss: 1.7936 - top_k_categorical_accuracy: 0.8601 - val_categorical_accuracy: 0.8080 - val_loss: 1.1297 - val_top_k_categorical_accuracy: 0.9946\n",
    "Epoch 30/200\n",
    "299/299 ━━━━━━━━━━━━━━━━━━━━ 25s 80ms/step - categorical_accuracy: 0.3971 - loss: 1.7957 - top_k_categorical_accuracy: 0.8621 - val_categorical_accuracy: 0.7880 - val_loss: 1.1507 - val_top_k_categorical_accuracy: 0.9929\n",
    "Epoch 31/200\n",
    "299/299 ━━━━━━━━━━━━━━━━━━━━ 25s 80ms/step - categorical_accuracy: 0.4004 - loss: 1.7847 - top_k_categorical_accuracy: 0.8631 - val_categorical_accuracy: 0.8068 - val_loss: 1.0723 - val_top_k_categorical_accuracy: 0.9929\n",
    "Epoch 32/200\n",
    "299/299 ━━━━━━━━━━━━━━━━━━━━ 24s 78ms/step - categorical_accuracy: 0.4135 - loss: 1.7703 - top_k_categorical_accuracy: 0.8658 - val_categorical_accuracy: 0.8076 - val_loss: 1.0409 - val_top_k_categorical_accuracy: 0.9950\n",
    "Epoch 33/200\n",
    "299/299 ━━━━━━━━━━━━━━━━━━━━ 24s 76ms/step - categorical_accuracy: 0.3974 - loss: 1.7895 - top_k_categorical_accuracy: 0.8648 - val_categorical_accuracy: 0.8156 - val_loss: 1.0395 - val_top_k_categorical_accuracy: 0.9958\n",
    "Epoch 34/200\n",
    "299/299 ━━━━━━━━━━━━━━━━━━━━ 42s 137ms/step - categorical_accuracy: 0.4119 - loss: 1.7853 - top_k_categorical_accuracy: 0.8588 - val_categorical_accuracy: 0.8331 - val_loss: 1.0512 - val_top_k_categorical_accuracy: 0.9967\n",
    "Epoch 35/200\n",
    "299/299 ━━━━━━━━━━━━━━━━━━━━ 42s 137ms/step - categorical_accuracy: 0.4100 - loss: 1.7783 - top_k_categorical_accuracy: 0.8646 - val_categorical_accuracy: 0.8289 - val_loss: 1.0275 - val_top_k_categorical_accuracy: 0.9971\n",
    "Epoch 36/200\n",
    "299/299 ━━━━━━━━━━━━━━━━━━━━ 24s 77ms/step - categorical_accuracy: 0.4109 - loss: 1.7791 - top_k_categorical_accuracy: 0.8596 - val_categorical_accuracy: 0.8315 - val_loss: 1.0146 - val_top_k_categorical_accuracy: 0.9941\n",
    "Epoch 37/200\n",
    "299/299 ━━━━━━━━━━━━━━━━━━━━ 24s 77ms/step - categorical_accuracy: 0.4166 - loss: 1.7741 - top_k_categorical_accuracy: 0.8642 - val_categorical_accuracy: 0.8122 - val_loss: 1.0202 - val_top_k_categorical_accuracy: 0.9958\n",
    "Epoch 38/200\n",
    "299/299 ━━━━━━━━━━━━━━━━━━━━ 24s 76ms/step - categorical_accuracy: 0.4153 - loss: 1.7646 - top_k_categorical_accuracy: 0.8700 - val_categorical_accuracy: 0.8151 - val_loss: 1.0102 - val_top_k_categorical_accuracy: 0.9946\n",
    "Epoch 39/200\n",
    "299/299 ━━━━━━━━━━━━━━━━━━━━ 24s 77ms/step - categorical_accuracy: 0.4191 - loss: 1.7607 - top_k_categorical_accuracy: 0.8721 - val_categorical_accuracy: 0.8269 - val_loss: 0.9887 - val_top_k_categorical_accuracy: 0.9958\n",
    "Epoch 40/200\n",
    "299/299 ━━━━━━━━━━━━━━━━━━━━ 24s 77ms/step - categorical_accuracy: 0.4125 - loss: 1.7711 - top_k_categorical_accuracy: 0.8597 - val_categorical_accuracy: 0.8356 - val_loss: 0.9993 - val_top_k_categorical_accuracy: 0.9962\n",
    "Epoch 41/200\n",
    "299/299 ━━━━━━━━━━━━━━━━━━━━ 25s 78ms/step - categorical_accuracy: 0.4249 - loss: 1.7584 - top_k_categorical_accuracy: 0.8678 - val_categorical_accuracy: 0.8022 - val_loss: 1.0435 - val_top_k_categorical_accuracy: 0.9921\n",
    "Epoch 42/200\n",
    "299/299 ━━━━━━━━━━━━━━━━━━━━ 24s 76ms/step - categorical_accuracy: 0.4208 - loss: 1.7485 - top_k_categorical_accuracy: 0.8689 - val_categorical_accuracy: 0.8256 - val_loss: 0.9714 - val_top_k_categorical_accuracy: 0.9971\n",
    "Epoch 43/200\n",
    "299/299 ━━━━━━━━━━━━━━━━━━━━ 24s 78ms/step - categorical_accuracy: 0.4210 - loss: 1.7552 - top_k_categorical_accuracy: 0.8754 - val_categorical_accuracy: 0.8369 - val_loss: 0.9966 - val_top_k_categorical_accuracy: 0.9912\n",
    "Epoch 44/200\n",
    "299/299 ━━━━━━━━━━━━━━━━━━━━ 24s 77ms/step - categorical_accuracy: 0.4369 - loss: 1.7404 - top_k_categorical_accuracy: 0.8724 - val_categorical_accuracy: 0.8264 - val_loss: 1.0124 - val_top_k_categorical_accuracy: 0.9895\n",
    "Epoch 45/200\n",
    "299/299 ━━━━━━━━━━━━━━━━━━━━ 25s 78ms/step - categorical_accuracy: 0.4336 - loss: 1.7565 - top_k_categorical_accuracy: 0.8669 - val_categorical_accuracy: 0.8473 - val_loss: 0.9805 - val_top_k_categorical_accuracy: 0.9946\n",
    "Epoch 46/200\n",
    "299/299 ━━━━━━━━━━━━━━━━━━━━ 24s 78ms/step - categorical_accuracy: 0.4398 - loss: 1.7372 - top_k_categorical_accuracy: 0.8750 - val_categorical_accuracy: 0.8478 - val_loss: 0.9861 - val_top_k_categorical_accuracy: 0.9941\n",
    "Epoch 47/200\n",
    "299/299 ━━━━━━━━━━━━━━━━━━━━ 25s 79ms/step - categorical_accuracy: 0.4397 - loss: 1.7367 - top_k_categorical_accuracy: 0.8748 - val_categorical_accuracy: 0.8457 - val_loss: 0.9829 - val_top_k_categorical_accuracy: 0.9929\n",
    "Epoch 48/200\n",
    "299/299 ━━━━━━━━━━━━━━━━━━━━ 42s 137ms/step - categorical_accuracy: 0.4362 - loss: 1.7342 - top_k_categorical_accuracy: 0.8731 - val_categorical_accuracy: 0.8565 - val_loss: 0.9449 - val_top_k_categorical_accuracy: 0.9958\n",
    "Epoch 49/200\n",
    "299/299 ━━━━━━━━━━━━━━━━━━━━ 24s 76ms/step - categorical_accuracy: 0.4382 - loss: 1.7377 - top_k_categorical_accuracy: 0.8723 - val_categorical_accuracy: 0.8340 - val_loss: 0.9854 - val_top_k_categorical_accuracy: 0.9941\n",
    "Epoch 50/200\n",
    "299/299 ━━━━━━━━━━━━━━━━━━━━ 25s 78ms/step - categorical_accuracy: 0.4378 - loss: 1.7392 - top_k_categorical_accuracy: 0.8774 - val_categorical_accuracy: 0.8306 - val_loss: 0.9632 - val_top_k_categorical_accuracy: 0.9933\n",
    "Epoch 51/200\n",
    "299/299 ━━━━━━━━━━━━━━━━━━━━ 25s 78ms/step - categorical_accuracy: 0.4459 - loss: 1.7314 - top_k_categorical_accuracy: 0.8716 - val_categorical_accuracy: 0.8582 - val_loss: 0.9409 - val_top_k_categorical_accuracy: 0.9941\n",
    "Epoch 52/200\n",
    "299/299 ━━━━━━━━━━━━━━━━━━━━ 24s 77ms/step - categorical_accuracy: 0.4351 - loss: 1.7323 - top_k_categorical_accuracy: 0.8730 - val_categorical_accuracy: 0.8628 - val_loss: 0.9377 - val_top_k_categorical_accuracy: 0.9941\n",
    "Epoch 53/200\n",
    "299/299 ━━━━━━━━━━━━━━━━━━━━ 42s 137ms/step - categorical_accuracy: 0.4486 - loss: 1.7315 - top_k_categorical_accuracy: 0.8707 - val_categorical_accuracy: 0.8532 - val_loss: 0.9593 - val_top_k_categorical_accuracy: 0.9958\n",
    "Epoch 54/200\n",
    "299/299 ━━━━━━━━━━━━━━━━━━━━ 42s 137ms/step - categorical_accuracy: 0.4544 - loss: 1.7115 - top_k_categorical_accuracy: 0.8761 - val_categorical_accuracy: 0.8557 - val_loss: 0.9537 - val_top_k_categorical_accuracy: 0.9946\n",
    "Epoch 55/200\n",
    "299/299 ━━━━━━━━━━━━━━━━━━━━ 24s 77ms/step - categorical_accuracy: 0.4457 - loss: 1.7153 - top_k_categorical_accuracy: 0.8787 - val_categorical_accuracy: 0.8532 - val_loss: 0.9788 - val_top_k_categorical_accuracy: 0.9933\n",
    "Epoch 56/200\n",
    "299/299 ━━━━━━━━━━━━━━━━━━━━ 24s 78ms/step - categorical_accuracy: 0.4441 - loss: 1.7239 - top_k_categorical_accuracy: 0.8712 - val_categorical_accuracy: 0.8511 - val_loss: 0.9745 - val_top_k_categorical_accuracy: 0.9925\n",
    "Epoch 57/200\n",
    "299/299 ━━━━━━━━━━━━━━━━━━━━ 25s 79ms/step - categorical_accuracy: 0.4496 - loss: 1.7322 - top_k_categorical_accuracy: 0.8658 - val_categorical_accuracy: 0.8649 - val_loss: 0.9355 - val_top_k_categorical_accuracy: 0.9962\n",
    "Epoch 58/200\n",
    "299/299 ━━━━━━━━━━━━━━━━━━━━ 25s 79ms/step - categorical_accuracy: 0.4472 - loss: 1.7223 - top_k_categorical_accuracy: 0.8772 - val_categorical_accuracy: 0.8574 - val_loss: 0.9559 - val_top_k_categorical_accuracy: 0.9941\n",
    "Epoch 59/200\n",
    "299/299 ━━━━━━━━━━━━━━━━━━━━ 25s 80ms/step - categorical_accuracy: 0.4571 - loss: 1.7094 - top_k_categorical_accuracy: 0.8787 - val_categorical_accuracy: 0.8649 - val_loss: 0.9387 - val_top_k_categorical_accuracy: 0.9954\n",
    "Epoch 60/200\n",
    "299/299 ━━━━━━━━━━━━━━━━━━━━ 26s 83ms/step - categorical_accuracy: 0.4589 - loss: 1.7119 - top_k_categorical_accuracy: 0.8774 - val_categorical_accuracy: 0.8369 - val_loss: 0.9754 - val_top_k_categorical_accuracy: 0.9933\n",
    "Epoch 61/200\n",
    "299/299 ━━━━━━━━━━━━━━━━━━━━ 26s 82ms/step - categorical_accuracy: 0.4438 - loss: 1.7290 - top_k_categorical_accuracy: 0.8762 - val_categorical_accuracy: 0.8683 - val_loss: 0.9602 - val_top_k_categorical_accuracy: 0.9950\n",
    "Epoch 62/200\n",
    "299/299 ━━━━━━━━━━━━━━━━━━━━ 25s 79ms/step - categorical_accuracy: 0.4560 - loss: 1.7149 - top_k_categorical_accuracy: 0.8759 - val_categorical_accuracy: 0.8695 - val_loss: 0.9442 - val_top_k_categorical_accuracy: 0.9971\n",
    "Epoch 63/200\n",
    "299/299 ━━━━━━━━━━━━━━━━━━━━ 25s 80ms/step - categorical_accuracy: 0.4357 - loss: 1.7319 - top_k_categorical_accuracy: 0.8741 - val_categorical_accuracy: 0.8683 - val_loss: 0.9747 - val_top_k_categorical_accuracy: 0.9954\n",
    "Epoch 64/200\n",
    "299/299 ━━━━━━━━━━━━━━━━━━━━ 25s 78ms/step - categorical_accuracy: 0.4538 - loss: 1.7152 - top_k_categorical_accuracy: 0.8729 - val_categorical_accuracy: 0.8578 - val_loss: 0.9219 - val_top_k_categorical_accuracy: 0.9954\n",
    "Epoch 65/200\n",
    "299/299 ━━━━━━━━━━━━━━━━━━━━ 25s 79ms/step - categorical_accuracy: 0.4481 - loss: 1.7102 - top_k_categorical_accuracy: 0.8774 - val_categorical_accuracy: 0.8762 - val_loss: 0.9570 - val_top_k_categorical_accuracy: 0.9937\n",
    "Epoch 66/200\n",
    "299/299 ━━━━━━━━━━━━━━━━━━━━ 25s 78ms/step - categorical_accuracy: 0.4439 - loss: 1.7311 - top_k_categorical_accuracy: 0.8755 - val_categorical_accuracy: 0.8695 - val_loss: 0.9441 - val_top_k_categorical_accuracy: 0.9946\n",
    "Epoch 67/200\n",
    "299/299 ━━━━━━━━━━━━━━━━━━━━ 24s 77ms/step - categorical_accuracy: 0.4574 - loss: 1.7094 - top_k_categorical_accuracy: 0.8738 - val_categorical_accuracy: 0.8754 - val_loss: 0.9300 - val_top_k_categorical_accuracy: 0.9954\n",
    "Epoch 68/200\n",
    "299/299 ━━━━━━━━━━━━━━━━━━━━ 25s 78ms/step - categorical_accuracy: 0.4624 - loss: 1.7066 - top_k_categorical_accuracy: 0.8847 - val_categorical_accuracy: 0.8875 - val_loss: 0.9048 - val_top_k_categorical_accuracy: 0.9958\n",
    "Epoch 69/200\n",
    "299/299 ━━━━━━━━━━━━━━━━━━━━ 24s 77ms/step - categorical_accuracy: 0.4616 - loss: 1.7175 - top_k_categorical_accuracy: 0.8666 - val_categorical_accuracy: 0.8779 - val_loss: 0.9183 - val_top_k_categorical_accuracy: 0.9937\n",
    "Epoch 70/200\n",
    "299/299 ━━━━━━━━━━━━━━━━━━━━ 25s 79ms/step - categorical_accuracy: 0.4592 - loss: 1.7002 - top_k_categorical_accuracy: 0.8812 - val_categorical_accuracy: 0.8795 - val_loss: 0.9267 - val_top_k_categorical_accuracy: 0.9962\n",
    "Epoch 71/200\n",
    "299/299 ━━━━━━━━━━━━━━━━━━━━ 24s 77ms/step - categorical_accuracy: 0.4568 - loss: 1.7198 - top_k_categorical_accuracy: 0.8734 - val_categorical_accuracy: 0.8821 - val_loss: 0.9303 - val_top_k_categorical_accuracy: 0.9946\n",
    "Epoch 72/200\n",
    "299/299 ━━━━━━━━━━━━━━━━━━━━ 25s 79ms/step - categorical_accuracy: 0.4427 - loss: 1.7133 - top_k_categorical_accuracy: 0.8786 - val_categorical_accuracy: 0.8846 - val_loss: 0.8894 - val_top_k_categorical_accuracy: 0.9958\n",
    "Epoch 73/200\n",
    "299/299 ━━━━━━━━━━━━━━━━━━━━ 25s 78ms/step - categorical_accuracy: 0.4564 - loss: 1.7075 - top_k_categorical_accuracy: 0.8783 - val_categorical_accuracy: 0.8737 - val_loss: 0.9192 - val_top_k_categorical_accuracy: 0.9946\n",
    "Epoch 74/200\n",
    "299/299 ━━━━━━━━━━━━━━━━━━━━ 25s 81ms/step - categorical_accuracy: 0.4603 - loss: 1.7069 - top_k_categorical_accuracy: 0.8715 - val_categorical_accuracy: 0.8850 - val_loss: 0.9070 - val_top_k_categorical_accuracy: 0.9950\n",
    "Epoch 75/200\n",
    "299/299 ━━━━━━━━━━━━━━━━━━━━ 42s 137ms/step - categorical_accuracy: 0.4603 - loss: 1.7079 - top_k_categorical_accuracy: 0.8763 - val_categorical_accuracy: 0.8921 - val_loss: 0.8958 - val_top_k_categorical_accuracy: 0.9950\n",
    "Epoch 76/200\n",
    "299/299 ━━━━━━━━━━━━━━━━━━━━ 24s 78ms/step - categorical_accuracy: 0.4595 - loss: 1.7075 - top_k_categorical_accuracy: 0.8791 - val_categorical_accuracy: 0.8812 - val_loss: 0.9298 - val_top_k_categorical_accuracy: 0.9958\n",
    "Epoch 77/200\n",
    "299/299 ━━━━━━━━━━━━━━━━━━━━ 25s 78ms/step - categorical_accuracy: 0.4551 - loss: 1.7026 - top_k_categorical_accuracy: 0.8812 - val_categorical_accuracy: 0.8892 - val_loss: 0.8821 - val_top_k_categorical_accuracy: 0.9958\n",
    "Epoch 78/200\n",
    "299/299 ━━━━━━━━━━━━━━━━━━━━ 25s 78ms/step - categorical_accuracy: 0.4711 - loss: 1.6838 - top_k_categorical_accuracy: 0.8858 - val_categorical_accuracy: 0.8791 - val_loss: 0.9340 - val_top_k_categorical_accuracy: 0.9958\n",
    "Epoch 79/200\n",
    "299/299 ━━━━━━━━━━━━━━━━━━━━ 25s 79ms/step - categorical_accuracy: 0.4684 - loss: 1.6897 - top_k_categorical_accuracy: 0.8878 - val_categorical_accuracy: 0.8712 - val_loss: 0.9639 - val_top_k_categorical_accuracy: 0.9937\n",
    "Epoch 80/200\n",
    "299/299 ━━━━━━━━━━━━━━━━━━━━ 25s 78ms/step - categorical_accuracy: 0.4629 - loss: 1.6900 - top_k_categorical_accuracy: 0.8862 - val_categorical_accuracy: 0.8741 - val_loss: 0.9430 - val_top_k_categorical_accuracy: 0.9950\n",
    "Epoch 81/200\n",
    "299/299 ━━━━━━━━━━━━━━━━━━━━ 25s 80ms/step - categorical_accuracy: 0.4632 - loss: 1.6981 - top_k_categorical_accuracy: 0.8870 - val_categorical_accuracy: 0.8833 - val_loss: 0.9275 - val_top_k_categorical_accuracy: 0.9954\n",
    "Epoch 82/200\n",
    "299/299 ━━━━━━━━━━━━━━━━━━━━ 25s 78ms/step - categorical_accuracy: 0.4664 - loss: 1.6916 - top_k_categorical_accuracy: 0.8809 - val_categorical_accuracy: 0.8821 - val_loss: 0.9266 - val_top_k_categorical_accuracy: 0.9967\n",
    "Epoch 83/200\n",
    "299/299 ━━━━━━━━━━━━━━━━━━━━ 25s 79ms/step - categorical_accuracy: 0.4549 - loss: 1.7076 - top_k_categorical_accuracy: 0.8839 - val_categorical_accuracy: 0.8892 - val_loss: 0.8577 - val_top_k_categorical_accuracy: 0.9950\n",
    "Epoch 84/200\n",
    "299/299 ━━━━━━━━━━━━━━━━━━━━ 25s 78ms/step - categorical_accuracy: 0.4724 - loss: 1.6961 - top_k_categorical_accuracy: 0.8819 - val_categorical_accuracy: 0.8883 - val_loss: 0.9089 - val_top_k_categorical_accuracy: 0.9967\n",
    "Epoch 85/200\n",
    "299/299 ━━━━━━━━━━━━━━━━━━━━ 42s 137ms/step - categorical_accuracy: 0.4609 - loss: 1.7040 - top_k_categorical_accuracy: 0.8903 - val_categorical_accuracy: 0.8875 - val_loss: 0.9133 - val_top_k_categorical_accuracy: 0.9958\n",
    "Epoch 86/200\n",
    "299/299 ━━━━━━━━━━━━━━━━━━━━ 25s 78ms/step - categorical_accuracy: 0.4675 - loss: 1.6878 - top_k_categorical_accuracy: 0.8833 - val_categorical_accuracy: 0.8883 - val_loss: 0.8976 - val_top_k_categorical_accuracy: 0.9971\n",
    "Epoch 87/200\n",
    "299/299 ━━━━━━━━━━━━━━━━━━━━ 25s 80ms/step - categorical_accuracy: 0.4607 - loss: 1.7126 - top_k_categorical_accuracy: 0.8781 - val_categorical_accuracy: 0.8825 - val_loss: 0.9016 - val_top_k_categorical_accuracy: 0.9950\n",
    "Epoch 88/200\n",
    "299/299 ━━━━━━━━━━━━━━━━━━━━ 25s 80ms/step - categorical_accuracy: 0.4670 - loss: 1.6940 - top_k_categorical_accuracy: 0.8752 - val_categorical_accuracy: 0.8992 - val_loss: 0.8622 - val_top_k_categorical_accuracy: 0.9958\n",
    "Epoch 89/200\n",
    "299/299 ━━━━━━━━━━━━━━━━━━━━ 25s 79ms/step - categorical_accuracy: 0.4586 - loss: 1.7036 - top_k_categorical_accuracy: 0.8764 - val_categorical_accuracy: 0.8846 - val_loss: 0.8938 - val_top_k_categorical_accuracy: 0.9967\n",
    "Epoch 90/200\n",
    "299/299 ━━━━━━━━━━━━━━━━━━━━ 25s 78ms/step - categorical_accuracy: 0.4607 - loss: 1.6975 - top_k_categorical_accuracy: 0.8826 - val_categorical_accuracy: 0.8892 - val_loss: 0.9091 - val_top_k_categorical_accuracy: 0.9958\n",
    "Epoch 91/200\n",
    "299/299 ━━━━━━━━━━━━━━━━━━━━ 25s 79ms/step - categorical_accuracy: 0.4773 - loss: 1.6819 - top_k_categorical_accuracy: 0.8786 - val_categorical_accuracy: 0.8896 - val_loss: 0.8964 - val_top_k_categorical_accuracy: 0.9962\n",
    "Epoch 92/200\n",
    "299/299 ━━━━━━━━━━━━━━━━━━━━ 25s 79ms/step - categorical_accuracy: 0.4636 - loss: 1.6958 - top_k_categorical_accuracy: 0.8853 - val_categorical_accuracy: 0.8971 - val_loss: 0.8647 - val_top_k_categorical_accuracy: 0.9962\n",
    "Epoch 93/200\n",
    "299/299 ━━━━━━━━━━━━━━━━━━━━ 26s 82ms/step - categorical_accuracy: 0.4585 - loss: 1.7010 - top_k_categorical_accuracy: 0.8812 - val_categorical_accuracy: 0.8946 - val_loss: 0.8853 - val_top_k_categorical_accuracy: 0.9958\n",
    "Epoch 94/200\n",
    "299/299 ━━━━━━━━━━━━━━━━━━━━ 25s 81ms/step - categorical_accuracy: 0.4721 - loss: 1.6805 - top_k_categorical_accuracy: 0.8910 - val_categorical_accuracy: 0.8984 - val_loss: 0.8736 - val_top_k_categorical_accuracy: 0.9958\n",
    "Epoch 95/200\n",
    "299/299 ━━━━━━━━━━━━━━━━━━━━ 25s 81ms/step - categorical_accuracy: 0.4698 - loss: 1.6964 - top_k_categorical_accuracy: 0.8769 - val_categorical_accuracy: 0.8967 - val_loss: 0.8872 - val_top_k_categorical_accuracy: 0.9946\n",
    "Epoch 96/200\n",
    "299/299 ━━━━━━━━━━━━━━━━━━━━ 42s 137ms/step - categorical_accuracy: 0.4701 - loss: 1.6822 - top_k_categorical_accuracy: 0.8766 - val_categorical_accuracy: 0.8908 - val_loss: 0.8981 - val_top_k_categorical_accuracy: 0.9958\n",
    "Epoch 97/200\n",
    "299/299 ━━━━━━━━━━━━━━━━━━━━ 25s 79ms/step - categorical_accuracy: 0.4656 - loss: 1.6940 - top_k_categorical_accuracy: 0.8808 - val_categorical_accuracy: 0.8984 - val_loss: 0.8628 - val_top_k_categorical_accuracy: 0.9962\n",
    "Epoch 98/200\n",
    "299/299 ━━━━━━━━━━━━━━━━━━━━ 42s 137ms/step - categorical_accuracy: 0.4776 - loss: 1.6876 - top_k_categorical_accuracy: 0.8815 - val_categorical_accuracy: 0.8892 - val_loss: 0.9081 - val_top_k_categorical_accuracy: 0.9958\n",
    "Epoch 99/200\n",
    "299/299 ━━━━━━━━━━━━━━━━━━━━ 25s 79ms/step - categorical_accuracy: 0.4660 - loss: 1.6978 - top_k_categorical_accuracy: 0.8838 - val_categorical_accuracy: 0.8963 - val_loss: 0.8876 - val_top_k_categorical_accuracy: 0.9958\n",
    "Epoch 100/200\n",
    "299/299 ━━━━━━━━━━━━━━━━━━━━ 26s 82ms/step - categorical_accuracy: 0.4742 - loss: 1.6799 - top_k_categorical_accuracy: 0.8857 - val_categorical_accuracy: 0.9042 - val_loss: 0.8790 - val_top_k_categorical_accuracy: 0.9975\n",
    "Epoch 101/200\n",
    "299/299 ━━━━━━━━━━━━━━━━━━━━ 25s 80ms/step - categorical_accuracy: 0.4708 - loss: 1.6822 - top_k_categorical_accuracy: 0.8856 - val_categorical_accuracy: 0.8967 - val_loss: 0.8817 - val_top_k_categorical_accuracy: 0.9954\n",
    "Epoch 102/200\n",
    "299/299 ━━━━━━━━━━━━━━━━━━━━ 25s 80ms/step - categorical_accuracy: 0.4793 - loss: 1.6897 - top_k_categorical_accuracy: 0.8824 - val_categorical_accuracy: 0.9030 - val_loss: 0.8602 - val_top_k_categorical_accuracy: 0.9958\n",
    "Epoch 103/200\n",
    "299/299 ━━━━━━━━━━━━━━━━━━━━ 24s 77ms/step - categorical_accuracy: 0.4785 - loss: 1.6748 - top_k_categorical_accuracy: 0.8837 - val_categorical_accuracy: 0.9038 - val_loss: 0.8646 - val_top_k_categorical_accuracy: 0.9962\n",
    "Epoch 104/200\n",
    "299/299 ━━━━━━━━━━━━━━━━━━━━ 25s 80ms/step - categorical_accuracy: 0.4690 - loss: 1.6859 - top_k_categorical_accuracy: 0.8818 - val_categorical_accuracy: 0.9034 - val_loss: 0.8781 - val_top_k_categorical_accuracy: 0.9958\n",
    "Epoch 105/200\n",
    "299/299 ━━━━━━━━━━━━━━━━━━━━ 25s 80ms/step - categorical_accuracy: 0.4780 - loss: 1.6888 - top_k_categorical_accuracy: 0.8728 - val_categorical_accuracy: 0.9042 - val_loss: 0.8549 - val_top_k_categorical_accuracy: 0.9954\n",
    "Epoch 106/200\n",
    "299/299 ━━━━━━━━━━━━━━━━━━━━ 25s 79ms/step - categorical_accuracy: 0.4810 - loss: 1.6855 - top_k_categorical_accuracy: 0.8784 - val_categorical_accuracy: 0.9076 - val_loss: 0.8712 - val_top_k_categorical_accuracy: 0.9975\n",
    "Epoch 107/200\n",
    "299/299 ━━━━━━━━━━━━━━━━━━━━ 24s 75ms/step - categorical_accuracy: 0.4795 - loss: 1.6792 - top_k_categorical_accuracy: 0.8934 - val_categorical_accuracy: 0.9009 - val_loss: 0.8784 - val_top_k_categorical_accuracy: 0.9954\n",
    "Epoch 108/200\n",
    "299/299 ━━━━━━━━━━━━━━━━━━━━ 25s 79ms/step - categorical_accuracy: 0.4666 - loss: 1.6871 - top_k_categorical_accuracy: 0.8823 - val_categorical_accuracy: 0.9030 - val_loss: 0.8766 - val_top_k_categorical_accuracy: 0.9975\n",
    "Epoch 109/200\n",
    "299/299 ━━━━━━━━━━━━━━━━━━━━ 25s 79ms/step - categorical_accuracy: 0.4771 - loss: 1.6722 - top_k_categorical_accuracy: 0.8873 - val_categorical_accuracy: 0.9017 - val_loss: 0.8541 - val_top_k_categorical_accuracy: 0.9975\n",
    "Epoch 110/200\n",
    "299/299 ━━━━━━━━━━━━━━━━━━━━ 25s 81ms/step - categorical_accuracy: 0.4776 - loss: 1.6821 - top_k_categorical_accuracy: 0.8856 - val_categorical_accuracy: 0.9059 - val_loss: 0.8747 - val_top_k_categorical_accuracy: 0.9962\n",
    "Epoch 111/200\n",
    "299/299 ━━━━━━━━━━━━━━━━━━━━ 24s 77ms/step - categorical_accuracy: 0.4722 - loss: 1.6758 - top_k_categorical_accuracy: 0.8856 - val_categorical_accuracy: 0.8950 - val_loss: 0.8924 - val_top_k_categorical_accuracy: 0.9971\n",
    "Epoch 112/200\n",
    "299/299 ━━━━━━━━━━━━━━━━━━━━ 24s 76ms/step - categorical_accuracy: 0.4804 - loss: 1.6865 - top_k_categorical_accuracy: 0.8825 - val_categorical_accuracy: 0.9026 - val_loss: 0.8600 - val_top_k_categorical_accuracy: 0.9975\n",
    "Epoch 113/200\n",
    "299/299 ━━━━━━━━━━━━━━━━━━━━ 25s 78ms/step - categorical_accuracy: 0.4646 - loss: 1.6877 - top_k_categorical_accuracy: 0.8849 - val_categorical_accuracy: 0.9084 - val_loss: 0.8682 - val_top_k_categorical_accuracy: 0.9967\n",
    "Epoch 114/200\n",
    "299/299 ━━━━━━━━━━━━━━━━━━━━ 25s 78ms/step - categorical_accuracy: 0.4738 - loss: 1.6804 - top_k_categorical_accuracy: 0.8930 - val_categorical_accuracy: 0.8954 - val_loss: 0.8582 - val_top_k_categorical_accuracy: 0.9975\n",
    "Epoch 115/200\n",
    "299/299 ━━━━━━━━━━━━━━━━━━━━ 25s 79ms/step - categorical_accuracy: 0.4771 - loss: 1.6782 - top_k_categorical_accuracy: 0.8848 - val_categorical_accuracy: 0.9026 - val_loss: 0.8516 - val_top_k_categorical_accuracy: 0.9967\n",
    "Epoch 116/200\n",
    "299/299 ━━━━━━━━━━━━━━━━━━━━ 24s 76ms/step - categorical_accuracy: 0.4837 - loss: 1.6776 - top_k_categorical_accuracy: 0.8776 - val_categorical_accuracy: 0.9021 - val_loss: 0.8735 - val_top_k_categorical_accuracy: 0.9979\n",
    "Epoch 117/200\n",
    "299/299 ━━━━━━━━━━━━━━━━━━━━ 25s 80ms/step - categorical_accuracy: 0.4735 - loss: 1.6763 - top_k_categorical_accuracy: 0.8878 - val_categorical_accuracy: 0.9072 - val_loss: 0.8573 - val_top_k_categorical_accuracy: 0.9983\n",
    "Epoch 118/200\n",
    "299/299 ━━━━━━━━━━━━━━━━━━━━ 25s 79ms/step - categorical_accuracy: 0.4744 - loss: 1.6781 - top_k_categorical_accuracy: 0.8835 - val_categorical_accuracy: 0.9126 - val_loss: 0.8458 - val_top_k_categorical_accuracy: 0.9979\n",
    "Epoch 119/200\n",
    "299/299 ━━━━━━━━━━━━━━━━━━━━ 25s 80ms/step - categorical_accuracy: 0.4791 - loss: 1.6722 - top_k_categorical_accuracy: 0.8834 - val_categorical_accuracy: 0.8996 - val_loss: 0.8670 - val_top_k_categorical_accuracy: 0.9962\n",
    "Epoch 120/200\n",
    "299/299 ━━━━━━━━━━━━━━━━━━━━ 24s 76ms/step - categorical_accuracy: 0.4771 - loss: 1.6758 - top_k_categorical_accuracy: 0.8854 - val_categorical_accuracy: 0.9113 - val_loss: 0.8550 - val_top_k_categorical_accuracy: 0.9967\n",
    "Epoch 121/200\n",
    "299/299 ━━━━━━━━━━━━━━━━━━━━ 24s 77ms/step - categorical_accuracy: 0.4756 - loss: 1.6702 - top_k_categorical_accuracy: 0.8888 - val_categorical_accuracy: 0.8992 - val_loss: 0.8513 - val_top_k_categorical_accuracy: 0.9979\n",
    "Epoch 122/200\n",
    "299/299 ━━━━━━━━━━━━━━━━━━━━ 25s 79ms/step - categorical_accuracy: 0.4862 - loss: 1.6649 - top_k_categorical_accuracy: 0.8845 - val_categorical_accuracy: 0.9042 - val_loss: 0.8462 - val_top_k_categorical_accuracy: 0.9971\n",
    "Epoch 123/200\n",
    "299/299 ━━━━━━━━━━━━━━━━━━━━ 25s 79ms/step - categorical_accuracy: 0.4727 - loss: 1.6891 - top_k_categorical_accuracy: 0.8832 - val_categorical_accuracy: 0.9017 - val_loss: 0.8545 - val_top_k_categorical_accuracy: 0.9975\n",
    "Epoch 124/200\n",
    "299/299 ━━━━━━━━━━━━━━━━━━━━ 24s 78ms/step - categorical_accuracy: 0.4794 - loss: 1.6726 - top_k_categorical_accuracy: 0.8848 - val_categorical_accuracy: 0.9017 - val_loss: 0.8587 - val_top_k_categorical_accuracy: 0.9967\n",
    "Epoch 125/200\n",
    "299/299 ━━━━━━━━━━━━━━━━━━━━ 25s 78ms/step - categorical_accuracy: 0.4723 - loss: 1.6811 - top_k_categorical_accuracy: 0.8851 - val_categorical_accuracy: 0.9059 - val_loss: 0.8550 - val_top_k_categorical_accuracy: 0.9975\n",
    "Epoch 126/200\n",
    "299/299 ━━━━━━━━━━━━━━━━━━━━ 42s 137ms/step - categorical_accuracy: 0.4757 - loss: 1.6764 - top_k_categorical_accuracy: 0.8857 - val_categorical_accuracy: 0.9046 - val_loss: 0.8458 - val_top_k_categorical_accuracy: 0.9975\n",
    "Epoch 127/200\n",
    "299/299 ━━━━━━━━━━━━━━━━━━━━ 24s 78ms/step - categorical_accuracy: 0.4745 - loss: 1.6749 - top_k_categorical_accuracy: 0.8848 - val_categorical_accuracy: 0.9055 - val_loss: 0.8600 - val_top_k_categorical_accuracy: 0.9962\n",
    "Epoch 128/200\n",
    "299/299 ━━━━━━━━━━━━━━━━━━━━ 25s 80ms/step - categorical_accuracy: 0.4825 - loss: 1.6715 - top_k_categorical_accuracy: 0.8868 - val_categorical_accuracy: 0.9101 - val_loss: 0.8510 - val_top_k_categorical_accuracy: 0.9962\n",
    "Epoch 129/200\n",
    "299/299 ━━━━━━━━━━━━━━━━━━━━ 25s 80ms/step - categorical_accuracy: 0.4791 - loss: 1.6734 - top_k_categorical_accuracy: 0.8909 - val_categorical_accuracy: 0.9084 - val_loss: 0.8482 - val_top_k_categorical_accuracy: 0.9971\n",
    "Epoch 130/200\n",
    "299/299 ━━━━━━━━━━━━━━━━━━━━ 25s 78ms/step - categorical_accuracy: 0.4669 - loss: 1.6837 - top_k_categorical_accuracy: 0.8898 - val_categorical_accuracy: 0.9113 - val_loss: 0.8448 - val_top_k_categorical_accuracy: 0.9967\n",
    "Epoch 131/200\n",
    "299/299 ━━━━━━━━━━━━━━━━━━━━ 25s 80ms/step - categorical_accuracy: 0.4836 - loss: 1.6680 - top_k_categorical_accuracy: 0.8845 - val_categorical_accuracy: 0.9072 - val_loss: 0.8660 - val_top_k_categorical_accuracy: 0.9967\n",
    "Epoch 132/200\n",
    "299/299 ━━━━━━━━━━━━━━━━━━━━ 25s 80ms/step - categorical_accuracy: 0.4804 - loss: 1.6694 - top_k_categorical_accuracy: 0.8825 - val_categorical_accuracy: 0.9092 - val_loss: 0.8442 - val_top_k_categorical_accuracy: 0.9971\n",
    "Epoch 133/200\n",
    "299/299 ━━━━━━━━━━━━━━━━━━━━ 26s 82ms/step - categorical_accuracy: 0.4736 - loss: 1.6732 - top_k_categorical_accuracy: 0.8885 - val_categorical_accuracy: 0.9113 - val_loss: 0.8468 - val_top_k_categorical_accuracy: 0.9971\n",
    "Final validation accuracy: 91.26%"
   ]
  },
  {
   "cell_type": "code",
   "execution_count": null,
   "metadata": {
    "id": "WTfZGfkd_GHn"
   },
   "outputs": [],
   "source": [
    "predictions=all_preds_val\n",
    "# Convert predictions to class labels\n",
    "pred_classes = np.argmax(predictions, axis=-1)\n",
    "\n",
    "# Extract ground truth classes\n",
    "true_classes = np.argmax(y_val, axis=-1)\n",
    "\n",
    "# Calculate and display test set accuracy\n",
    "accuracy = accuracy_score(true_classes, pred_classes)\n",
    "print(f'Accuracy score over the test set: {round(accuracy, 4)}')\n",
    "\n",
    "# Calculate and display test set precision\n",
    "precision = precision_score(true_classes, pred_classes, average='weighted')\n",
    "print(f'Precision score over the test set: {round(precision, 4)}')\n",
    "\n",
    "# Calculate and display test set recall\n",
    "recall = recall_score(true_classes, pred_classes, average='weighted')\n",
    "print(f'Recall score over the test set: {round(recall, 4)}')\n",
    "\n",
    "# Calculate and display test set F1 score\n",
    "f1 = f1_score(true_classes, pred_classes, average='weighted')\n",
    "print(f'F1 score over the test set: {round(f1, 4)}')\n",
    "\n",
    "# Compute the confusion matrix\n",
    "cm = confusion_matrix(true_classes, pred_classes)\n",
    "\n",
    "# Combine numbers and percentages into a single string for annotation\n",
    "annot = np.array([f\"{num}\" for num in cm.flatten()]).reshape(cm.shape)\n",
    "\n",
    "# Plot the confusion matrix\n",
    "plt.figure(figsize=(10, 8))\n",
    "sns.heatmap(cm.T, annot=annot, fmt='', xticklabels=labels, yticklabels=labels, cmap='Blues')\n",
    "plt.ylabel('True labels')\n",
    "plt.xlabel('Predicted labels')\n",
    "plt.show()"
   ]
  },
  {
   "cell_type": "code",
   "execution_count": null,
   "metadata": {
    "id": "xTcbcNMC_KqY"
   },
   "outputs": [],
   "source": [
    "model = keras.models.load_model(model_filename)\n",
    "#model=keras.models.load_model('CNN_91.26.keras')\n",
    "X_val = X_val/ 255.0\n",
    "y_val = tfk.utils.to_categorical(y_val)\n",
    "predictions = model.predict(X_val, verbose=0)\n",
    "\n",
    "# Display the shape of the predictions\n",
    "print(\"Predictions Shape:\", predictions.shape)"
   ]
  },
  {
   "cell_type": "code",
   "execution_count": null,
   "metadata": {
    "id": "8_aN4oHh_gcC"
   },
   "outputs": [],
   "source": [
    "# Convert predictions to class labels\n",
    "pred_classes = np.argmax(predictions, axis=-1)\n",
    "\n",
    "# Extract ground truth classes\n",
    "true_classes = np.argmax(y_val, axis=-1)\n",
    "\n",
    "# Calculate and display test set accuracy\n",
    "accuracy = accuracy_score(true_classes, pred_classes)\n",
    "print(f'Accuracy score over the test set: {round(accuracy, 4)}')\n",
    "\n",
    "# Calculate and display test set precision\n",
    "precision = precision_score(true_classes, pred_classes, average='weighted')\n",
    "print(f'Precision score over the test set: {round(precision, 4)}')\n",
    "\n",
    "# Calculate and display test set recall\n",
    "recall = recall_score(true_classes, pred_classes, average='weighted')\n",
    "print(f'Recall score over the test set: {round(recall, 4)}')\n",
    "\n",
    "# Calculate and display test set F1 score\n",
    "f1 = f1_score(true_classes, pred_classes, average='weighted')\n",
    "print(f'F1 score over the test set: {round(f1, 4)}')\n",
    "\n",
    "# Compute the confusion matrix\n",
    "cm = confusion_matrix(true_classes, pred_classes)\n",
    "\n",
    "# Combine numbers and percentages into a single string for annotation\n",
    "annot = np.array([f\"{num}\" for num in cm.flatten()]).reshape(cm.shape)\n",
    "\n",
    "# Plot the confusion matrix\n",
    "plt.figure(figsize=(10, 8))\n",
    "sns.heatmap(cm.T, annot=annot, fmt='', xticklabels=labels, yticklabels=labels, cmap='Blues')\n",
    "plt.ylabel('True labels')\n",
    "plt.xlabel('Predicted labels')\n",
    "plt.show()"
   ]
  },
  {
   "cell_type": "code",
   "execution_count": null,
   "metadata": {
    "id": "jmhStvrB-m-1"
   },
   "outputs": [],
   "source": [
    "# i trained it in Kaggle so I report here the output\n",
    "Accuracy score over the test set: 0.9126\n",
    "Precision score over the test set: 0.9194\n",
    "Recall score over the test set: 0.9126\n",
    "F1 score over the test set: 0.9129"
   ]
  },
  {
   "cell_type": "markdown",
   "metadata": {
    "id": "q5fZl7ui-_2A"
   },
   "source": [
    "![__results___40_1.png](data:image/png;base64,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)"
   ]
  },
  {
   "cell_type": "markdown",
   "metadata": {
    "id": "WLsI2drjNctI"
   },
   "source": [
    "### VGG16"
   ]
  },
  {
   "cell_type": "code",
   "execution_count": null,
   "metadata": {
    "id": "TT2gb4ORLDDc"
   },
   "outputs": [],
   "source": [
    "from tensorflow.keras.models import Model\n",
    "from tensorflow.keras.applications import VGG16\n",
    "\n",
    "seed=42\n",
    "def build_model(\n",
    "    input_shape=input_shape,\n",
    "    output_shape=output_shape,\n",
    "    learning_rate=lr_schedule,\n",
    "    augmentation=None,\n",
    "    seed=seed\n",
    "):\n",
    "    # Set the random seed for reproducibility\n",
    "    tf.random.set_seed(seed)\n",
    "\n",
    "    # Debug\n",
    "    print(\"Output shape:\", output_shape)\n",
    "\n",
    "    # Define the input layer\n",
    "    input_layer = tfkl.Input(shape=input_shape, name='Input')\n",
    "\n",
    "    # Optional: Apply augmentation if provided\n",
    "    if augmentation:\n",
    "        x = augmentation(input_layer)\n",
    "    else:\n",
    "        x = input_layer\n",
    "\n",
    "    # Load the VGG16 model as the base model\n",
    "    base_model = tf.keras.applications.VGG16(\n",
    "    include_top=False,\n",
    "    weights='imagenet',\n",
    "    input_tensor=x,\n",
    "    input_shape=(96,96,3),\n",
    "    pooling=None,\n",
    "    classifier_activation='softmax'\n",
    ")\n",
    "\n",
    "    # Add a global average pooling layer\n",
    "    x = tfkl.GlobalAveragePooling2D(name='gap')(base_model.output)\n",
    "\n",
    "    # Add a fully connected layer (optional)\n",
    "   # x = tfkl.Dense(128, activation='relu', name='fc1')(x)\n",
    "\n",
    "    # Add the output layer\n",
    "    output_layer = tfkl.Dense(output_shape, activation='softmax', name='Output')(x)\n",
    "\n",
    "    # Create the model\n",
    "    model = Model(inputs=input_layer, outputs=output_layer, name='Vgg16_Custom')\n",
    "\n",
    "\n",
    "    loss=tf.keras.losses.CategoricalCrossentropy(label_smoothing=0.1)   # smoothing to prevent overfitting due to MixUp e CutMix\n",
    "    #optimizer = tfk.optimizers.Adam(learning_rate)\n",
    "    optimizer = tf.keras.optimizers.SGD(learning_rate, momentum=0.9)\n",
    "    metrics=[tf.keras.metrics.CategoricalAccuracy(), tf.keras.metrics.TopKCategoricalAccuracy(k=5)]\n",
    "    model.compile(loss=loss, optimizer=optimizer, metrics=metrics)\n",
    "\n",
    "    # Return the compiled model\n",
    "    return model"
   ]
  },
  {
   "cell_type": "code",
   "execution_count": null,
   "metadata": {
    "colab": {
     "base_uri": "https://localhost:8080/",
     "height": 1000
    },
    "executionInfo": {
     "elapsed": 4088,
     "status": "ok",
     "timestamp": 1732442237385,
     "user": {
      "displayName": "martina frageri",
      "userId": "14588550817539270131"
     },
     "user_tz": -60
    },
    "id": "aR7K0pZ4LbIN",
    "outputId": "e12d1e45-440c-4d87-b5b1-6c6f93aebfb4"
   },
   "outputs": [],
   "source": [
    "# Build the model with specified input and output shapes\n",
    "model = build_model()\n",
    "#model = build_model(input_shape=input_shape, output_shape=output_shape, learning_rate=learning_rate)\n",
    "\n",
    "# Display a summary of the model architecture\n",
    "model.summary(expand_nested=True, show_trainable=True)\n",
    "\n",
    "# Plot the model architecture\n",
    "tfk.utils.plot_model(model)"
   ]
  },
  {
   "cell_type": "code",
   "execution_count": null,
   "metadata": {
    "colab": {
     "base_uri": "https://localhost:8080/"
    },
    "executionInfo": {
     "elapsed": 5838858,
     "status": "ok",
     "timestamp": 1732448323317,
     "user": {
      "displayName": "martina frageri",
      "userId": "14588550817539270131"
     },
     "user_tz": -60
    },
    "id": "4I7HYBccLmFF",
    "outputId": "eba950da-e10d-4355-e99b-6926081542c5"
   },
   "outputs": [],
   "source": [
    "# Train the model with early stopping callback\n",
    "#model.fit(augmented_data['images'], augmented_data['labels'], epochs=10, batch_size=32)\n",
    "history = model.fit(\n",
    "    train_ds,\n",
    "    batch_size=batch_size,\n",
    "    epochs=epochs,\n",
    "    validation_data=val_ds,\n",
    "    callbacks=callbacks,\n",
    "    class_weight=normalized_class_weights\n",
    ").history\n",
    "\n",
    "# Calculate and print the final validation accuracy\n",
    "final_val_accuracy = round(max(history['val_categorical_accuracy'])* 100, 2)\n",
    "print(f'Final validation accuracy: {final_val_accuracy}%')\n",
    "\n",
    "# Save the trained model to a file with the accuracy included in the filename\n",
    "model_filename = 'VGG16_'+str(final_val_accuracy)+'.keras'\n",
    "model.save(model_filename)\n",
    "\n",
    "del model"
   ]
  },
  {
   "cell_type": "code",
   "execution_count": null,
   "metadata": {
    "colab": {
     "base_uri": "https://localhost:8080/",
     "height": 483
    },
    "executionInfo": {
     "elapsed": 1114,
     "status": "ok",
     "timestamp": 1732448475824,
     "user": {
      "displayName": "martina frageri",
      "userId": "14588550817539270131"
     },
     "user_tz": -60
    },
    "id": "58vzfBekLyT_",
    "outputId": "a510285a-2e9c-4e84-ea21-afa9c365ce2b"
   },
   "outputs": [],
   "source": [
    "# Plot training and validation loss\n",
    "plt.figure(figsize=(15, 2))\n",
    "plt.plot(history['loss'], label='Training loss', alpha=.8)\n",
    "plt.plot(history['val_loss'], label='Validation loss', alpha=.8)\n",
    "plt.title('Loss')\n",
    "plt.legend()\n",
    "plt.grid(alpha=.3)\n",
    "\n",
    "# Plot training and validation accuracy\n",
    "plt.figure(figsize=(15, 2))\n",
    "plt.plot(history['categorical_accuracy'], label='Training categorical_accuracy', alpha=.8)\n",
    "plt.plot(history['val_categorical_accuracy'], label='Validation categotical accuracy', alpha=.8)\n",
    "plt.title('Accuracy')\n",
    "plt.legend()\n",
    "plt.grid(alpha=.3)\n",
    "plt.show()"
   ]
  },
  {
   "cell_type": "markdown",
   "metadata": {
    "id": "C4pq6ZENAryk"
   },
   "source": [
    "Predictions of VGG16 model"
   ]
  },
  {
   "cell_type": "code",
   "execution_count": null,
   "metadata": {
    "colab": {
     "base_uri": "https://localhost:8080/",
     "height": 783
    },
    "executionInfo": {
     "elapsed": 952,
     "status": "ok",
     "timestamp": 1732482178829,
     "user": {
      "displayName": "martina frageri",
      "userId": "14588550817539270131"
     },
     "user_tz": -60
    },
    "id": "9R6eO0S6AkHB",
    "outputId": "e87310b3-70f4-4894-cef2-8995043295ff"
   },
   "outputs": [],
   "source": [
    "# Convert predictions to class labels\n",
    "pred_classes = np.argmax(predictions, axis=-1)\n",
    "\n",
    "# Extract ground truth classes\n",
    "true_classes = np.argmax(y_val, axis=-1)\n",
    "\n",
    "# Calculate and display test set accuracy\n",
    "accuracy = accuracy_score(true_classes, pred_classes)\n",
    "print(f'Accuracy score over the test set: {round(accuracy, 4)}')\n",
    "\n",
    "# Calculate and display test set precision\n",
    "precision = precision_score(true_classes, pred_classes, average='weighted')\n",
    "print(f'Precision score over the test set: {round(precision, 4)}')\n",
    "\n",
    "# Calculate and display test set recall\n",
    "recall = recall_score(true_classes, pred_classes, average='weighted')\n",
    "print(f'Recall score over the test set: {round(recall, 4)}')\n",
    "\n",
    "# Calculate and display test set F1 score\n",
    "f1 = f1_score(true_classes, pred_classes, average='weighted')\n",
    "print(f'F1 score over the test set: {round(f1, 4)}')\n",
    "\n",
    "# Compute the confusion matrix\n",
    "cm = confusion_matrix(true_classes, pred_classes)\n",
    "\n",
    "# Combine numbers and percentages into a single string for annotation\n",
    "annot = np.array([f\"{num}\" for num in cm.flatten()]).reshape(cm.shape)\n",
    "\n",
    "# Plot the confusion matrix\n",
    "plt.figure(figsize=(10, 8))\n",
    "sns.heatmap(cm.T, annot=annot, fmt='', xticklabels=labels, yticklabels=labels, cmap='Blues')\n",
    "plt.ylabel('True labels')\n",
    "plt.xlabel('Predicted labels')\n",
    "plt.show()"
   ]
  },
  {
   "cell_type": "markdown",
   "metadata": {
    "id": "f6Bh8ZdfJOvX"
   },
   "source": [
    "### Xception"
   ]
  },
  {
   "cell_type": "code",
   "execution_count": null,
   "metadata": {
    "colab": {
     "base_uri": "https://localhost:8080/"
    },
    "executionInfo": {
     "elapsed": 3861826,
     "status": "ok",
     "timestamp": 1732294992463,
     "user": {
      "displayName": "Laura Moiana",
      "userId": "03513378093158623547"
     },
     "user_tz": -60
    },
    "id": "OXU5gCM0_2xB",
    "outputId": "709f11d6-4fd1-45a9-a320-f3bae9619a7d"
   },
   "outputs": [],
   "source": [
    "# upload the model\n",
    "# model = keras.models.load_model(model_filename)\n",
    "model = tfk.models.load_model('TL_Xception_99.12.keras')\n",
    "\n",
    "# make predictions\n",
    "X_val = tf.image.resize(X_val, (299, 299))  # resize\n",
    "X_val = X_val / 255.0  # normalizzazione\n",
    "y_val = tfk.utils.to_categorical(y_val) # trasformo y_val in one-hot encoding\n",
    "predictions = model.predict(X_val, verbose=0)\n",
    "\n",
    "# Display the shape of the predictions\n",
    "print(\"Predictions Shape:\", predictions.shape)"
   ]
  },
  {
   "cell_type": "code",
   "execution_count": null,
   "metadata": {
    "colab": {
     "base_uri": "https://localhost:8080/",
     "height": 782
    },
    "executionInfo": {
     "elapsed": 909,
     "status": "ok",
     "timestamp": 1732295015683,
     "user": {
      "displayName": "Laura Moiana",
      "userId": "03513378093158623547"
     },
     "user_tz": -60
    },
    "id": "BBtgW8UM_2xI",
    "outputId": "66aa6f3c-0d7a-48cd-a123-1439a17707a7"
   },
   "outputs": [],
   "source": [
    "# convert predictions to class labels\n",
    "pred_classes = np.argmax(predictions, axis=-1)\n",
    "\n",
    "# extract ground truth classes\n",
    "true_classes = np.argmax(y_val, axis=-1)\n",
    "\n",
    "# calculate and display test set accuracy\n",
    "accuracy = accuracy_score(true_classes, pred_classes)\n",
    "print(f'Accuracy score over the test set: {round(accuracy, 4)}')\n",
    "\n",
    "# calculate and display test set precision\n",
    "precision = precision_score(true_classes, pred_classes, average='weighted')\n",
    "print(f'Precision score over the test set: {round(precision, 4)}')\n",
    "\n",
    "# calculate and display test set recall\n",
    "recall = recall_score(true_classes, pred_classes, average='weighted')\n",
    "print(f'Recall score over the test set: {round(recall, 4)}')\n",
    "\n",
    "# calculate and display test set F1 score\n",
    "f1 = f1_score(true_classes, pred_classes, average='weighted')\n",
    "print(f'F1 score over the test set: {round(f1, 4)}')\n",
    "\n",
    "# compute the confusion matrix\n",
    "cm = confusion_matrix(true_classes, pred_classes)\n",
    "\n",
    "# combine numbers and percentages into a single string for annotation\n",
    "annot = np.array([f\"{num}\" for num in cm.flatten()]).reshape(cm.shape)\n",
    "\n",
    "# plot the confusion matrix\n",
    "plt.figure(figsize=(10, 8))\n",
    "sns.heatmap(cm.T, annot=annot, fmt='', xticklabels=labels, yticklabels=labels, cmap='Blues')\n",
    "plt.ylabel('True labels')\n",
    "plt.xlabel('Predicted labels')\n",
    "plt.show()"
   ]
  },
  {
   "cell_type": "markdown",
   "metadata": {
    "id": "l5aJJqosd2sk"
   },
   "source": [
    "function to build the model"
   ]
  },
  {
   "cell_type": "code",
   "execution_count": null,
   "metadata": {
    "id": "CgfvhAyBQU70"
   },
   "outputs": [],
   "source": [
    "from tensorflow.keras.models import Model\n",
    "from tensorflow.keras.applications import Xception\n",
    "\n",
    "seed=42\n",
    "def build_model(\n",
    "    input_shape=input_shape,\n",
    "    output_shape=output_shape,\n",
    "    learning_rate=lr_schedule,\n",
    "    augmentation=None,\n",
    "    seed=seed\n",
    "):\n",
    "    # Set the random seed for reproducibility\n",
    "    tf.random.set_seed(seed)\n",
    "\n",
    "    # check output shape for debug\n",
    "    print(\"Output shape:\", output_shape)\n",
    "\n",
    "    # define the input layer\n",
    "    input_layer = tfkl.Input(shape=input_shape, name='Input')\n",
    "\n",
    "    # Optional: Apply augmentation if provided\n",
    "    if augmentation:\n",
    "        x = augmentation(input_layer)\n",
    "    else:\n",
    "        x = input_layer\n",
    "\n",
    "    # initialize the estabilished pretrained backbone\n",
    "    base_model = tf.keras.applications.Xception(\n",
    "    include_top=False,\n",
    "    weights='imagenet',\n",
    "    input_tensor=x,\n",
    "    input_shape=(299, 299, 3),\n",
    "    pooling=None,\n",
    "    classifier_activation='softmax'\n",
    "    )\n",
    "\n",
    "    # add a global average pooling layer (needed it the features after the backbone are not in an array-like form)\n",
    "    x = tfkl.GlobalAveragePooling2D(name='gap')(base_model.output)\n",
    "\n",
    "    # output layer\n",
    "    output_layer = tfkl.Dense(output_shape, activation='softmax', name='Output')(x)\n",
    "\n",
    "    # create the model\n",
    "    model = Model(inputs=input_layer, outputs=output_layer, name='Xception_Custom')\n",
    "\n",
    "    # define loss, optimizer, metrics to monitorate\n",
    "    loss=tf.keras.losses.CategoricalCrossentropy(label_smoothing=0.1)   # smoothing to prevent overfitting due to MixUp e CutMix\n",
    "    optimizer = tf.keras.optimizers.AdamW(learning_rate)\n",
    "    metrics=[tf.keras.metrics.CategoricalAccuracy(), tf.keras.metrics.TopKCategoricalAccuracy(k=5)]\n",
    "\n",
    "    # compile the model\n",
    "    model.compile(loss=loss, optimizer=optimizer, metrics=metrics)\n",
    "\n",
    "    # return the compiled model\n",
    "    return model"
   ]
  },
  {
   "cell_type": "code",
   "execution_count": null,
   "metadata": {
    "colab": {
     "base_uri": "https://localhost:8080/",
     "height": 1000
    },
    "executionInfo": {
     "elapsed": 8922,
     "status": "ok",
     "timestamp": 1732285741925,
     "user": {
      "displayName": "Laura Moiana",
      "userId": "03513378093158623547"
     },
     "user_tz": -60
    },
    "id": "oBR1jSfmaGrf",
    "outputId": "989fee3d-d3a4-4011-e910-d91c144d9139"
   },
   "outputs": [],
   "source": [
    "# build the model\n",
    "model = build_model(input_shape=input_shape, output_shape=output_shape, learning_rate=lr_schedule, seed = 42)\n",
    "\n",
    "# display a summary of the model architecture\n",
    "model.summary(expand_nested=True, show_trainable=True)\n",
    "\n",
    "# Plot the model architecture\n",
    "tfk.utils.plot_model(model, expand_nested=True, show_trainable=True, show_shapes=True, dpi=70)"
   ]
  },
  {
   "cell_type": "markdown",
   "metadata": {
    "id": "UUSVcadsgIQF"
   },
   "source": [
    "freezing the first layers for fine tuning (if needed)"
   ]
  },
  {
   "cell_type": "code",
   "execution_count": null,
   "metadata": {
    "id": "EpVuFJLes3eM"
   },
   "outputs": [],
   "source": [
    "# number of layers to freeze\n",
    "N = 0\n",
    "\n",
    "# set the first N layers as non-trainable\n",
    "for i, layer in enumerate(model.layers[:N]):\n",
    "    layer.trainable = False"
   ]
  },
  {
   "cell_type": "code",
   "execution_count": null,
   "metadata": {
    "id": "ileLe5LOJbC4"
   },
   "outputs": [],
   "source": [
    "# Train the model\n",
    "history = model.fit(\n",
    "    train_ds,\n",
    "    batch_size=batch_size,\n",
    "    epochs=epochs,\n",
    "    validation_data=val_ds,\n",
    "    callbacks=callbacks,\n",
    "    class_weight=normalized_class_weights\n",
    ").history\n",
    "\n",
    "# Calculate and print the best validation accuracy achieved\n",
    "final_val_accuracy = round(max(history['val_categorical_accuracy']) * 100, 2)\n",
    "print(f'Final validation accuracy: {final_val_accuracy}%')\n",
    "\n",
    "# Save the trained model to a file, including final accuracy in the filename\n",
    "model_filename = 'TL_Xception_' + str(final_val_accuracy) + '.keras'\n",
    "model.save(model_filename)\n",
    "\n",
    "# Free memory by deleting the model instance\n",
    "del model"
   ]
  },
  {
   "cell_type": "code",
   "execution_count": null,
   "metadata": {
    "id": "c7SXu4wbI4Ev"
   },
   "outputs": [],
   "source": [
    "Epoch 1/100\n",
    "299/299 ━━━━━━━━━━━━━━━━━━━━ 379s 1s/step - categorical_accuracy: 0.3175 - loss: 1.6446 - top_k_categorical_accuracy: 0.8111 - val_categorical_accuracy: 0.4797 - val_loss: 1.7436 - val_top_k_categorical_accuracy: 0.9724\n",
    "Epoch 2/100\n",
    "299/299 ━━━━━━━━━━━━━━━━━━━━ 299s 971ms/step - categorical_accuracy: 0.5015 - loss: 1.4202 - top_k_categorical_accuracy: 0.8741 - val_categorical_accuracy: 0.8904 - val_loss: 0.8201 - val_top_k_categorical_accuracy: 0.9954\n",
    "Epoch 3/100\n",
    "299/299 ━━━━━━━━━━━━━━━━━━━━ 299s 988ms/step - categorical_accuracy: 0.5293 - loss: 1.3724 - top_k_categorical_accuracy: 0.8856 - val_categorical_accuracy: 0.7921 - val_loss: 0.9772 - val_top_k_categorical_accuracy: 0.9987\n",
    "Epoch 4/100\n",
    "299/299 ━━━━━━━━━━━━━━━━━━━━ 299s 988ms/step - categorical_accuracy: 0.5402 - loss: 1.3540 - top_k_categorical_accuracy: 0.8914 - val_categorical_accuracy: 0.7520 - val_loss: 1.0482 - val_top_k_categorical_accuracy: 0.9958\n",
    "Epoch 5/100\n",
    "299/299 ━━━━━━━━━━━━━━━━━━━━ 297s 983ms/step - categorical_accuracy: 0.5643 - loss: 1.3336 - top_k_categorical_accuracy: 0.8923 - val_categorical_accuracy: 0.9511 - val_loss: 0.8843 - val_top_k_categorical_accuracy: 0.9987\n",
    "Epoch 6/100\n",
    "299/299 ━━━━━━━━━━━━━━━━━━━━ 299s 989ms/step - categorical_accuracy: 0.5530 - loss: 1.3295 - top_k_categorical_accuracy: 0.8901 - val_categorical_accuracy: 0.9368 - val_loss: 0.8865 - val_top_k_categorical_accuracy: 0.9979\n",
    "Epoch 7/100\n",
    "299/299 ━━━━━━━━━━━━━━━━━━━━ 299s 988ms/step - categorical_accuracy: 0.5746 - loss: 1.3188 - top_k_categorical_accuracy: 0.8917 - val_categorical_accuracy: 0.9352 - val_loss: 0.7648 - val_top_k_categorical_accuracy: 0.9962\n",
    "Epoch 8/100\n",
    "299/299 ━━━━━━━━━━━━━━━━━━━━ 296s 979ms/step - categorical_accuracy: 0.5749 - loss: 1.3156 - top_k_categorical_accuracy: 0.8931 - val_categorical_accuracy: 0.9293 - val_loss: 0.9053 - val_top_k_categorical_accuracy: 0.9971\n",
    "Epoch 9/100\n",
    "299/299 ━━━━━━━━━━━━━━━━━━━━ 297s 982ms/step - categorical_accuracy: 0.5849 - loss: 1.2808 - top_k_categorical_accuracy: 0.9085 - val_categorical_accuracy: 0.9017 - val_loss: 0.8942 - val_top_k_categorical_accuracy: 0.9958\n",
    "Epoch 10/100\n",
    "299/299 ━━━━━━━━━━━━━━━━━━━━ 297s 982ms/step - categorical_accuracy: 0.5697 - loss: 1.2875 - top_k_categorical_accuracy: 0.9043 - val_categorical_accuracy: 0.9544 - val_loss: 0.9174 - val_top_k_categorical_accuracy: 0.9996\n",
    "Epoch 11/100\n",
    "299/299 ━━━━━━━━━━━━━━━━━━━━ 297s 984ms/step - categorical_accuracy: 0.5768 - loss: 1.2888 - top_k_categorical_accuracy: 0.9044 - val_categorical_accuracy: 0.9218 - val_loss: 0.8641 - val_top_k_categorical_accuracy: 0.9992\n",
    "Epoch 12/100\n",
    "299/299 ━━━━━━━━━━━━━━━━━━━━ 297s 984ms/step - categorical_accuracy: 0.5910 - loss: 1.2622 - top_k_categorical_accuracy: 0.9119 - val_categorical_accuracy: 0.8846 - val_loss: 0.8904 - val_top_k_categorical_accuracy: 0.9987\n",
    "Epoch 13/100\n",
    "299/299 ━━━━━━━━━━━━━━━━━━━━ 298s 984ms/step - categorical_accuracy: 0.5736 - loss: 1.2724 - top_k_categorical_accuracy: 0.9103 - val_categorical_accuracy: 0.9519 - val_loss: 0.8034 - val_top_k_categorical_accuracy: 0.9996\n",
    "Epoch 14/100\n",
    "299/299 ━━━━━━━━━━━━━━━━━━━━ 297s 983ms/step - categorical_accuracy: 0.5825 - loss: 1.2562 - top_k_categorical_accuracy: 0.9126 - val_categorical_accuracy: 0.9578 - val_loss: 0.7723 - val_top_k_categorical_accuracy: 0.9996\n",
    "Epoch 15/100\n",
    "299/299 ━━━━━━━━━━━━━━━━━━━━ 297s 983ms/step - categorical_accuracy: 0.5763 - loss: 1.2660 - top_k_categorical_accuracy: 0.9162 - val_categorical_accuracy: 0.8770 - val_loss: 0.9309 - val_top_k_categorical_accuracy: 0.9987\n",
    "Epoch 16/100\n",
    "299/299 ━━━━━━━━━━━━━━━━━━━━ 297s 984ms/step - categorical_accuracy: 0.5865 - loss: 1.2408 - top_k_categorical_accuracy: 0.9190 - val_categorical_accuracy: 0.9272 - val_loss: 0.9006 - val_top_k_categorical_accuracy: 0.9987\n",
    "Epoch 17/100\n",
    "299/299 ━━━━━━━━━━━━━━━━━━━━ 296s 980ms/step - categorical_accuracy: 0.5831 - loss: 1.2361 - top_k_categorical_accuracy: 0.9228 - val_categorical_accuracy: 0.9155 - val_loss: 0.8618 - val_top_k_categorical_accuracy: 0.9983\n",
    "Epoch 18/100\n",
    "299/299 ━━━━━━━━━━━━━━━━━━━━ 296s 978ms/step - categorical_accuracy: 0.5900 - loss: 1.2118 - top_k_categorical_accuracy: 0.9295 - val_categorical_accuracy: 0.9665 - val_loss: 0.7851 - val_top_k_categorical_accuracy: 0.9996\n",
    "Epoch 19/100\n",
    "299/299 ━━━━━━━━━━━━━━━━━━━━ 297s 982ms/step - categorical_accuracy: 0.5965 - loss: 1.2085 - top_k_categorical_accuracy: 0.9252 - val_categorical_accuracy: 0.9373 - val_loss: 0.8646 - val_top_k_categorical_accuracy: 0.9975\n",
    "Epoch 20/100\n",
    "299/299 ━━━━━━━━━━━━━━━━━━━━ 297s 982ms/step - categorical_accuracy: 0.5893 - loss: 1.1977 - top_k_categorical_accuracy: 0.9295 - val_categorical_accuracy: 0.9762 - val_loss: 0.7859 - val_top_k_categorical_accuracy: 1.0000\n",
    "Epoch 21/100\n",
    "299/299 ━━━━━━━━━━━━━━━━━━━━ 298s 987ms/step - categorical_accuracy: 0.5965 - loss: 1.2085 - top_k_categorical_accuracy: 0.9251 - val_categorical_accuracy: 0.9716 - val_loss: 0.7951 - val_top_k_categorical_accuracy: 0.9996\n",
    "Epoch 22/100\n",
    "299/299 ━━━━━━━━━━━━━━━━━━━━ 296s 980ms/step - categorical_accuracy: 0.6009 - loss: 1.1944 - top_k_categorical_accuracy: 0.9162 - val_categorical_accuracy: 0.9728 - val_loss: 0.7738 - val_top_k_categorical_accuracy: 1.0000\n",
    "Epoch 23/100\n",
    "299/299 ━━━━━━━━━━━━━━━━━━━━ 298s 985ms/step - categorical_accuracy: 0.5997 - loss: 1.1979 - top_k_categorical_accuracy: 0.9214 - val_categorical_accuracy: 0.9368 - val_loss: 0.8994 - val_top_k_categorical_accuracy: 0.9996\n",
    "Epoch 24/100\n",
    "299/299 ━━━━━━━━━━━━━━━━━━━━ 296s 979ms/step - categorical_accuracy: 0.5979 - loss: 1.1836 - top_k_categorical_accuracy: 0.9291 - val_categorical_accuracy: 0.9034 - val_loss: 0.9168 - val_top_k_categorical_accuracy: 0.9967\n",
    "Epoch 25/100\n",
    "299/299 ━━━━━━━━━━━━━━━━━━━━ 297s 983ms/step - categorical_accuracy: 0.6001 - loss: 1.1901 - top_k_categorical_accuracy: 0.9244 - val_categorical_accuracy: 0.9720 - val_loss: 0.8149 - val_top_k_categorical_accuracy: 0.9992\n",
    "Epoch 26/100\n",
    "299/299 ━━━━━━━━━━━━━━━━━━━━ 297s 982ms/step - categorical_accuracy: 0.5956 - loss: 1.1971 - top_k_categorical_accuracy: 0.9217 - val_categorical_accuracy: 0.9586 - val_loss: 0.8851 - val_top_k_categorical_accuracy: 0.9996\n",
    "Epoch 27/100\n",
    "299/299 ━━━━━━━━━━━━━━━━━━━━ 297s 981ms/step - categorical_accuracy: 0.6080 - loss: 1.2030 - top_k_categorical_accuracy: 0.9189 - val_categorical_accuracy: 0.9674 - val_loss: 0.7752 - val_top_k_categorical_accuracy: 1.0000\n",
    "Epoch 28/100\n",
    "299/299 ━━━━━━━━━━━━━━━━━━━━ 296s 980ms/step - categorical_accuracy: 0.5996 - loss: 1.1863 - top_k_categorical_accuracy: 0.9255 - val_categorical_accuracy: 0.9770 - val_loss: 0.7541 - val_top_k_categorical_accuracy: 1.0000\n",
    "Epoch 29/100\n",
    "299/299 ━━━━━━━━━━━━━━━━━━━━ 296s 980ms/step - categorical_accuracy: 0.5971 - loss: 1.1917 - top_k_categorical_accuracy: 0.9303 - val_categorical_accuracy: 0.9803 - val_loss: 0.7546 - val_top_k_categorical_accuracy: 1.0000\n",
    "Epoch 30/100\n",
    "299/299 ━━━━━━━━━━━━━━━━━━━━ 296s 980ms/step - categorical_accuracy: 0.6009 - loss: 1.1868 - top_k_categorical_accuracy: 0.9266 - val_categorical_accuracy: 0.9741 - val_loss: 0.7558 - val_top_k_categorical_accuracy: 1.0000\n",
    "Epoch 31/100\n",
    "299/299 ━━━━━━━━━━━━━━━━━━━━ 297s 982ms/step - categorical_accuracy: 0.6091 - loss: 1.1737 - top_k_categorical_accuracy: 0.9230 - val_categorical_accuracy: 0.9720 - val_loss: 0.7797 - val_top_k_categorical_accuracy: 0.9987\n",
    "Epoch 32/100\n",
    "299/299 ━━━━━━━━━━━━━━━━━━━━ 297s 982ms/step - categorical_accuracy: 0.6051 - loss: 1.1900 - top_k_categorical_accuracy: 0.9226 - val_categorical_accuracy: 0.9762 - val_loss: 0.8528 - val_top_k_categorical_accuracy: 0.9996\n",
    "Epoch 33/100\n",
    "299/299 ━━━━━━━━━━━━━━━━━━━━ 296s 978ms/step - categorical_accuracy: 0.6053 - loss: 1.1502 - top_k_categorical_accuracy: 0.9385 - val_categorical_accuracy: 0.9816 - val_loss: 0.7249 - val_top_k_categorical_accuracy: 0.9996\n",
    "Epoch 34/100\n",
    "299/299 ━━━━━━━━━━━━━━━━━━━━ 297s 981ms/step - categorical_accuracy: 0.6023 - loss: 1.1791 - top_k_categorical_accuracy: 0.9192 - val_categorical_accuracy: 0.9820 - val_loss: 0.7570 - val_top_k_categorical_accuracy: 1.0000\n",
    "Epoch 35/100\n",
    "299/299 ━━━━━━━━━━━━━━━━━━━━ 298s 986ms/step - categorical_accuracy: 0.6018 - loss: 1.1565 - top_k_categorical_accuracy: 0.9327 - val_categorical_accuracy: 0.9737 - val_loss: 0.7747 - val_top_k_categorical_accuracy: 1.0000\n",
    "Epoch 36/100\n",
    "299/299 ━━━━━━━━━━━━━━━━━━━━ 298s 986ms/step - categorical_accuracy: 0.6040 - loss: 1.1432 - top_k_categorical_accuracy: 0.9355 - val_categorical_accuracy: 0.9816 - val_loss: 0.7420 - val_top_k_categorical_accuracy: 1.0000\n",
    "Epoch 37/100\n",
    "299/299 ━━━━━━━━━━━━━━━━━━━━ 298s 986ms/step - categorical_accuracy: 0.6087 - loss: 1.1358 - top_k_categorical_accuracy: 0.9375 - val_categorical_accuracy: 0.9820 - val_loss: 0.7698 - val_top_k_categorical_accuracy: 0.9992\n",
    "Epoch 38/100\n",
    "299/299 ━━━━━━━━━━━━━━━━━━━━ 298s 984ms/step - categorical_accuracy: 0.6116 - loss: 1.1337 - top_k_categorical_accuracy: 0.9360 - val_categorical_accuracy: 0.9791 - val_loss: 0.7277 - val_top_k_categorical_accuracy: 1.0000\n",
    "Epoch 39/100\n",
    "299/299 ━━━━━━━━━━━━━━━━━━━━ 296s 980ms/step - categorical_accuracy: 0.6013 - loss: 1.1520 - top_k_categorical_accuracy: 0.9305 - val_categorical_accuracy: 0.9845 - val_loss: 0.7641 - val_top_k_categorical_accuracy: 1.0000\n",
    "Epoch 40/100\n",
    "299/299 ━━━━━━━━━━━━━━━━━━━━ 297s 981ms/step - categorical_accuracy: 0.6174 - loss: 1.1323 - top_k_categorical_accuracy: 0.9325 - val_categorical_accuracy: 0.9783 - val_loss: 0.8035 - val_top_k_categorical_accuracy: 0.9996\n",
    "Epoch 41/100\n",
    "299/299 ━━━━━━━━━━━━━━━━━━━━ 297s 982ms/step - categorical_accuracy: 0.6009 - loss: 1.1479 - top_k_categorical_accuracy: 0.9319 - val_categorical_accuracy: 0.9845 - val_loss: 0.7503 - val_top_k_categorical_accuracy: 1.0000\n",
    "Epoch 42/100\n",
    "299/299 ━━━━━━━━━━━━━━━━━━━━ 298s 986ms/step - categorical_accuracy: 0.6047 - loss: 1.1471 - top_k_categorical_accuracy: 0.9349 - val_categorical_accuracy: 0.9783 - val_loss: 0.6965 - val_top_k_categorical_accuracy: 1.0000\n",
    "Epoch 43/100\n",
    "299/299 ━━━━━━━━━━━━━━━━━━━━ 298s 984ms/step - categorical_accuracy: 0.6090 - loss: 1.1329 - top_k_categorical_accuracy: 0.9361 - val_categorical_accuracy: 0.9820 - val_loss: 0.7459 - val_top_k_categorical_accuracy: 1.0000\n",
    "Epoch 44/100\n",
    "299/299 ━━━━━━━━━━━━━━━━━━━━ 297s 981ms/step - categorical_accuracy: 0.6148 - loss: 1.1104 - top_k_categorical_accuracy: 0.9413 - val_categorical_accuracy: 0.9849 - val_loss: 0.7334 - val_top_k_categorical_accuracy: 0.9996\n",
    "Epoch 45/100\n",
    "299/299 ━━━━━━━━━━━━━━━━━━━━ 297s 984ms/step - categorical_accuracy: 0.6101 - loss: 1.1244 - top_k_categorical_accuracy: 0.9389 - val_categorical_accuracy: 0.9833 - val_loss: 0.7655 - val_top_k_categorical_accuracy: 0.9996\n",
    "Epoch 46/100\n",
    "299/299 ━━━━━━━━━━━━━━━━━━━━ 298s 985ms/step - categorical_accuracy: 0.6052 - loss: 1.1374 - top_k_categorical_accuracy: 0.9358 - val_categorical_accuracy: 0.9812 - val_loss: 0.7511 - val_top_k_categorical_accuracy: 1.0000\n",
    "Epoch 47/100\n",
    "299/299 ━━━━━━━━━━━━━━━━━━━━ 298s 986ms/step - categorical_accuracy: 0.6092 - loss: 1.1271 - top_k_categorical_accuracy: 0.9343 - val_categorical_accuracy: 0.9858 - val_loss: 0.7296 - val_top_k_categorical_accuracy: 1.0000\n",
    "Epoch 48/100\n",
    "299/299 ━━━━━━━━━━━━━━━━━━━━ 297s 983ms/step - categorical_accuracy: 0.6181 - loss: 1.1269 - top_k_categorical_accuracy: 0.9308 - val_categorical_accuracy: 0.9854 - val_loss: 0.6929 - val_top_k_categorical_accuracy: 1.0000\n",
    "Epoch 49/100\n",
    "299/299 ━━━━━━━━━━━━━━━━━━━━ 298s 985ms/step - categorical_accuracy: 0.6066 - loss: 1.1324 - top_k_categorical_accuracy: 0.9345 - val_categorical_accuracy: 0.9858 - val_loss: 0.7291 - val_top_k_categorical_accuracy: 0.9996\n",
    "Epoch 50/100\n",
    "299/299 ━━━━━━━━━━━━━━━━━━━━ 297s 981ms/step - categorical_accuracy: 0.6097 - loss: 1.1131 - top_k_categorical_accuracy: 0.9379 - val_categorical_accuracy: 0.9858 - val_loss: 0.7018 - val_top_k_categorical_accuracy: 1.0000\n",
    "Epoch 51/100\n",
    "299/299 ━━━━━━━━━━━━━━━━━━━━ 297s 982ms/step - categorical_accuracy: 0.6156 - loss: 1.1060 - top_k_categorical_accuracy: 0.9415 - val_categorical_accuracy: 0.9870 - val_loss: 0.7373 - val_top_k_categorical_accuracy: 1.0000\n",
    "Epoch 52/100\n",
    "299/299 ━━━━━━━━━━━━━━━━━━━━ 297s 982ms/step - categorical_accuracy: 0.6204 - loss: 1.0994 - top_k_categorical_accuracy: 0.9413 - val_categorical_accuracy: 0.9858 - val_loss: 0.7522 - val_top_k_categorical_accuracy: 1.0000\n",
    "Epoch 53/100\n",
    "299/299 ━━━━━━━━━━━━━━━━━━━━ 297s 982ms/step - categorical_accuracy: 0.6154 - loss: 1.0902 - top_k_categorical_accuracy: 0.9431 - val_categorical_accuracy: 0.9883 - val_loss: 0.7353 - val_top_k_categorical_accuracy: 1.0000\n",
    "Epoch 54/100\n",
    "299/299 ━━━━━━━━━━━━━━━━━━━━ 298s 985ms/step - categorical_accuracy: 0.6224 - loss: 1.0812 - top_k_categorical_accuracy: 0.9495 - val_categorical_accuracy: 0.9858 - val_loss: 0.7622 - val_top_k_categorical_accuracy: 0.9996\n",
    "Epoch 55/100\n",
    "299/299 ━━━━━━━━━━━━━━━━━━━━ 295s 976ms/step - categorical_accuracy: 0.6112 - loss: 1.1107 - top_k_categorical_accuracy: 0.9361 - val_categorical_accuracy: 0.9862 - val_loss: 0.7409 - val_top_k_categorical_accuracy: 1.0000\n",
    "Epoch 56/100\n",
    "299/299 ━━━━━━━━━━━━━━━━━━━━ 297s 981ms/step - categorical_accuracy: 0.6219 - loss: 1.0989 - top_k_categorical_accuracy: 0.9430 - val_categorical_accuracy: 0.9875 - val_loss: 0.7011 - val_top_k_categorical_accuracy: 0.9996\n",
    "Epoch 57/100\n",
    "299/299 ━━━━━━━━━━━━━━━━━━━━ 297s 982ms/step - categorical_accuracy: 0.6215 - loss: 1.0768 - top_k_categorical_accuracy: 0.9493 - val_categorical_accuracy: 0.9887 - val_loss: 0.7426 - val_top_k_categorical_accuracy: 0.9996\n",
    "Epoch 58/100\n",
    "299/299 ━━━━━━━━━━━━━━━━━━━━ 297s 981ms/step - categorical_accuracy: 0.6186 - loss: 1.0891 - top_k_categorical_accuracy: 0.9426 - val_categorical_accuracy: 0.9854 - val_loss: 0.7498 - val_top_k_categorical_accuracy: 1.0000\n",
    "Epoch 59/100\n",
    "299/299 ━━━━━━━━━━━━━━━━━━━━ 296s 979ms/step - categorical_accuracy: 0.6195 - loss: 1.0937 - top_k_categorical_accuracy: 0.9407 - val_categorical_accuracy: 0.9870 - val_loss: 0.7353 - val_top_k_categorical_accuracy: 1.0000\n",
    "Epoch 60/100\n",
    "299/299 ━━━━━━━━━━━━━━━━━━━━ 295s 977ms/step - categorical_accuracy: 0.6196 - loss: 1.0938 - top_k_categorical_accuracy: 0.9406 - val_categorical_accuracy: 0.9858 - val_loss: 0.7420 - val_top_k_categorical_accuracy: 0.9996\n",
    "Epoch 61/100\n",
    "299/299 ━━━━━━━━━━━━━━━━━━━━ 295s 977ms/step - categorical_accuracy: 0.6142 - loss: 1.0962 - top_k_categorical_accuracy: 0.9469 - val_categorical_accuracy: 0.9854 - val_loss: 0.7450 - val_top_k_categorical_accuracy: 0.9996\n",
    "Epoch 62/100\n",
    "299/299 ━━━━━━━━━━━━━━━━━━━━ 296s 979ms/step - categorical_accuracy: 0.6119 - loss: 1.0828 - top_k_categorical_accuracy: 0.9494 - val_categorical_accuracy: 0.9879 - val_loss: 0.6911 - val_top_k_categorical_accuracy: 1.0000\n",
    "Epoch 63/100\n",
    "299/299 ━━━━━━━━━━━━━━━━━━━━ 296s 978ms/step - categorical_accuracy: 0.6222 - loss: 1.0821 - top_k_categorical_accuracy: 0.9466 - val_categorical_accuracy: 0.9883 - val_loss: 0.7107 - val_top_k_categorical_accuracy: 1.0000\n",
    "Epoch 64/100\n",
    "299/299 ━━━━━━━━━━━━━━━━━━━━ 297s 982ms/step - categorical_accuracy: 0.6094 - loss: 1.0938 - top_k_categorical_accuracy: 0.9488 - val_categorical_accuracy: 0.9845 - val_loss: 0.7269 - val_top_k_categorical_accuracy: 0.9996\n",
    "Epoch 65/100\n",
    "299/299 ━━━━━━━━━━━━━━━━━━━━ 296s 980ms/step - categorical_accuracy: 0.6109 - loss: 1.1022 - top_k_categorical_accuracy: 0.9415 - val_categorical_accuracy: 0.9875 - val_loss: 0.7397 - val_top_k_categorical_accuracy: 1.0000\n",
    "Epoch 66/100\n",
    "299/299 ━━━━━━━━━━━━━━━━━━━━ 295s 975ms/step - categorical_accuracy: 0.6171 - loss: 1.0799 - top_k_categorical_accuracy: 0.9458 - val_categorical_accuracy: 0.9845 - val_loss: 0.7216 - val_top_k_categorical_accuracy: 1.0000\n",
    "Epoch 67/100\n",
    "299/299 ━━━━━━━━━━━━━━━━━━━━ 296s 978ms/step - categorical_accuracy: 0.6132 - loss: 1.0909 - top_k_categorical_accuracy: 0.9455 - val_categorical_accuracy: 0.9845 - val_loss: 0.7282 - val_top_k_categorical_accuracy: 1.0000\n",
    "Epoch 68/100\n",
    "299/299 ━━━━━━━━━━━━━━━━━━━━ 296s 979ms/step - categorical_accuracy: 0.6330 - loss: 1.0622 - top_k_categorical_accuracy: 0.9503 - val_categorical_accuracy: 0.9883 - val_loss: 0.7160 - val_top_k_categorical_accuracy: 1.0000\n",
    "Epoch 69/100\n",
    "299/299 ━━━━━━━━━━━━━━━━━━━━ 298s 984ms/step - categorical_accuracy: 0.6144 - loss: 1.0701 - top_k_categorical_accuracy: 0.9531 - val_categorical_accuracy: 0.9891 - val_loss: 0.7377 - val_top_k_categorical_accuracy: 1.0000\n",
    "Epoch 70/100\n",
    "299/299 ━━━━━━━━━━━━━━━━━━━━ 297s 983ms/step - categorical_accuracy: 0.6139 - loss: 1.0638 - top_k_categorical_accuracy: 0.9517 - val_categorical_accuracy: 0.9883 - val_loss: 0.7208 - val_top_k_categorical_accuracy: 1.0000\n",
    "Epoch 71/100\n",
    "299/299 ━━━━━━━━━━━━━━━━━━━━ 295s 975ms/step - categorical_accuracy: 0.6274 - loss: 1.0784 - top_k_categorical_accuracy: 0.9439 - val_categorical_accuracy: 0.9866 - val_loss: 0.7095 - val_top_k_categorical_accuracy: 1.0000\n",
    "Epoch 72/100\n",
    "299/299 ━━━━━━━━━━━━━━━━━━━━ 296s 979ms/step - categorical_accuracy: 0.6257 - loss: 1.0625 - top_k_categorical_accuracy: 0.9455 - val_categorical_accuracy: 0.9916 - val_loss: 0.6978 - val_top_k_categorical_accuracy: 1.0000\n",
    "Epoch 73/100\n",
    "299/299 ━━━━━━━━━━━━━━━━━━━━ 295s 978ms/step - categorical_accuracy: 0.6243 - loss: 1.0644 - top_k_categorical_accuracy: 0.9487 - val_categorical_accuracy: 0.9883 - val_loss: 0.6990 - val_top_k_categorical_accuracy: 1.0000\n",
    "Epoch 74/100\n",
    "299/299 ━━━━━━━━━━━━━━━━━━━━ 297s 981ms/step - categorical_accuracy: 0.6176 - loss: 1.0963 - top_k_categorical_accuracy: 0.9339 - val_categorical_accuracy: 0.9895 - val_loss: 0.6891 - val_top_k_categorical_accuracy: 1.0000\n",
    "Epoch 75/100\n",
    "299/299 ━━━━━━━━━━━━━━━━━━━━ 298s 986ms/step - categorical_accuracy: 0.6187 - loss: 1.0752 - top_k_categorical_accuracy: 0.9483 - val_categorical_accuracy: 0.9858 - val_loss: 0.7449 - val_top_k_categorical_accuracy: 0.9996\n",
    "Epoch 76/100\n",
    "299/299 ━━━━━━━━━━━━━━━━━━━━ 298s 986ms/step - categorical_accuracy: 0.6199 - loss: 1.0553 - top_k_categorical_accuracy: 0.9508 - val_categorical_accuracy: 0.9879 - val_loss: 0.7163 - val_top_k_categorical_accuracy: 0.9996\n",
    "Epoch 77/100\n",
    "299/299 ━━━━━━━━━━━━━━━━━━━━ 297s 984ms/step - categorical_accuracy: 0.6201 - loss: 1.0690 - top_k_categorical_accuracy: 0.9456 - val_categorical_accuracy: 0.9862 - val_loss: 0.7175 - val_top_k_categorical_accuracy: 1.0000\n",
    "Epoch 78/100\n",
    "299/299 ━━━━━━━━━━━━━━━━━━━━ 297s 984ms/step - categorical_accuracy: 0.6266 - loss: 1.0708 - top_k_categorical_accuracy: 0.9388 - val_categorical_accuracy: 0.9875 - val_loss: 0.7216 - val_top_k_categorical_accuracy: 1.0000\n",
    "Epoch 79/100\n",
    "299/299 ━━━━━━━━━━━━━━━━━━━━ 297s 983ms/step - categorical_accuracy: 0.6168 - loss: 1.0664 - top_k_categorical_accuracy: 0.9438 - val_categorical_accuracy: 0.9912 - val_loss: 0.6958 - val_top_k_categorical_accuracy: 0.9996\n",
    "Epoch 80/100\n",
    "299/299 ━━━━━━━━━━━━━━━━━━━━ 297s 982ms/step - categorical_accuracy: 0.6282 - loss: 1.0562 - top_k_categorical_accuracy: 0.9468 - val_categorical_accuracy: 0.9858 - val_loss: 0.7051 - val_top_k_categorical_accuracy: 0.9996\n",
    "Epoch 81/100\n",
    "299/299 ━━━━━━━━━━━━━━━━━━━━ 297s 983ms/step - categorical_accuracy: 0.6352 - loss: 1.0549 - top_k_categorical_accuracy: 0.9431 - val_categorical_accuracy: 0.9866 - val_loss: 0.6916 - val_top_k_categorical_accuracy: 0.9996\n",
    "Epoch 82/100\n",
    "299/299 ━━━━━━━━━━━━━━━━━━━━ 298s 985ms/step - categorical_accuracy: 0.6206 - loss: 1.0584 - top_k_categorical_accuracy: 0.9494 - val_categorical_accuracy: 0.9895 - val_loss: 0.6997 - val_top_k_categorical_accuracy: 0.9996\n",
    "Epoch 83/100\n",
    "299/299 ━━━━━━━━━━━━━━━━━━━━ 298s 984ms/step - categorical_accuracy: 0.6235 - loss: 1.0662 - top_k_categorical_accuracy: 0.9425 - val_categorical_accuracy: 0.9870 - val_loss: 0.6880 - val_top_k_categorical_accuracy: 1.0000\n",
    "Epoch 84/100\n",
    "299/299 ━━━━━━━━━━━━━━━━━━━━ 298s 985ms/step - categorical_accuracy: 0.6353 - loss: 1.0374 - top_k_categorical_accuracy: 0.9535 - val_categorical_accuracy: 0.9879 - val_loss: 0.6816 - val_top_k_categorical_accuracy: 0.9996\n",
    "Epoch 85/100\n",
    "299/299 ━━━━━━━━━━━━━━━━━━━━ 297s 984ms/step - categorical_accuracy: 0.6302 - loss: 1.0379 - top_k_categorical_accuracy: 0.9545 - val_categorical_accuracy: 0.9883 - val_loss: 0.6676 - val_top_k_categorical_accuracy: 0.9996\n",
    "Epoch 86/100\n",
    "299/299 ━━━━━━━━━━━━━━━━━━━━ 298s 984ms/step - categorical_accuracy: 0.6335 - loss: 1.0512 - top_k_categorical_accuracy: 0.9517 - val_categorical_accuracy: 0.9891 - val_loss: 0.7111 - val_top_k_categorical_accuracy: 1.0000\n",
    "Epoch 87/100\n",
    "299/299 ━━━━━━━━━━━━━━━━━━━━ 297s 982ms/step - categorical_accuracy: 0.6243 - loss: 1.0359 - top_k_categorical_accuracy: 0.9541 - val_categorical_accuracy: 0.9887 - val_loss: 0.7000 - val_top_k_categorical_accuracy: 0.9996\n",
    "Epoch 88/100\n",
    "299/299 ━━━━━━━━━━━━━━━━━━━━ 296s 979ms/step - categorical_accuracy: 0.6455 - loss: 1.0315 - top_k_categorical_accuracy: 0.9463 - val_categorical_accuracy: 0.9875 - val_loss: 0.6751 - val_top_k_categorical_accuracy: 1.0000\n",
    "Epoch 89/100\n",
    "299/299 ━━━━━━━━━━━━━━━━━━━━ 297s 983ms/step - categorical_accuracy: 0.6315 - loss: 1.0421 - top_k_categorical_accuracy: 0.9479 - val_categorical_accuracy: 0.9883 - val_loss: 0.6865 - val_top_k_categorical_accuracy: 0.9996\n",
    "Epoch 90/100\n",
    "299/299 ━━━━━━━━━━━━━━━━━━━━ 296s 980ms/step - categorical_accuracy: 0.6389 - loss: 1.0259 - top_k_categorical_accuracy: 0.9519 - val_categorical_accuracy: 0.9866 - val_loss: 0.7148 - val_top_k_categorical_accuracy: 1.0000\n",
    "Epoch 91/100\n",
    "299/299 ━━━━━━━━━━━━━━━━━━━━ 296s 979ms/step - categorical_accuracy: 0.6487 - loss: 1.0367 - top_k_categorical_accuracy: 0.9505 - val_categorical_accuracy: 0.9887 - val_loss: 0.6673 - val_top_k_categorical_accuracy: 1.0000\n",
    "Epoch 92/100\n",
    "299/299 ━━━━━━━━━━━━━━━━━━━━ 297s 982ms/step - categorical_accuracy: 0.6354 - loss: 1.0331 - top_k_categorical_accuracy: 0.9549 - val_categorical_accuracy: 0.9866 - val_loss: 0.6570 - val_top_k_categorical_accuracy: 0.9996\n",
    "Final validation accuracy: 99.16%"
   ]
  },
  {
   "cell_type": "code",
   "execution_count": null,
   "metadata": {
    "id": "EUsrhsWdJf86"
   },
   "outputs": [],
   "source": [
    "# Plot training and validation loss\n",
    "plt.figure(figsize=(15, 2))\n",
    "plt.plot(history['loss'], label='Training loss', alpha=.8)\n",
    "plt.plot(history['val_loss'], label='Validation loss', alpha=.8)\n",
    "plt.title('Loss')\n",
    "plt.legend()\n",
    "plt.grid(alpha=.3)\n",
    "\n",
    "# Plot training and validation accuracy\n",
    "plt.figure(figsize=(15, 2))\n",
    "plt.plot(history['categorical_accuracy'], label='Training categorical_accuracy', alpha=.8)\n",
    "plt.plot(history['val_categorical_accuracy'], label='Validation categotical accuracy', alpha=.8)\n",
    "plt.title('Accuracy')\n",
    "plt.legend()\n",
    "plt.grid(alpha=.3)\n",
    "plt.show()"
   ]
  },
  {
   "cell_type": "markdown",
   "metadata": {
    "id": "tBXCB9viJmvO"
   },
   "source": [
    "![__results___36_0.png](data:image/png;base64,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)![__results___36_1.png](data:image/png;base64,iVBORw0KGgoAAAANSUhEUgAABM0AAADpCAYAAAA3WMDLAAAAOXRFWHRTb2Z0d2FyZQBNYXRwbG90bGliIHZlcnNpb24zLjcuNSwgaHR0cHM6Ly9tYXRwbG90bGliLm9yZy/xnp5ZAAAACXBIWXMAAA9hAAAPYQGoP6dpAACZrElEQVR4nOzdd3wUdf4/8NfsbE/vQEILvfdiQSkeKDbUUyxnOVHQU+48y6mnp+fZPetXVA4LiL/jBEQQEQEBERE0oKGETkggCYH0zSbbZ+b3x+xOsskGsiGQEF7PxyOP3czMznx29rObzHvfn/dHUBRFAREREREREREREWl0Ld0AIiIiIiIiIiKi1oZBMyIiIiIiIiIiojoYNCMiIiIiIiIiIqqDQTMiIiIiIiIiIqI6GDQjIiIiIiIiIiKqg0EzIiIiIiIiIiKiOhg0IyIiIiIiIiIiqoNBMyIiIiIiIiIiojoYNCMiIiIiIiIiIqqDQTMiIiIiIiIiIqI6GDQjIiIiCsP//d//oVevXujVqxfef//9lm4OEREREZ0hDJoRERERNZIsy1i2bJn2+9KlS6EoSss1iIiIiIjOGAbNiIiIiBppy5YtKCgogMVigcFgwNGjR5GRkdHSzSIiIiKiM4BBMyIiIqJGWrJkCQDgd7/7HcaPHx+0jIiIiIjaFkHhmAIiIiKiU7LZbBgzZgzcbjfmzp0Ll8uF+++/HxaLBZs2bUJkZGTIx1VWVuL//b//h++//x65ublwuVxISkpCr169MGnSJEyZMqXeY4qKijB//nz8+OOPyMvLgyRJSElJQb9+/XD11VdrATsAeOKJJ7B06VI8+OCDmDlzZsg29OrVCwCwbt06pKWlhXzsXXfdhdmzZ2Pt2rUoLCxEYmIi1q9fDwDIycnBd999hx9//BH5+fkoKSmByWRC9+7dMXnyZNx8880wGo0Nnrs9e/bgs88+w9atW1FUVASj0Yj27dtj1KhRuOGGG9CnTx94PB6MGTMGFRUV+OSTT3DRRReF3NfRo0cxceJEiKKI77//HsnJyQ0el4iIiOh06Fu6AURERETnghUrVsDtdqNdu3YYPXo0ZFlGQkICSktL8c0332Dq1Kn1HpOVlYX77rsPxcXFAIDOnTsjKioKhYWFWL9+PdavX18vaLZx40b89a9/RVVVFXQ6Hbp27Qqz2YyCggKsXLkSO3bsCAqaNYeKigrccMMNOHr0KNLT09G9e3e4XC5t/VtvvYXVq1fDarVqAb+ysjJkZmYiMzMT3333HT7++OOQgbMPPvgA77zzDhRFgclkQnp6Onw+H/Lz83HgwAFUVVXhlVdegdFoxJQpUzBv3jwsXry4waDZ4sWLoSgKLr30UgbMiIiI6Ixi0IyIiIioEQLDMK+99lrodDrodDpcffXVmDdvHpYsWVIvaFZSUoIZM2agpKQEI0eOxPPPP48uXbpo6wsKCvDFF18EPebQoUP485//DKfTiUmTJuGpp55CSkpK0PpA9ldz+t///ocePXpg1apVWhtrB82uueYa3HPPPRgwYAAEQdCWZ2dn4+9//zsyMjIwb948TJ8+PWi/X375Jd5++23odDrMnDkTd999NywWCwBAURRs2bIFRUVF2vY33XQT5s2bh7Vr16K8vBxxcXFB+/P5fFi6dKm2LREREdGZxJpmRERERKewb98+7N69GwCCMsOuu+46AMCOHTtw6NChoMd89NFHKCkpQdeuXfHhhx8GBcwAIDU1FX/5y1+Clr3zzjtwOp0YOXIk3n777aCAGQB07969XmCqOeh0Orz33ntBbTSbzdr9yy67DAMHDgwKmAFAt27d8NprrwGAFswK8Hg8ePPNNwEA999/Px544AEtYAYAgiDgwgsvDDqf3bp1w8iRI+H1evHVV1/Va+eGDRtQXFyMdu3aYcyYMU1+vkRERESNwUwzIiIiolMIZJkNGjQI6enp2vLevXujT58+2Lt3L5YsWYLHH39cW7dmzRoAwB//+MegAFRD3G43NmzYAACYMWMGdLqz993mBRdcEFTrLJTAMNSdO3eitLQUbrcbtUvj5uTkwOVyac81MzMTxcXFMBqNuPvuuxvdlqlTpyIjIwNffPEF7rrrrqB1gcy866+/HqIoNnqfRERERE3BoBkRERHRSXg8Hnz99dcAELJo/3XXXYe9e/di+fLleOSRR6DX61FVVYWCggIAwJAhQxp1nNzcXHg8nrAe01y6d+9+0vWrVq3Ck08+CYfD0eA2iqLAZrNpQbMDBw4AAHr06NHgJAmhTJw4EXFxcTh48CC2b9+OwYMHAwBOnDiBjRs3QqfT4fe//32j90dERETUVByeSURERHQS69evR3l5OQwGA6688sp666+++moYDAaUlJRomWLV1dXa+ujo6EYdp6qqCgAgiiIiIiJOv+FhsFqtDa7Lz8/HY489BofDgSuuuAILFizAzz//jN27d2P//v3Yu3evtq3X69XuB55PY59/gNFo1Ia9Ll68WFu+ZMkSSJKECy+8EKmpqWHtk4iIiKgpGDQjIiIiOonA0Eyv14uRI0eiV69eQT8XXHCBFiwKbFs76FVZWdmo4wSysSRJCgq6nUqgzljtoZK1nSw7rDFWrlwJj8eDgQMH4s0338SwYcMQFxcHvV4dsFBRURHycYHn09jnX9vUqVMhCAJWrlyJ6upqKIqinVtOAEBERERnC4NmRERERA04ceIEfvrpJwBAXFwcEhMTQ/4EZnncuHEjSkpKEBkZqWVDZWZmNupYXbt2hclkCusxALTi+iUlJSHX5+bmNnpfoeTn5wMAhg0bFrLO2vbt20M+rlevXgCAgwcPallnjdWlSxeMGjUKDocDK1euxJYtW5Cfn4+EhASMHz8+vCdARERE1EQMmhERERE1YOnSpZAkCXFxcfjxxx/x008/hfzZtGkTEhIS4PP5sGzZMgDApEmTAADz5s2D2+0+5bGMRiPGjh0LAJgzZ06DmWN1de7cGYA6g2coCxYsaNR+GhKoUVZcXFxvnaIo+OSTT0I+bsiQIUhOTobH48G8efPCPu7UqVMBqEM0A8M0p0yZAoPBEPa+iIiIiJqCQTMiIiKiBixduhRATd2yhuj1elxzzTUAgC+//BIAcM899yAxMRGHDx/G9OnTceTIkaDHFBQU4P/+7/+Clv3lL3+BxWLBL7/8gocffhhFRUVB6w8dOoQ5c+YELRs3bhwEQcC+ffvw0UcfacslScJnn32G5cuXh/msg40cORKAOhlAoGYboNYse+qpp7Bz586QjzMYDHjkkUcAAO+99x5mz54Nl8ulrVcUBVu2bMFXX30V8vG/+93vkJCQgB07dmgzkd54442n9VyIiIiIwiEojf0ak4iIiOg8snXrVvzhD38AAHz11Vfo3bv3Sbc/ePAgrrrqKgDA559/jiFDhmDXrl24//77tSytLl26IDIyEsePH9eGU+7fvz9oPxs3bsRDDz2E6upq6HQ6pKenw2QyoaCgABUVFUhNTcX69euDHvPKK69g7ty5AID4+Hh06NAB+fn5qKysxIsvvognn3wSALBu3TqkpaVpj3viiSewdOlSPPjgg5g5c2bI5yXLMu68805kZGQAANLS0hATE4PDhw/D7Xbj5ZdfxuOPPx5y/wDw/vvv4//+7/+gKArMZjPS09Ph8/mQn58Ph8OB6667Dq+88krIY7/++uv48MMPAajBu88+++xkLwERERFRs2KmGREREVEIgYyxfv36nTJgBgA9evTAwIEDAdRMCDBgwACsWLECDz74IPr27YuioiIcPHgQZrMZl112Gf7973/X288ll1yCb7/9Fn/84x+Rnp6OgoIC5OTkICYmBldddRWeffbZeo95/PHH8cwzz6BXr16oqqrC0aNH0b9/f3z66ae4/vrrT+c0QKfT4cMPP8T06dORlpaGEydOoLCwEKNGjcKnn36KKVOmnPTxf/rTn7Bo0SJcc801iI+Px8GDB3HixAmkpaXhjjvuwF133dXgY2sX/WeWGREREZ1tzDQjIiIiolbpt99+wy233IKYmBj8+OOP2kQJRERERGcDM82IiIiIqFVauHAhAOCaa65hwIyIiIjOOgbNiIiIiKjV2blzJ7755huIoqjVliMiIiI6m/Qt3QAiIiIiooDbb78dTqcTe/fuhc/nw2233YYuXbq0dLOIiIjoPMSaZkRERETUavTq1QuCIKBdu3a4+uqrMXPmTBiNxpZuFhEREZ2Hwg6a7d69G5s3b8auXbuQlZWFgoICAKGnGG+szZs346OPPkJWVhY8Hg/S09Nx0003YerUqRAEoUn7JCIiIiIiIiIiaqqwh2e+9957WLduXbM14PPPP8c///lP6HQ6jB49GhEREfjpp5/w7LPPIjMzE6+++mqzHYuIiIiIiIiIiKgxwg6aDR48GD179kT//v0xYMAAXH/99SgpKWnSwfPy8vDCCy9Ar9dj7ty5GDFiBADgxIkTuPXWW7Fs2TKMGTMGV111VZP2DwDDhw+Hx+NBUlJSk/dBRERERERERERtQ3FxMYxGI7Zt23bS7cKePXP69Ol46KGHcNlllyElJaXJDQSATz/9FF6vFzfddJMWMAOAlJQUPProowCAjz766LSO4Xa74fP5TmsfrZEsyy3dBGqF2C8oFPYLqot9gkJhv6BQ2C8oFPYLqot9gkJpzf3C5/PB7XafcrsWnT1z/fr1AIArrrii3roJEybAZDJh7969OHbsGDp06NCkYyQnJwNAsw4pbWmSJMFutyMqKgqiKLZ0c6iVYL+gUNgvqC72CQqF/YJCYb+gUNgvqC72CQqltfeLCRMmNGq7sDPNmovdbtcmEejbt2+99UajEd27dwcA7Nu376y2jYiIiIiIiIiIzm8tlmkWCJhFR0cjIiIi5Dbt2rXD7t27cezYsdM+niRJp72P1kKSJO2HKID9gkJhv6C62CcoFPYLCoX9gkJhv6C62CcolLbSL1osaOZwOAAAFoulwW2sVisAoLq6+rSOJcsy7Hb7ae2jNZFlGS6XC4IgQKdrsWRBamXYLygU9guqi32CQmG/oFDYLygU9guqi32CQmnt/UKW5Ua1q0Vrmp0tOp0OUVFRLd2MZiNJEhRFQWRkZKscG0wtg/2CQmG/oLrYJygU9gsKhf2i7VAUBZC8kH0eKD4vFP8tZAmCwQSd0QzBYIZgMEIQTn4RyX5BdbFPBFNkGRAAQIAgCC3dnBbT2vtFYwN5LRY0C2SROZ3OBrcJZKM1NHwzHK3xRTodoihqP0QB7BcUCvsF1cU+QaGwX1CAIkuQnVWQqiqgVNogeSIBUQQEAYAA6HTQLgZr/QgQAEEH6HQQ9EYIegME0dAqLhoVRYHidUNyVkJ2VgNQwtwBoMg+NdjkrQk8BQehav94IXs9gOwDFAUKFECW/TtS1CBW4EdbJvubJQOCDoJO9N/qan7X6QBBVJfpdGqAS6euU2RJbZvkrWmnpLZD8Xkb9TQFAf7gmRpI0xnNEIxm6AxmCEYLdEYzoDfC55XgjoyCaDABoh6CXq++1qIBgqivee1r3VegqOfK64Ei1TqP/vs159IdHNhrKkWud56VWq+Btky7D+1ca+ddJ4Z4Hfzb6EQIgqDuU/ap51+S1PuSBEX2Af5lihS4r24Xdv8LvD6BcyrqIeiN6rkXDbXOf+D3mu0Q2F4nArra90XtviDq/b+LEHR69f0eZsCn9t8QRfJCdjkgu2v9uKohuarrLHMASlOG7gm1+latvqcPPF+jf31wv0QTPosUyQfF64bsdUPxutX3vcel9lOPW+23XpfahwPb1JoxUvAHzwKfmxDqfnbq/OdZ3UZ9TdTXQND5X6vAfTHE6wbB3698gCzX3JcktU9q933+/qku1/qRaAC0PlT7XNZ6/+rUW3OnvjDEtQvr/LWF/y1aLGiWmpoKAKisrER1dXXIwNjx48cBoMkzZxIREVHLUQIXIa3ggrk5KYqM0/32WJG8kN1O9aLB44LsdkDxOOsv83nUf1j9AQid3ui/b6xZbjCqFwh6A3QGdR1OkSlSlyRJkB1OyGYjdDrLOfmaKYqiXQxAqrmAFXQ67aIdov70XjdFVi+IvB7IdS+SJP/FvSDUZOoIOv81kk67OAq6aIJQJxDjD7bUCrwEBWK8Hsj+IILOZIbOaIXOZIHOaIHOZFWDGyar//eaZYLe6L+49wfDHJXqj7MScnUlJKcdksMG2WGH5KiE7KryxxAUSJIEl/8CuikEAcH9VbsNvq8L9GWDCTqDSQ3c6I3QGU0Q9KZay43QGczaa6kGw1yQAm2v/dz8yyRHJWSnXQ1ikXohbFDPOQQdFK9LDQLIshpL8rgAjwtSta2BPaj9wnsa/YLODcHB2ToBxFpBREXQwef1wSl71b9lfK9pAp+lqFXXq2kh05bnPJKF5Gv+3NLNOOtaLGgWFRWF1NRUFBQUYM+ePRgxYkTQeo/Hg0OHDgEAevfu3RJNJCKiZqAoChSPs+bCxaFenElOO2RXNUzt0mHtOUL9R6wNkL1uKB5X0IXquUyRvJAcVZCdlWpAx+uC4lEvsGSPy3+x5axZVmu94nUDOhGGuHYwxLcP+tEZG65p2hookhe+ylL47KXwVZZCqixRf68sUbNvFEV9bXVirayDuhkhYk0WiKCDIvv8QTGnmnXQqqgXwQ5RbbNgNPkzS8w1t4GsE0Mg+8QCnSH8AB0Af0DLC/h8alaM5L/1NXTf58/e8Krf4Pu/Sde+NZd8Qd/sn0xN9kHwN+rQ1WQlwJ+VJPvcwUEyX2t73RpH0OkgGExQPM5AQs2pHyMIECxRUKCDKOrU0EggQ6p2pk4gm6fWMsWf7eB/CBSvB/B6AJxeneJ67TOa1CyeMLKRdEYTdOaIJvXbQHaP7iTBv0AwSlsWyG4RamfnqcHUQBuEWhkoWrsUWT23sqxmj8hSnWWSGsCXJW2b2hl+WhCyXhsNIYdfqsM3ff7P8cBnursmoOZRP+tlrwuSywm3owoGUQdBkYLfq5IaBIbk89/3al+gBJ/HWl8GGEwNB1ZFQ1OSg2rOoz9grWX2BLJ5UDvTx/+j+M97rfMddK4V/3LZv1ypdd4DmVp1s7ZEQ72sLvg/Z8OlKP73VeC81vusrPkdsn8bn9efbSQ18Ll58s9Qrf+dunVqsfdagVRBEKAzWSCYrNCZIiCardCZI9TAvn+Zzmz1Z0s14Vz4/OdC8oY+D/6+GFiGpmYtiqK/j5rUv416Y002pj/QL+hN/gC/f53e4G+oXNOv/O0O+uys+1ka+Oz0v2aK5K3JHgtaXpO5CEXxZ9cFstHq9MWgjLWaLEPtPSp5at6rQefOC0i1zqnPC0vXAU07h+e4Fq1pNn78eHz22Wf49ttv6wXN1q1bB7fbjT59+jDTjIjoLFKzNQJ/SIP/sar/B7tmueL1QHbWfKsvOeyQnertyQIEjuztsGdtRMzwK2Du3L/Zg0xStQ32rB/gOroHOqMFYmQsxIg4/20M9P77Oktko/6JVRQZUnUlJHsZfPZSSPZS+Oxl8NnLINnLIDmrtG0FnU79hzGQ9WG0qoEHk7Vmmcm/zGhRv/EP/EOljgXyX4fK2j9UgTZo/2QJugaGZQQPi6n7T7oi+eBz2LQMjJrXrXamhl0dOnE6ZBme4jx4ivOCFuuj4tQAWlx7GBI6wBDfHmJUfJMuJMKlyFJN1o672h8M8wfIbCXwVZZAdthOGVwIXGQ2aWQJAhf95lr9wFLTXwKZQwZjzYVPnaFfNUPDPDVDngK/NzYyUvNsAFnRnpfidkF2u5r2xFqJQFBTveCtOR/axcfp7NsfhApkPgkGEwTR6D+ArN3WDPuqPfwu+L3dYCDG4A8YGIz11gPQshFlt9OfpejPUPTUXuZUL8JkGYrbqZ0XnTUKojUaojUaOku0/34URGuMtk5njoAsK7Db7YiKigp7aI16UVtrmGC9LLo6mXRejz9I6fEPhXLVuu+uufVf+Ab6aYDOaGr4+ViiIUZEQ2eJgs5gOq3Xvq0SBAHQGyDqDRBx8lrQkiSF1S+0/xmABoN21PK0IKx/WB/kWoHCesHaWoFcWYbk86K6uhqRcQkwWKNqslz5WlMbcMaDZidOnMCdd94JAPj000+RkpKirbvjjjvw+eefY9GiRbjiiiu0wNmJEyfw+uuvAwDuueeeM91EIqKwSK5qeIvz4Ck6Aq+tCIJoCJGBEfy7zmhplZlHstcNb1khvOWF8JYWwltWCF954RlJq9eZrRAt/osx/8WaoBNRvW8LfLYSlK77DMakjogZcSVM7dNP+3g+exnsO7+H4+A2NfgXUFIQcntBp4MYEQMxIlYLrOkjYyF73f4AmT9IVlUevL9Q+woMGZJlSM5qwNl82RWnI/DtoyRLqJK8aOywGkEUIVpq/gkO7tv1s5Fq93u1jx2Dt+y4//YYpOpK+Ozl8NnL4TyyRzuOzmCEPq4dDLEpNd/ShkH7VrnWMDZFqhVQCtTQaWRGks5ghD4mCfroBIhRidBHJ0AfnQh9VLwajKl1EVH/wkKuf2GhE2sNpbOogZZWckEhSRIqKysRZTVDkLy1sghdDWQR1qxrEp2oBnt1tWofadleIWoi+X+HLnT9nVD1eIKCxIHgvpZ14M9eC5nlpl7cqwExU61sgprMAuhOb5jn2aIoihpcdTuheF1qloc5Iox+18SIMNQhqYLBBBhMQAOJpV6vV81OCYM6RLYmaKx+ORGhvi4NPQaADwAkBZDO7WBwayBJEjweD1wuV/h1iiQO2zs3+LOR/HdPRZEkKOZqyBER8Imi+qZz87U+353WZ0WYRFGEwRD+/46NEXbQbMOGDXj//fe13202daz7gw8+CKNR/WN16aWX4oEHHgCg/jHMycnR7tfWqVMnPP300/jnP/+JO++8ExdccAGsVis2b96MqqoqXHvttbjqqqua9syIiJqBInnhLStUM2WKjsBTfBS+yrIm7y+QWaJeCNZK1xf1amFfLb06kEJdq+in3qClsmtp7SYrRH+q+8mCDIqiwGcv8wctCv0/xxr1XITaww60C1K9f7mhJgVcb1QDK9o3/Oq3+qI1BqI1Ut02hMgBl6Jq1w+oytoIT3EeilfOhrljL8QMvwKG+PAzjb0VRbDvWA9ndqaWXWJK6YLI/mMAnQ5SVQWk6gpIVRXwVVVAqi6H7LBDkWUtkNOYcyJGxkEfFQ8xKgH6qHh/YCUe+sh4CEazenFeKxNE9meCaMsC9as8DshuFxSvU/0nMzBkJ1AXKTCcxH9bt/B2Tdp+A+n0tQJE6rAOrxr0E9X+Jlqj1MyMiOh6QU3Rqi4TTNYmBwhEAIbYZKBWHFR2O7Q+qPXH8hOQvR54io7CU3S0SccKV+D9qAXDohP9r6P6uxpcaP2BkeYiCIL6PjZZIFqjW7o5zUoI1OI5z7KMBEHQMuJak8rKSpSUlMDtdjfTHiuaaT/UGIp/mG5JScl59RlJDWOfoFDOdr8wmUxITExEdHTz/g8TdtCsrKwMO3bsqLd879692v309MZnCNx8883o1KkTPvzwQ+zYsQNerxfp6em46aabcPPNN4fbPCKiJlMUBZK9DJ7io/7hZEfgLT0WMqtIH5MIY1InGBI6ALJ86tpOHpf2h0MdItPwzMFNJej1ajCtVr0IiEa4SgtRXVWi1pQJQbRGwRDfAYb4dv7b9hAjYmuCdWc4E0ZnMCF66ERE9L4A9u1rUb3/F7jy9sOdvx+WbkMRPXQS9FFxp9yPp/QY7DvWwZW7SxtWZ07tgahBE06ZuabIkjocMRBQ8wfVpOoKNYgQCIz5g2RiRPQpa7AFMizEiJhGn4szoSbDRg2kSR43qqoqEZ3YDnpLZIv8c6szWWFq3w2m9t2C2umzFcNbfhy+iqKaIW7haLDekP93gxE6vcm/znDOZAsRtSWVlZUoKChAZGQkEhMTYTC0jtk1qfEURa1fJYoiXzsCwD5BoZ2tfqEoCrxeL2w2GwoK1BElzRk4E5Twi16cUyZMmABArZHWVoRbR4DOD+wXTaP4vHDl74MzZwfchdnqULo6dGYrjEkdYUzqBGNyZxgT09SAVDjH8Q+RUQLBtEAhV61uRCArSKqZFrr2ff+wouDpu6u13xseblbrj5VOhD4upaaGVJxakF20RDbhzJ05PlsxKn9bDcfhnQDUoYERfS5E9KDxavHmOtwncmHfsR6uvH3aMkvnvogaNAHGpI5nrd3nCn5WUCjsFxTKmegXhw8fhsFgQFpaGi+uz1EMkFBd7BMUytnuF4qiID8/X0vEOpXGxopadCIAIqKWoEheuAoOwHl4B1xH9wTV7xJ0OhgSUoOCZGpx8tP7oA8MkYHBBBHNm3mkKIqa5eaqG0yrhs/thEdnRnRaN5ji250TM1TqY5IQP+4PiOyfB9vWlXAXZqMq60c4DmxF1MCxiOh3MQTRAPexQ7DvWA93YTYA9Rxbug5E1KDxMMS3b+FnQUREdXm9XrjdbiQmJvLCmoiImpUgCIiJiUFBQQG8Xm+z1Thj0IzoDApkBIlRCfznsIUpsgT3sYNwHt4J55EsyLWKV+sjY2FJHwRzp34wJqY2WHurtVLrMqnFxYGEoHWBLAFDVNQ5ETCrzZjUEYlXTIe7YD9sW1fCW3Yctm2rULVnM8SIGG02RkGng7X7MEQNHAt9TFILt5qIiBoSKPp/poo1ExHR+S3w90WSJAbNiFozRZZQlbURlZnfQfH5IEZEw5zaE6bUnjB36BFyiBk1P0WR4T6WDWfODjVQ5nJo60RrNCxdB8KaPgiGpE4MarZSgiDAnNYbptSecGZnovLX1WrxfkclBFGPiF4jETngUugjT13zjIiIWgf+zSUiojPhTPx9YdCMqJm5T+Si4qcl8JafAKC+caXqSlQf2IbqA9sgCIAhMQ2mDj1hTu0JY3IndWbCMCmKAtlph89WAp+tGB5bMbx6C6RewyFGnpnC44FsLffxXBgTU2FK6wWdvuEp3k+X7HbCW16ozigYBkXywJW3D86cnZCcVdpy0RIJS5cBsHQdBGO7Lme8wD01H0FQs8ksXQeien8GZFc1InpfANEa1dJNIyIiIiKiNopBM6JmIrsdsG37FtX7fgGgFo+PGXkVLF0HwnMiF678/XAXHIC3/AQ8xfnwFOfDvmM9dAajOotcqhpEE6OD63zIHhd8lWpgTPvx/y4HzYaoFlr07FgNU7tusHQdCEuX/hAtpxdUUCQf3IWH4MzZCeeR3ZDdNbM+CnoDLJ36wNJlIEwdezdLAM1nL4Pr6B44j+6G53jOSQrcN47OZNECZab26efcEEUKJogGRPa9qKWbQURERERE5wEGzYhOk6IocB7eDtsvX2tZTRE9hyN6xJUQ/cMwzf6AGABI1Ta4jh2Eu+AA3McOQnJWw3l0L5xH9wIA9FFxMCZ1guSohK+yBJLD3uCxBUGAGBUHfXQSdJGxcBTmALYTcBdmw12YDduWZTC266oG0DoPaHRWjiL51PpfObvgPJoF2V1T/0u0RMLUvhs8xUfhs5fDcXgnHId3QtAbYO7YG5auA2FO6w2dwdTo8+ctydcCZd6y40Hr9ZGxEPThjkcXYEjqCGv6IJg69GCgjIiIiIiIiMLGoBnRafBVlqDipy/hOnYIAGCITULshTfA1L7hKW7FiBhE9BiOiB7DoSgyvGWFcBccgCv/ADwncuCzl8NnLw9+jCUS+pgk9Sc60X8/EfqoeK1ovSRJ0NntsMALz9HdcObuhKc4H+7Cw3AXHlYDaCn+AFqXgfUCaOqMkgfhzNmpzihZq1C+aI2EpYv6uMCwxkCwy5m7E86cnfDZy9UgW84uCHo9zB3VDDRzx/oBNEXywl2YDeeRPXDl7YFUXamtEwQBxpQuMHfuB0unvtBHJzbtxSEiIiJq5Xr16hX2Y9atW4e0tLRmb0dqairWr19/2vt69913MWvWLLz88su4/vrrm6F11Nrk5+djwoQJGDlyJD777LOzeuwvv/wSTz75JB588EHMnDnzrB6bzk8MmtE5Saq2oWrvFjgOboUiSzAmd4YxqRNMKV1gSExrdJZTUymSF/ZdP8C+fT0UyQdB1CNq8HhEDbg0rJkXBUEHY0IqjAmpiBo4DrLXDc/xHHjLjkGMiNWCY+qsiI2jj4qHaeBYRA0cC5+9zB/U2gVPcR7cx3PgPp4D289faQE0MSIWztydcB3dWydQFqUOa6wVKAtuuwBjUkcYkzoievhkeEsL1CGcOTvV49YOoKWpGWiQJTiP7oE7f3/Q0FKdwQhTak9YOvVTg2ycKIGIiIjOA9ddd129ZXv37sW+ffvQqVMnDBs2rN56q9V6NppGp2H8+PEoKCjA/v37W7opRHSaGDSjc4aiKPAcz0HV3p/gys2CotRUh3cd3QuXf3ijIAgwJHTQAmnGlC4QI+OabSYNd+FhVGxeAm9FMQDAnNoDsRde1ywZUTqDCeaOvWHu2Pu09wWoAbSoAWMRNWCsmgmWu1PNQCuqCaDVpgXKug6EMaXxhfIFQYAxMQ3GxDRED7+iJoCWuxO+yjI4c7PgzM2qdyxzp76wdOoHU4duYQUbiYiIiNqCV155pd6yd999F/v27cOwYcNCrj8TVq5cCYOhef4Xu+222zB58mQkJyc3y/6o9UlJScHKlSthsTT+i32icxWDZtTqyV43nNmZqNq7OajelaldV0T2vQhiRAw8RUfhLsqFp+gIpOpKeEoK4CkpALAZgDq80ZjSGcakzjCmdIEhvr06Y6UgABAaFVCTXNWo3PoNqg9s0/YZM+pqWNIHnxNTp+uj4hA14FJEDbgUvqpyuHKz4MjZCdlVpdYi6zIQxpTOpz2jZL0AWtkx/5DP3YCgg7ljX1g694UhMY2zVxIRERG1At26dWu2fcXHxyM+Pr7Z9ketj8FgaNY+Q9SaMWhGrZavshRVezfDcXCrVohe0Btg7T4UkX0ugCG+g7atMbkzIjFGfVxVBTxFR+ApPgLPiSPwlhZAclbBmbsbztzdIY+lxrwE9Y6g89/1B3R0OgACFJ8XiuQDAET0HoWY4VdAZzo30+P1kXGI7D8Gkf3HnNHjCIKgDT+NGX7FGT0WERERUVsXqD22evVqfPzxx/j666+Rl5eHrl274quvvoIsy1i5ciW+//57ZGVloaioCIqioGPHjpg4cSKmTZsWcnhnqJpmtetWffzxx5g9eza+/vprFBYWIj4+HhMnTsRDDz2EyMjIoH01VNPsiSeewNKlSzF//nwYjUbMmjULO3bsgNfrRZ8+fTBz5kxcdFHoGbK///57zJkzB3v37oXRaMSQIUPw5z//Gfv3729SfSu3243//e9/+Pbbb5GdnQ2Px4Pk5GQMGTIEN998c9Cw2O+//x5r167F9u3bceLECXg8HrRv3x7jxo3D9OnTgwKEv/zyC+64446g81pb3eGa3377LRYtWoTdu3fD4XCgffv2uOyyy3DfffchJiamXrttNhveffddrFmzBuXl5ejQoQOmTJmCe++9FxMnTmxwSOiePXswZ84cbNu2DRUVFYiNjcWIESMwffp09OnTp972p+pnp6pptmfPHsydOxfbtm1DcXExIiMj0blzZ4wfPx533nknzGYzAODEiRNYvnw5fvzxRxw9ehQlJSWIiIhA3759cfvtt2P8+PENvYSnZevWrVi9ejW2bt2K48ePo7q6GsnJybjoooswY8aMBmsGhtNvAKCoqAhz587Fxo0bUVBQAJ1Ohw4dOuCiiy7CHXfcgdTUVACnrtPWmPeUJEn46KOPkJWVBZvNhmXLlqFPnz7Ys2cPvvnmG/z8888oLCxEZWUl4uPjtde/obqKkiRh2bJl+Oqrr7Bv3z44nU4kJSWhb9+++P3vf4+xY8fC5XLh0ksvRXV1NTZu3BgyWF5RUYFx48ZBr9fjxx9/rPd5cS5g0IxaFUWR4S44gKo9m+HO34fACEx9VDwi+l6IiB7DTxmo0kfGQh8ZC2v6IHWfPi88pQXwnMhVA2lFRyA5quocFwAU/x0Z/t/qMcSlIPaiG2BK6XJaz5OIiIiIqClkWcaDDz6ILVu2YMSIEejRowe8Xi8AwOl04pFHHkFMTAzS09PRp08fVFdXIysrC7NmzcL333+PBQsWaEGLxvB6vZg2bRr27NmDESNGoHv37vj111/x2Wef4dChQ5g7d25Yoy42bNiA+fPno0ePHrjkkktw5MgRZGZm4t5778Unn3yC0aNHB23/+eef49lnnwUADB06FO3bt8e+fftw880344Ybbmj0cQNKS0sxbdo07N27F1arFcOGDUNUVBSOHTuGVatWQRTFoODHE088AY/Hgx49euDCCy+Ex+PBvn37MHfuXKxZswZffPGFFixITEzEddddh9WrV8PhcISsWQeoZWeeeOIJLFu2DGazGQMGDEB8fDz27t2LTz75BOvXr8eCBQuQkJCgPcZms+HWW2/FoUOHEB8fj3HjxsHtdmP27NnYs2dPg8/322+/xWOPPQav14v+/ftj1KhRyMnJwcqVK/Hdd9/hzTffxMSJE+s97mT97GT+97//4fnnn4ckSejRowcGDx4Mu92Ow4cP480338SVV16pBaW+++47vP766+jcuTPS09MxZMgQnDhxAr/88gs2b96Mxx57DPfcc88pjxmul19+GQcOHECvXr0wfPhwCIKAgwcPYtGiRVizZg3+97//IT09eGK3cPvN9u3bMWPGDFRUVCApKQkXX3wxAODIkSOYN28eevXq1WwTZXzzzTdYtGgRevfujTFjxqCwsFB7T86ePRtr165Fz549MXDgQBiNRuTk5GDFihVYu3YtPvroI4wYMSJofy6XC/fffz82b94Mo9GIoUOHIiEhAYWFhfjpp59gs9kwduxYmM1mXHfddZg7dy6WLFmCe++9t17bli1bBo/Hg+uuu+6cDJgBDJrRSUjVNhSveA+m1J6Iu/j3Z/RYiiyheu8WVO3dDJ+tRFtuTuuFyL4XwpTWq8lD+QS9AaaULlqgS1EUKF43oMiAovhro/kDZooCxb8ctZYrigIIgD46kUMKiYiIiM4ARVHg8ckt3YxGM+p1LVKio7CwEDqdDitXrqyXEWMwGDBr1ixceumlMBqN2nKXy4XnnnsOX375JebPn4/p06c3+niZmZkYOHAg1q5di7i4OCiKguPHj+O2227Dli1bsHXrVowcObLR+5s7dy5eeeUVTJkyRVs2Z84cvPHGG3jvvfeCgmYFBQV46aWXoNPpMGvWLEyYMAGA2lfefvttzJ49u9HHDfjb3/6GvXv34uKLL8Ybb7yB2NhYbV1ZWRkOHz4ctP3zzz+Piy++OChDz+fzYdasWfjggw/w9ttv41//+hcAdZjrK6+8goyMDDgcjgZr0s2bNw/Lli3DwIED8c4776BDB3UEjSzLeOeddzB79my8+OKLePPNN7XHvPnmmzh06BBGjRqF999/XwtA5OXl4bbbbsOJEyfqHefEiRP4+9//Dq/Xi1dffTXonC9evBhPP/00nnjiCQwePLheDbqT9bOG/Pbbb/jXv/4Fg8GAt956C5MmTQpa/8svvwRl0A0fPhxfffUVevcOruecm5uLu+66C2+99RauvPJKtG/fvlHHb6w///nPGDJkSFBbFEXBwoUL8eyzz+LFF1/Exx9/HPSYcPqN3W7HAw88gIqKCtx333148MEHg2oGHj58OKg+9+lauHBhg7PV3nLLLXj66afrvb7r16/Hn//8ZzzzzDNYuXJl0GfZSy+9hM2bN6Nfv3547733gs5/VVUVdu3aFbT/efPmYdGiRbjnnnvqfSZ+8cUX2nbnKgbNqEFVe7fAV1UB3/4MWLsNhal9+qkf1ESV276FfddGAIDOaIK1xwhE9rkA+pikZj+WIAgQjI3/do2IiIiIzixFUfB/C7cjt9DW0k1ptK4dYjDzppapbfvII4+EDGQYjUb87ne/q7fcbDbjmWeewfLly7F69eqwgmaCIODFF19EXFyctiwpKQm33nor/v3vfyMjIyOsoNmkSZOCgjcAcNddd+HDDz9EZmYmvF6vFmD44osv4Ha7MWnSJC1gFmjTzJkzsXz5chw7dqzRx961axc2bdqE+Ph4vPPOO/UyX0LVYwuVhaXX6/HQQw9hyZIlWLNmjRY0awyfz4c5c+bAYDAEBcwAQKfT4S9/+Qs2bNiAVatW4R//+Afi4uLgcDiwbNkyCIKAp59+OqjdHTt2xAMPPIBnnnmm3rEWL14Mh8OBsWPH1jvnN954I7799lv89NNPWLx4MR544IF6j2+onzXkP//5j5ahVjdgBgCjRo0K+r1usCygS5cu+NOf/oR//OMfWL9+PW677bZGt6Exxo4dW2+ZIAi4+eabsWzZMmzevBlVVVXaeQ633yxatAglJSW4+OKL8de//rXesepmsZ2uiy++uMGstQsuuCDk8vHjx2PSpElYsWIFDh06hB49egBQh5QuWbJEC8DXDVhGRkYG7bNz58646KKLsGnTJmzevDloiPUvv/yCnJwcDBo0KOQw4HMFg2YUkiJLcBzcqv1u27oCSVfPPCP/FPgqS1C1exMAIGbEZET0uQA6g6nZj0NERERErdc5MK9Sq1E7gBRKdnY2fvzxR+Tl5cHhcGhZLQaDAbm5uWEdq0OHDujZs2e95V27dgWgXmSH49JLL623zGg0omPHjti9ezfKy8u1rJhff/0VADB58uR6j9Hr9Zg0aRLmzp3b6GNv3qxOEjZp0qSwhooVFBRgw4YNyM3NRXV1NWRZzYiUJAnl5eWw2Wwha5CFsmfPHpSVlWHw4MFBAbMAnU6HYcOGYd++fcjKysKYMWOwe/duuFwu9OjRI+RrceWVV4YMmm3dql7PXXPNNSHbct111+Gnn37StqvrVP2sNkmSkJGRAQBhDTv0er3YvHkzduzYgZKSEni9XiiKguLiYgBATk5Oo/cVjtLSUqxfvx7Z2dmw2+2QJAkAUFJSAlmWcfToUfTt2xdA+P0msH1Thg83xWWXXXbS9Xa7Hd9//z327duHyspK+Hxqne6DBw8CUDP7AkGzjIwM+Hw+XHLJJSH7Zyi33HILNm3ahIULFwYFzRYuXAgAmDp1atjPqTVh0IxCcuXvg+SwQ2e2ApIPnuJ8OHN2anXCmpNt60oosgxzWi9EDRzb7PsnIiIiotZNEATMvGkwh2c2QkJCQoM1yXw+H5555hksWbKk2Y7X0NC4iIgIAIDH4zlj+wsE5Bq6eA932F4gK61Lly6Nfsxbb72FDz/8UAuqhFJVVdXooFl+fj4AteZVQ0XYA8rLywHUnIeGnm9kZCSio6NRWVkZtDwwZLOhbLGOHTsGbVfbyfpZQ211Op2IiopCYmJiox6TnZ2NP/3pTycN5FZXVze6DY313//+F6+++ircbneD21RV1dTADrffBLYPBJbPtJMFt7777jv8/e9/r9c3ajud5woA48aNQ4cOHbBu3ToUFxcjKSkJZWVl+O677xAdHR0y6H0uYdCMQnLsV78liOgxHILBhMrfvkPltm9h6dwPgth83cZdeBjO3CwIgoCYkVc2236JiIiI6NwiCAJMBrGlm9HqnSyQ8emnn2LJkiXo3r07HnnkEfTv3x9xcXHacMeLL75Yy+BpLJ2ueev5Nvf+zqRVq1Zh9uzZSE5OxpNPPokhQ4YgISFBqxd38803IzMzM6z6VIFtU1NTTzmstbGZPmdCOAGzpvrLX/6C3Nxc/P73v8ctt9yCzp07IyIiAjqdDps2bcK0adOatfYXAOzcuRPPP/88rFYr/vGPf2D06NFISkrSnu8jjzyCFStWNPtxT0cgs7EhDb1WhYWFeOSRRyDLMv72t79h3LhxaNeuHSwWCwRBwJtvvon//Oc/p/1cRVHETTfdhLfffhtLlizBfffdhy+//BJerxdTp049K33pTGLQjOqRqm1w5e0DAFh7joAYEYvqfVvgs5ehet/PiOx3cbMcR1Fk2DK+Vo/TaxQMce2aZb9EREREROej1atXA1Czo+oO43M4HCgpKQn1sFYrOTkZOTk5OHbsGAYOHFhvfWFhYVj7CwShGjtENXA+//Wvf2HcuHH11h85ciSs4wNAu3bqNU9qamqDEwXUFRiu2tDzraqqCplJlJKSgpycHOTn52PQoPojhgJZbykpKY1qx8nExcXBYrHAbrejtLQ0aObPULKzs3Hw4EH069cPL774Yr31TTm3jbFmzRooioKHH34YN954Y6OOG26/6dChAw4fPoycnJxG1fIKBLUbyqoLt58HbNiwAW63G3fffTemTZtWb31zPNeAG2+8Ee+99x4WLVqEe++9F4sXLwYA3HTTTeE3vJU5d8L8dNZUH9wGRVFgSukCQ2wKdAYTooeohRwrt6+F7HY2y3GchzLhKSmAzmBE9ND6BUuJiIiIiKjxbDZ1IoVQw/haW/ZMYwwbNgyAmvFVl8/nw5o1a8La34UXXghADZw0Ztjfyc7nTz/9hLKyspCPCwRBArWjahswYABiYmKwY8eORmf99evXD2azGYcOHcKhQ4fqrf/2229DPm7EiBEAgOXLl4dcv3Tp0qDtTocoilrm3JdffnnK7U92bgG1v54JgeMGgpe1ZWdnY+/evfWWh9tvAtsHzu+pBIKioeq3eTwerVZcuE72XMvKyrTaa7WNGjUKer0eW7ZsCStYl5iYiIkTJ6KgoACvv/46cnNzMXz4cHTr1q1JbW9NGDSjIIoiw3FALQRp7VWTLmztORyG2GTILgfsO78/7ePIXjdsv6of7lGDJ0C0RJ32PomIiIiIzmeBGkqfffZZ0PJdu3bhjTfeaIkmnZbf//73MJlMWLNmDTZs2KAtVxQFs2bNQkFBQVj7GzBgAC6++GKUlpbir3/9qxZUCCgrK8O2bdu03wOzHP73v/8NGiJ39OhRPPvssw0eJxAEyc7OrrfOaDRi+vTpcLvdeOCBB0JuU1ZWphVRBwCr1YopU6ZAURS88MILcDgc2rq8vDy89957Idtx4403wmq1YsOGDfjqq6+C1i1ZsgSbNm2C1WoNmXHVFNOnT4dOp8OsWbOwdu3aeuszMjJgt9sBqDWzdDodtmzZEhQIlGUZs2bNwm+//dYsbaor8JouWrQoqH5eaWkpHn/88QYDneH0mxtvvBEJCQnYuHEj3nnnnXr7zMnJCXrdBwwYAKvVih9//FGb/AJQA2bPP/982P287nNdtmxZUN2yqqqqBuucJSUl4YYbboDX68WDDz5Yr95ddXU1tmzZEvJ4t956KwDgk08+AaAOX24LODyTgrgLD8NnL4POaIKlywBtuaATET3iCpR+9ymqdm9CRJ8LoY+MbfJxqrI2QqquhD4qrtmGexIRERERnc+mT5+OTZs24Z133sHq1avRrVs3FBUV4ddff8XkyZORmZnZ5AvwlpCamoq///3vePbZZ3Hfffdh6NChaN++Pfbt24ejR49i6tSpWLhwoZbZ1Rivvvoq/vjHP+KHH37AuHHjMGzYMERGRuLYsWPYs2cPrrzySgwfPhwAcPvtt2Pp0qVYtGgRMjIy0LdvX9hsNmRkZGDw4MFITExEZmZmvWNMmDABGRkZuOuuuzB69GhYrVYA0IYhTps2Dbm5uVi8eDGuueYa9O7dGx07dtRmbTxw4ACsVmvQrIMPP/wwtm7dii1btuCyyy7DiBEj4Ha78fPPP+PCCy+EIAj1MtdSUlLw0ksv4bHHHsPf/vY3fPbZZ+jcuTNyc3ORlZUFg8GAV199VQvyna5hw4bhqaeewosvvogHHngAPXv2RI8ePWC325GdnY2CggKsW7cOUVFRiI+Px80334wFCxZgypQpGDVqFKKjo7Fr1y4cO3YMd999txZ8aU7XX3895s2bhx9++AG/+93vMGjQILjdbmRkZCAlJQWXXXZZyIBfOP0mOjoa7777Lu6//368//77+OKLLzBkyBAoioLc3FwcOHAAL7/8spaFZbVaMX36dLz99tu48847MXz4cFgsFmRlZUGWZVx//fWNyt6ra9y4cejduzf27NmDyy67DMOHD4eiKNi2bRtEUWxwv08++SRycnKQkZGByy67DMOGDUNCQgIKCwuxd+9e9O/fHxdccEG9xw0fPhw9e/bEgQMHEB8fj4kTJ4bd5taImWYUxLH/FwCAJX0IdAZT0Dpzx74wtesKRfLB/lt4qdC1SdU22HduAABED58MQWz8HzkiIiIiIgpt6NChWLhwIcaMGYOioiKsX78elZWVePzxx/Hvf/+7pZvXJDfffDNmz56NwYMHY/fu3di4cSPat2+PBQsWaMPOYmNjG72/xMRELFq0CI8++ii6dOmCbdu2Yf369SgrK8PkyZODsmM6d+6ML7/8EpMmTYLD4cC6detw7NgxzJgxA5988kmDwbrbb78dM2fORHR0NL777jt88cUX+OKLL7T1giDghRdewJw5c3DppZfixIkTWLt2rTYM79Zbb8UHH3wQtM+YmBgsWLAAf/jDHyCKItatW4fs7Gzcc889eOutt1BcXBzyPFxxxRVYuHAhLr/8chQWFmLVqlU4fvw4rrjiCixatKjZAxt/+MMfsHDhQkyePBnl5eVYs2YNdu/ejeTkZDz66KNISkrStv3HP/6BZ555Bunp6fj111+xefNmdOvWDf/9738xduzYZm1XQExMDL744gvccMMNEEUR33//PQ4ePIgbb7wRixYtQlRU6BFQ4fQbQA0gLl++HLfffjssFgu+//57LUPr7rvvxujRo4O2v//++/HMM8+gU6dO2LZtG7Zv347Ro0djyZIlTZ4QwmAw4L///S/uuusuREdH44cffsCuXbswYcIELF26tMH9WiwWzJ07F8899xz69++PnTt3Ys2aNTh+/DjGjBmDe++9t8FjBoJp119/vTZhxrlOUM61ge1hmjBhAgBg3bp1LdyS5iNJEux2O6KioiCKzTfDkOyqRuHnL0CRJCRf+2cYE+tPTewpPoqi5bMgCEDylIdgiA//DVz+4yJUH9gGY3JnJF31pxaZqrstOlP9gs5t7BdUF/sEhcJ+QaE0d79wuVzIyclB165dz/nZ1M5niqJAkiSIotji/8fffffd+Omnn7B48eKQEwWcL3777TfccsstuOSSS/Dhhx+e9eO3pj5BLUeSJIwfPx4nTpzAmjVr0LFjx7PeL8L5O9PYWBEzzUjjyP4NiiTBkNAehoTUkNsYkzrBmj4IigLYtq4M+xie0gI4DqrjvWNHXcUPVSIiIiIialBeXh4qKiqClkmShI8++gg//fQTunbtigEDBoR+cBuTlZVVbzKHI0eOaPXVrr322pZoFhEAdQKI48ePY+zYsejUqVNLN6fZsKYZAVC/Hajer6YDR/QcedJgVvSwy+HM3QVX/gG4Cg7AnNqzwW3rHsP2ywooCmBNHwRjcudmaTsREREREbVN69atw+uvv46+ffuiXbt2cLvdOHDgAI4dOwar1YqXXnrpvPki/q677kJERAS6d++O6OhoFBYWIisrC16vFxMnTsSVV17Z0k2k80x5eTlef/11lJWVYePGjdDr9XjooYdaulnNikEzAgB4i/PgLT8BQdTD2m3oSbfVRycgos+FqNq9Cbat38DUoTsE4dRJi668PXAXZkMQ9YgePrm5mk5ERERERG3UyJEjcfnllyMzMxMHDx6E1+tFcnIyrr/+etx7773aDIHng3vvvRfff/899uzZg8rKSpjNZvTv3x/XXnstbrrppvMmeFjbnDlzcPjw4UZt+/vf/14r1k/No7q6Gl988QUMBgO6deuGhx56CL17927pZjUrBs0IAFB9QM0ys3QdAJ3JcsrtowZPgOPgVnhLC+HMzoS1+7CTbq9IPtgyvgEARPYfA31U3Ok3moiIiIiI2rS+ffvi9ddfb+lmtAozZszAjBkzWroZrcqPP/6oTaBwKiNHjmTQrJmlpaVh//79Ld2MM4pBM4LsdcN5eDsAIKLnqEY9RjRHIGrgONi2rULlr6th6TrwpLNgVu/bAp+tBKIlElEDxzVHs4mIiIiIiOg89tlnn7V0E6iN40QABOfhHZC9HuhjEmFs17XRj4vsNwZiRDR8VRWo2v1Tg9vJbgcqM9cCAKKHToLOyNmSiIiIiIiIiKh1Y9CMtKGZp5oAoC5Bb0D0sMsBAPYd6yG7qkNuV7l9LWS3E4b4drD2GnH6DSYiIiIiIiIiOsMYNDvPecuPw1N0FIJOd8q6ZKFYuw+FIb4dZI8LlTvW11vvsxWjes9mAEDMyKsaNWEAEREREREREVFLYwTjPFe9X80yM3fqA9EaFfbjBUGHmBHq1MbVezfDZy8LWm/buhKKLMPcsRfMqT1Pv8FERERERERERGcBg2bnMUXywnHoVwBARK/GTQAQiim1J8wdukORJFT+ukpb7i7MhvPIbgiCoAXWiIiIiIiIiIjOBQyancecR3ZDdjshRkTDdBpZYIIgIHqkGhRzZG+HpzgPiiLD9svXAICI3qNhiGvXLG0mIiIiIiIiIjobGDQ7jzn2154A4PS6gjEhFdbuQwAAtq3fwHHwV3hKj0FnNCFqyO9Ou61ERERERERERGeTvqUbQC3DV1kK17FDEATA2mN4s+wzeujlcObsgrvwMLwl+QCAqEETIFoim2X/RERERERERERnS5OCZh6PB3PnzsXy5cuRl5cHq9WK4cOH4/7770e/fv3C2ldlZSU+/vhjrFu3Dnl5eZAkCe3atcMFF1yA6dOno2PHjk1pIp1C9YGtAABThx7QR8U3yz71UXGI7HcR7Dt/gOz1aL8TEREREREREZ1rwh6T5/F4MG3aNLz55psoLy/HuHHjkJ6eju+++w5Tp07Fjz/+2Oh9lZSU4Prrr8fs2bNRWlqKCy64AGPHjoXP58OiRYtw7bXXYufOneE2kU5BkSU4Dm4DAFh7jWzWfUcNHAedyQIAiB4xGYJoaNb9ExERERG1FY8++ih69eqFl19++ZTb+nw+XHDBBejVqxc2b97cpOONHz8evXr1qre8V69eGD9+fFj7evfdd9GrVy98+eWXTWpLOPLz89GrVy/cfvvtZ/xY1DJuv/129OrVC/n5+Wf92E3p/3T+CDto9uGHHyIjIwMDBgzAmjVr8M4772DBggV444034PV68dhjj6GqqqpR+3r//feRl5eHiy++GOvWrcPs2bMxa9YsrF27FjfddBOqq6vx4osvhv2k6ORc+fsgOSohmq2wdOrbrPvWmaxIvGIGEibcDkuXgc26byIiIiKituS6664DAKxYsQKSJJ10240bN6KsrAzt27fH6NGjz0bzzpqzGYA7V53LgR0GPelcFlbQzOfzYf78+QCAZ599FpGRNbWqrrrqKlx66aUoLy/HkiVLGrW/rVvVIYLTp0+H1WrVluv1esycORMAsGvXLiiKEk4z6RQCEwBYug87I5lgxoQOsHQZAEEQmn3fRERERERtxQUXXICUlBSUlJRg06ZNJ9122bJlAIBrr70WOl3zzue2cuVKzJs3r1n32ZxSUlKwcuVKvPrqqy3dFDpDXn31VaxcuRIpKSkt3RSiIGF92v7222+oqKhAWloaBgwYUG/95MmTAQDr1q1r1P4MhlMHbGJiYhh8aUZStQ2uvH0AgIhmHppJRERERESNp9PpcO211wKoCYqFUllZie+//x4AMGXKlGZvR7du3dCpU6dm329zMRgM6NatGzp06NDSTaEzpEOHDujWrVujYgREZ1NYEwHs3bsXABos9t+3rzrUb//+/Y3a35gxY7B7927MmTMHAwcOhMWi1sLy+Xx49913AQA33nhjOE2kU3Ac+hWKosCU0hmGWEbxiYiIiIha0pQpUzBnzhysW7cOVVVVQaN5AlauXAmPx4PBgweja9euAIDvv/8ea9euxfbt23HixAl4PB60b98e48aNw/Tp0xEf3/jJvnr16oXU1FSsX7++3rrly5dj3rx5OHToEKxWK0aPHo0///nPDe4rNzcXK1aswKZNm5Cfn4+KigpER0dj0KBBmDZtGoYPHx60/fjx41FQUAAAePLJJ/Hkk09q615++WVcf/31yM/Px4QJEzBy5Eh89tln9Y65evVqLFiwAHv27IHL5UK7du0wduxYzJgxA4mJiUHb/vLLL7jjjjtw3XXX4amnnsI777yD7777DqWlpUhJScG1116LP/3pT9Drw5szr7KyEvPnz8fatWtx5MgRAEBycjJGjRqFP/zhD+jZsycAQJZlrFy5Et9//z2ysrJQVFQERVHQsWNHTJw4EdOmTQsahfXll19q56SgoCCoJl3d10ySJCxZsgRLly7FwYMH4fF40LFjR1x55ZW4++67YTab67X7+PHjeOutt/Djjz+iqqoKnTt3xi233IJbb731pP3i559/xrx587B9+3ZUVVUhISEBF110Ee6///6gyfzeffddzJo1CwCQkZER1P7ar+ftt9+OjIwMrFu3DmlpaWfl3DaVzWbD119/jQ0bNuDw4cMoLi6GyWRCjx49cOONN+L6669v8LF79uzB3LlzsW3bNhQXFyMyMhKdO3fG+PHjceedd9Z7jb777jssWrQIWVlZsNvtiI+PR8+ePXHNNdfgmmuu0bYLvI8aisWEei1rv69mz56N999/H2vWrEFhYSEuueQSvP/++3C5XPj666/xww8/YP/+/SgqKoJOp0N6ejquvvpq/OEPf2jwvXLkyBF8/PHH+Pnnn3HixAmYzWakpqbi0ksvxZ133om4uDjMmTMHb7zxBu688078/e9/D7mfV199FZ988gkefPBBbUTi2RTWJ8GxY8cAAO3atQu5PrC8oqIC1dXViIiIOOn+7r33XmRmZmLTpk0YP348Bg0aBIPBgF27dqGiogLTpk3DX/7yl3Ca2KBT1Qg4l0iSpP2EQ1FkVO3/BYACc/fhbeqcUNP7BbVt7BdUF/sEhcJ+QaE0d7+QJAmKomg/pEpPT8fAgQOxc+dOrFy5MmTSQCALbcqUKdq5e+KJJ+DxeNCjRw9ceOGF8Hg82LdvH+bOnYs1a9Zg8eLF9QJngceGOv+hXpdZs2Zh1qxZEEURI0aMQHx8PDIzMzF16lSMHTs25OM+//xzzJ07F927d0efPn0QERGB/Px8rF+/Hj/88ANee+01XHnlldr2EydOxJYtW7Bv3z4MHTo0KOOtU6dOQfsP1caXXnoJ8+fPh16vx8iRIxEbG4vt27dj/vz5WLVqFT799FMt0Fj7uVdWVmLq1KkoLy/HsGHD4Ha7sW3bNrz33ns4fvx4WLW1c3NzMW3aNBQUFCAmJgajRo2C0WhEfn4+vvjiCyQmJqJHjx4AAIfDgUceeQQxMTFIT09Hnz59UF1djaysLMyaNQvff/89/vvf/2rBk06dOmHKlClYtmwZrFYrJk6cqB03Li5Oez5utxv3338/Nm/ejKioKPTv3x8RERHIysrCO++8gx9++AHz5s0LCsrk5+fjlltuQXFxMdq3b48JEyagoqICL774InJzcxs85/PmzcMrr7wCQRAwdOhQpKSkYN++fViyZAlWr16NOXPmYOjQoQCA3r17Y+LEiVizZg0SExNx8cUXa/tJT0+v1yfrHu9Mntvawvlc+vXXX/H888+jffv26Ny5MwYNGoTS0lJkZmbit99+w65du/DMM8/Ue9znn3+O559/HpIkoUePHhg8eDDsdjuys7Px5ptvYvLkyVrAUJZlPPHEE1i+fDlEUcSgQYPQvn17FBcXY+fOncjOzsbVV18d1P7at6HUfY6B+y6XC3/4wx9w9OhRjBgxAn369EFsbCwURcGRI0fw9NNPIzExEV26dEH//v1RUVGBnTt34uWXX8aWLVvwwQcf1BsduG7dOjzyyCNwuVzo2LEjxo0bB5fLhdzcXHzwwQcYPXo0Ro0ahd///vd49913sWzZMjz88MMwmUxB+/F4PFi6dClEUcSNN954ytco8Byb829XWEEzh8MBAFpGWF21o7aNCZpFRkbiww8/xL/+9S988cUXWsoxoGazDRo0CKIohtPEkGRZht1uP+39tBayLMPlckEQhLDqGfhO5MBTUQxBb4QvsWubOifU9H5BbRv7BdXFPkGhsF9QKM3dLzwez0kvZhRFgeLznvZxzhZBb2i2MjLXXHMNdu7cia+++qpelsrRo0eRmZkJo9GISZMmaefun//8Jy666KKgazCfz4f3338f//nPf/D222/j2WefDXm8hi4may/PysrC+++/D7PZjDlz5mDYsGEA1NfxySefxPLlywGo/aT24yZMmICbbrqp3nDPnTt34t5778Vzzz2HSy+9VLumfPTRR/Hee+9h3759uP7667XJEWq3SZblkG1cv3495s+fj5iYGHz88cfo06cPAMDr9eK5557D0qVL8eijj2LRokXaYwL7WrduHcaOHYuFCxdqbcnNzcVNN92EL7/8EjNmzEBqamrI81S3fQ8++CAKCgowZcoUPP3000HXy8ePH0dpaanWbp1Oh3feeQeXXHIJjEajtp3L5cILL7yApUuXYt68ebj33nsBAIMHD8bgwYOxbNkyxMbG1gvmBfb72muvYfPmzbj00kvx0ksvITY2FoD6ej333HNYtmwZZs2ahb/+9a/aY//5z3+iuLgYV155JV544QWtPVlZWZg2bVrIc75nzx78+9//htFoxHvvvYcLL7xQ2+b999/H7Nmz8fDDD2PlypUwmUwYN24cevbsiTVr1qBr164Ntr/26xNYdqbPbajXsjG6dOmC//f//h+GDBkStLy4uBj33XcfFixYgKuuugqDBg3S1mVmZuJf//oXDAYDXn/99aDgJ6Bm4UVGRmpt+PDDD7F8+XKkpaXhvffeQ/fu3bVtPR4Pfvnll5DtPdVzqL0+8F7YuXMn+vXrh1WrViEuLi5o27i4OHz44YcYPXp00N+ByspKPPbYY9iwYQNWrFihleoCgLy8PDz66KNwu9146qmncMsttwR9Vu7evRsJCQmQJAnR0dGYNGkSvv76a6xcuTIoew4AVq1ahfLycowfPx6JiYmNen6KoqC6uhpe78n/nsiy3Ki/beHlnDazY8eOYcaMGTh+/Dief/557cNz+/bteOmll/DnP/8ZM2fOxIMPPnhax9HpdIiKimqmVre8QEeIjIwMK6hY/ttuiKIIa49hiI5LOIMtpJbQ1H5BbRv7BdXFPkGhsF9QKM3dL1wuF0pKSiCKYr39KYqCkm/eh6foyGkf52wxpnRB4uT7myVwdtVVV+HVV1/Fr7/+isLCwqDhaStWrACgBqNqX9Befvnl9fYjiiL++te/YunSpfjuu+/wr3/9K+TxGno9ay///PPPIcsypk6dipEja2ohm81mPPXUU/jhhx/gdDqh0+mCHld3+GXAkCFDcNttt+E///kPtm3bpmWqAdDOYd19BdS+sK29PjC0b/r06ejfv3/QNk8//TTWr1+P3bt3IzMzU2tXYF9WqxUvvvhi0HDYbt264dprr8WCBQvw66+/NqrO23fffYdDhw6hR48eeOGFF+oNVUtNTQ0KvlksFkyaNKnefiIiIvDMM8/g66+/xtq1a3HfffeFPF6o81NWVoZFixYhPj4er7/+etC1r8ViwbPPPotNmzZh8eLFePjhh6HT6ZCXl4dNmzbBbDbXC0YNGjQIt956K+bMmVPvmAsWLIAkSZg6dSrGjBkDoCZjaebMmVizZg0OHz6M7777TqvX19DrF0rtPtAazm0oXbt2DcpeDGjXrh0ee+wxTJs2DWvXrtWy7QA1CCbLMh544AFcccUV9R57wQUXaPc9Hg/mzp0LAHj99deDhrQGnmft9084z6H2+tqvyz/+8Y96Q5kBICkpCUlJSfWWx8XF4emnn8bll1+OtWvXBmW9zZ8/H06nE1OnTsWtt94KnU4X9Dk5cODAoH3deuut+Prrr7Fo0aJ6QfPFixcDAG655ZZGvT6iKEIQBERERITMKKytsV8GhRU0C3yL4XQ6Q64PZKIBOGWWGQA8/vjjOHDgAN55552gD/1LLrkEXbt2xdVXX40PPvgAV111Fbp06RJOU+tpa/8ABv7ZaOzzkl3VcB/dDUBAZO/Rbe58kCrcfkHnB/YLqot9gkJhv6BQmrNfBC5mAj91qcvOnQnABKDB5xKuuLg4jB8/HqtXr8by5cvxwAMPaOsCGV3XXXddvWMVFBRgw4YNyM3NRXV1tZY5IkkSysvLUVlZiZiYmJo2+x/f0PmvvXzbtm0A1IBe3e3j4+Nx0UUXYe3atSHPgcvlwsaNG5GVlYXy8nIt4yMw5O/IkSNBj6ndrob7RvB6r9eL7du3A1BnFK37uMjISEyaNAmLFi3C1q1bMWLEiKB99e/fP2SQID09HYCaNdSY13bLli1aG8IpYp+dnY0ff/wReXl5cDgcWuDJYDAgNze3Ua9RQEZGBrxeLy644AJER0fXW2+1WtG/f39s2LABR44cQXp6On777TcAwOjRo0PWv7vqqqswZ86cBvtFqHMuiiKuvfZavPXWW9i6das2acWpXt+GtmkN57YhiqJg69at2LZtG4qKiuB2u7UMJwBBx5EkCRkZGQCAG2644ZTH2bNnD2w2G7p161Yvm60hJ3tv194m1PsuMTHxlMfZuXMnfvnlFxw7dgwulytoqGfdc7p582YA6nMNddy6hg4dir59+yIzMxMHDx7UatRlZ2dj69atSEtLw5gxYxr1+gSO1Zz/z4QVNAvMVnL8+PGQ6wPLY2NjTxk0KywsREZGBgwGA373u9/VW9+xY0cMHDgQv/zyCzIyMk47aHa+c2RnQpEkGBLaw5CYduoHEBERERGdJYIgIPHKP0HxeVq6KY0m6I3NNjwTUOuV1Q2abdu2DXl5eUhKSgqqBQUAb731Fj788MOTDleqqqoKCpqF48SJEwDQ4IyVDQ1d/PXXX/HQQw+hqKjopO06XRUVFfB4PDCbzSEzYQBoBekDz6W29u3bh3xM4DrW42lcXwzU/Q6VeRSKz+fDM888gyVLljRq+8bIz88HAHzzzTf45ptvTrpteXk5AGivT0PnoaHXPXAu6xbrDzjZOQ9Xazi3oRQXF+OBBx7Ajh07Gtymdh8vLy+H0+lEVFRUyEBtXYWFhQBw1mIgJ5uVtrq6Gg8//DA2bNjQ4DZ1389Naf8tt9yCf/zjH1i4cCH+8Y9/AIA2rHrq1KnN+lkbrrCCZoEx4rt37w65fs+ePQBQL30wlECALSIiosEIYCBKXlFREU4zKQRHtvpNQkTPkS3a4YiIiIiIQhEEAYLBdOoN26hLLrkECQkJyM3NRWZmJoYMGYKvvvoKAHD11VcHXTOtWrUKs2fPRnJyMp588kkMGTIECQkJWh2nm2++GZmZmc0y4UI41w4OhwMzZ85EaWkpZsyYgSuvvBKpqamwWq3Q6XRYuHAhnnnmmVYxEURL1W/89NNPsWTJEnTv3h2PPPII+vfvj7i4OC2T6uKLL0ZxcXFY+wyczx49egQNUw0lUOusLToT5zaUp59+Gjt27MD48eNxzz33oFu3boiKioIoisjJyQk5dLol1a4JGMrJhjG+8cYb2LBhA4YOHYqZM2eid+/eiIqKgsFggMfjwYABA5qljVdffTVee+01fPXVV3j00UchiiKWLVsGg8GgZay1lLCCZkOHDkVsbCzy8/Oxa9eueido5cqVANTx9qcS+DagoqICR44cQefOnYPW+3w+LQjXUBSbGsdnK4anOB+CIMDSdeCpH0BERERERGeVXq/HVVddhU8//RTLli1D3759sWrVKgCoV+dn9erVAIB//etfGDduXL19HTly+rXhUlJSkJeXh4KCAiQk1K+HXFBQUG/Ztm3bUFpaikmTJuHhhx8+I+0KiI2NhdFohMvlQnFxcchss0AGVkpKSrMdt65Alk5OTk6jtg+8dm+99ZY2DC3A4XCgpKQk7Da0a9cOADBgwAC8/PLLjXpMcnIygJqsoLoCWV51BfpFfn5+yKyp5jznreHc1uVwOLBx40YkJCRoM8vWdvTo0XqPiYuLg8Vigd1uR2lpacj3U22B7L/AcObGCAQGq6qqgur0AQ2/lo2xevVqiKKI//znP/WG/oZ6roDa/tzcXOTm5qJfv36NOo7FYsGUKVPw2Wef4ZtvvoHRaERFRQWuuOKKU56vMy2s8Lper8cdd9wBAHjuueeC0vBWrFiBH374AXFxcUGRwJ07d+Lyyy+vF21NS0tD3759AaiR2kCaKKCOT3/11VdRUFCAqKioeqnIFB5Hjpo2aurQHaKl7UyIQERERETUlgSCY99++y1WrVqFyspK9OvXr14AwGazAQg9tO6nn35CWVnZabclUDg/kBhRW0VFhVa3KFS7AkGc2jweD9asWRPyWIEL/sbOXhh4zODBgwHU1H2rrbq6Wgui1J7IoLkFZo9cvnx5o9p/stduxYoVDWbhGQwG+Hy+kOtGjx4NvV6PH3/8ES6Xq1HtDsyG+ssvvwRdiweEet0BaLXhQp1zWZa17MjAdoG2A2iw/Q05W+c2HHa7HbIsIzk5OeSIuVDnRRRFjBo1CgDw5ZdfnvIY/fr1Q0xMDLKzs7Fz585GtSsQBA0VYNy0aVOj9hGKzWZDREREyFp5X3/9dcjHXHTRRQCApUuXhnWsW265BQCwcOFCLFy4EICaNdvSws5JvffeezFy5Ejs2rULEydOxF/+8hfcdttteOSRR2AwGPDaa68FRTadTidycnJCvngvvPACoqOjkZGRgYkTJ2LatGl44IEH8Lvf/Q7z58+HwWDQtqGmURQFzsPbAQCW9MEt2hYiIiIiImpYnz590KtXL9hsNi1jqG6WGVBTrP6///1v0NCro0eP4tlnn22Wttx6660QBAGff/45MjMzteVerxcvvfRS0CRwddu1evXqoJpmHo8Hzz//PPLy8kIeK3DBn52dHVYb77zzTgDAnDlzsG/fPm25z+fDyy+/jIqKCvTr16/BGT2bw2WXXYbu3bvjwIEDeOaZZ+oFrY4fP46srCzt90B9rsDMnwG7du3CG2+80eBxkpOTUVpaqgWG6q676aabUFxcjL/85S8ha5AfP34cy5Yt037v2LEjxowZA6fTiZdeekmbrAFQyzH997//DdmO2267DTqdDosXL9YK9QPqdef777+P7OxspKSkBM0QGR8fD4PBgKNHj4YVODtb5zYciYmJiI6OxoEDB/DLL78ErVuyZEmDNeXuvfde6HQ6zJo1C2vXrq23PiMjA3a7HQBgNBoxbdo0AMDDDz9c733h8XiwcePGoGWBoNz7778fVI9vx44deOedd8J8ljW6du2KyspKLRgasHHjRm2Gz7ruuusumM1mLFy4EIsWLaoXrMzKygrZR7t164bRo0dj586d2LZtG7p27YrRo0c3ue3NJazhmYD6An788cf45JNPsHz5cqxfvx5WqxUTJkzAAw880Oj0O0CNoC5fvhwff/wxfvrpJ2zduhWyLCMpKQnXXnst7r77bvTu3TvcJlItvvLj8JYXQRBFWDqffHw7ERERERG1rOuuuw6vvPIKysvLYTAYcOWVV9bb5vbbb8fSpUuxaNEiZGRkoG/fvrDZbMjIyMDgwYORmJgYFOhqioEDB+K+++7DBx98gNtuuw0jR45EfHw8MjMzUVVVhWuvvbbehXS/fv1w6aWX4ocffsDll1+OkSNHwmQy4bfffoPdbsftt99eL6ABqLWmzGYzPv30Uxw8eBApKSkQBAE33HADhg4d2mAbL7vsMtxxxx2YP38+fv/732PkyJGIjY3F9u3bUVBQgKSkpGYLljREr9fj3Xffxd13340vvvgCa9euxdChQ2E0GpGXl4d9+/bh/vvv12qNTZ8+HZs2bcI777yD1atXo1u3bigqKsKvv/6KyZMnIzMzM+TQ1wkTJmD+/Pm47rrrMGTIEJjNZsTFxeHRRx8FADz55JM4duwYNmzYgIkTJ6Jv377o0KEDPB4PDh8+jOzsbPTu3Vub0RIA/vnPf+Lmm2/G8uXLsW3bNgwZMgQVFRXIyMjAzTffjM8++6zerJX9+/fH448/jpdffhl//OMfMXz4cCQnJ2Pv3r04fPgwIiMj8fbbb8NkqqlPaDAYcMkll2DdunW45ppr0K9fPxiNRnTt2hX33HNPi5/bcIiiiBkzZuDf//437rrrLowYMQJJSUk4cOAADhw4gOnTp2POnDn1Hjd8+HA89dRTePHFF/HAAw+gZ8+e6NGjB+x2O7Kzs1FQUIB169YhKkodGXbvvfdi//79+Oabb3D11VdjyJAhaNeuHYqLi7F//35ERERg/fr12v5vvfVWfP7551i/fj0mT56Mvn374sSJE9i1axfuuece/Oc//2nS873//vvx17/+FX/729+wYMECpKWl4ejRo9i5c2eDz7VTp07497//jUcffRTPPfcc5s6di379+sHlciEnJwe5ubmYP39+yIzUW2+9FT///DOA1pFlBjQhaAaogbP77rsP99133ym3HTVqFPbv39/g+vbt2+Ppp59uSjOoERz+LDNzWi/oTJaWbQwREREREZ3U1Vdfjddffx0+nw+XXnop4uPj623TuXNnfPnll3jjjTeQmZmJdevWoUOHDpgxYwZmzJihZamcroceeghdunTB/Pnz8euvv8JqtWLkyJF46KGHGsyomTVrFj766COsWLECmzdvRmRkJEaOHImZM2c2ONtgcnIyZs+ejffeew+ZmZlwOBxQFAXDhg07adAMAJ566ikMGzYMCxYswM6dO+FyudCuXTvcfvvtmDFjRoMzazan9PR0LFu2DHPnzsW6deuwefNm6HQ6tGvXDjfeeGNQqaKhQ4di4cKFeOutt7B7924cOXIEnTp1wuOPP4477rgDl112WchjBGrErVu3DqtWrYLP50NqaqoWNDMajZg9eza++eYbLF26FLt370ZWVhZiY2ORkpKC6dOnB2V/AWrJpMWLF+Ptt9/Gxo0bsXbtWq0tl112GT777LOQEwfcdddd6NWrF+bNm4ft27dj+/btSEhIwPXXX4/7778fnTp1qveYF154ATExMdi0aRO++eYbSJKEkSNHnjRodrbObbjuuecedOjQAZ988gmysrKg0+nQp08fzJkzB926dQsZSAKAP/zhDxg4cCDmzp2LrVu3Ys2aNYiOjkanTp1wyy23BPVVnU6HN954A5dddhkWL16M3bt3Y8eOHUhISMCgQYNwzTXXBO07Pj4eCxYswOuvv46ff/4ZGzZsQHp6Op5//nnccMMNTQ6aTZ48GXFxcZg1a5YWGOzRowdeffVVTJkypcHnOnHiRCxduhQfffQRfv75Z6xduxYRERFITU3FAw880ODkkRdccAEEQYDRaAyZZdsSBKU1TF1yBgUmJVi3bl0Lt6T5SJIEu92uzdDREEVRcGLxK/DZyxE/7lZYOTyzTWtsv6DzC/sF1cU+QaGwX1Aozd0vAlkGXbt2PelsbdS6KYoCSZIgimJYM2vSueXrr7/Go48+iltuuQX//Oc/T7ot+wSF0pR+EZhhd8qUKXj11VfDPmY4f2caGytqmXl26azwFufBZy+HzmCEuWOflm4OERERERERtRJerzeoFlzA7t278dprrwEArr322rPdLDpPuVwufPzxxwDUIeitRZOGZ9K5QRua2bEPdAbTyTcmIiIiIiKi84bT6cS1116LTp06oWvXrrBYLMjPz8eePXsgyzLuvPNODBkypKWbSW3ckiVLsHXrVmRmZuLIkSO4/PLLtTp1rQGDZm2Uoshw5qg1AyzdBrdsY4iIiIiIiKhVMZvNuOeee7Blyxbs2LEDVVVVWg26qVOnYvLkyS3dRDoPbN26FUuXLkVsbCyuv/56PPXUUy3dpCAMmrVRnsLDkBx26ExmmFNDF9kjIiIiIiKi85PRaMRjjz3W0s2g89wrr7yCV155paWb0SDWNGujAkMzLZ0HQBAZGyUiIiIiIiIiCgeDZm2QIvngzN0FALBwxkwiIiIiIiIiorAxaNYGuY8dhOx2QrREwtShW0s3h4iIiIiIiIjonMOgWRukDc3sOhCCwJeYiIiIiFoPRVFauglERNQGnYm/L4yotDGyzwPXkd0AODSTiIiIiFoPURQBAF6vt4VbQkREbVHg70vg701zYNCsjXHl7YXs9UAfGQtjcueWbg4REREREQDAYDDAZDLBZrMx24yIiJqVoiiw2WwwmUwwGAzNtl9Oq9jGOA/vAKBmmQmC0MKtISIiIiKqkZiYiIKCAuTn5yMmJgYGg4H/s55jFEWBJEkQRZGvHQFgn6DQzla/UBQFXq8XNpsNVVVVSE1Nbdb9M2jWhsgeJ1x5+wBwaCYRERERtT7R0dEAgJKSEhQUFLRwa6gpFEWBoigQBIEBEgLAPkGhne1+YTKZkJqaqv2daS4MmrUhriN7oEg+GGKTYIhv39LNISIiIiKqJzo6GtHR0fB6vZAkqaWbQ2GSJAnV1dWIiIho1rpBdO5in6BQzma/EEWxWYdk1sagWRuizZrJoZlERERE1MoZDIYzdpFDZ44kSfB6vTCbzQyQEAD2CQqtrfQLTgTQRkjOKrgLDgAArByaSURERERERER0Whg0ayOcR3ZBURQYE1Ohj0lq6eYQEREREREREZ3TGDRrI5zZ2wEAlvRBLdsQIiIiIiIiIqI2gEGzNkCqtsFzIgcAYOnKoBkRERERERER0eli0KwNcOTsgKIAppQu0EfGtXRziIiIiIiIiIjOeQyatQHOwKyZ3Qa3aDuIiIiIiIiIiNoKBs3Ocb7KEniK8yEIAixdBrR0c4iIiIiIiIiI2gQGzc5xDn+WmalDd4iWqJZtDBERERERERFRG8Gg2TlMUZSaoZnpg1u0LUREREREREREbQmDZucwX8UJeMuLIIgiLJ37t3RziIiIiIiIiIjaDAbNzmEuf5aZOa03dCZLyzaGiIiIiIiIiKgN0bd0A6hpFEWBK2cHAMCSPqiFW0NERERERERE1LYw0+wcJZUVQKoqh85ghLlT35ZuDhERERERERFRm8Kg2TnKe3Q3AMDcqS90emMLt4aIiIiIiIiIqG1h0OwcpCgyfPl7AHBoJhERERERERHRmcCg2TnIczwHstMOwWiBObVXSzeHiIiIiIiIiKjN4UQA56DABADmzv0hiHwJiYiIiIiIiFqaoijwSTK8PhmyrMAnKZBkGZKkwBe4lWRIsgJJu1WX6UUdDPqaH6NBDLo16EWIOuGsPh+X24eicgdKbS50aheFhBjLWT1+a8CIyznIlbcXAGDpyqGZRERERERE1Hq5PD5U2N0oq3ShvNKN0konKuxulFe6ERVhRHpqDLqnxaBDYiR0ZzkoFK7Ac6mwu1Fud8NWpd5W2F2wVXlQUeWG2+M7Y8cXdToYDDoYRDWYZjHpERNpQmyUCbGRRsRGmRETaURspBmxUUYY9OIp9ynJCkptThSXO1Fc7kBRuRNF5Q4UlTlgd3i07Tq3j8ZDNw89Y8+ttWLQ7BxkSusNVNthbJ/e0k0hIiIiOq8pioKSChfK7S6kJUfCaja0dJOIzhiPV4LN7kJJmQNFNhleSYHbI8Hl8cHtlWrueyS4vRKc7pr7Rr2ItORIdEyJQlpKJFLiI8561kxD3F4J9mqPlumj16tBidYewGkptbOpPF4ZLo8X5eUOHCnywFbt0YJjZZUulFW64HB5T7q/XYeKAQBmkx7pHWLQLS0G3dJikZYUCVE8exWl3F4JFYFAWKULFVVu9cceCIyFHxATdWo/0os6iKIAsdZ9vU4Hnf9WFAVIkgKPT/KfV/VW/ZG0/UmyDMktw1XrGPlF9gaPbzUb/AE1E2IiTYiLMsFqNqC0Ug2SFZU7UFrhgiTLDe4j0mpEcpwVFw3qENZzbysYNDsHxV50A+x2OwSBJemIiIiIziaXx4ejx+04UliJ3OOVOFJYiWqnekEoCAI6t4tGr85x6NU5Dp3aRbeaoMCZJssKyipdKCiugt3hQWKsBSlxVsREms7bwIOiKFAUtPrnL8sKHC4vKh0eVFZ7YK/23/p/r/3j9vigKIAsS9DpRAhhPrXcQpt236AX0SEpAh2To7RgWkrCmQ+kOVxeHCuuRn6RHflFVcgvqsKJcgegKPW21ekEGPQi9KJQE1CrdavX62AyiDAZRBj9PyajCJNBzQIKLDf5lxsNIox6ERaTCIvZcEafq9cnodqpBjM9XjVw6fWqwRi3Tw1wen0S3P5lgW08XhlerwSvVCdwI8nw+YM5Pik4wNKYPmExGRAXbUJ8tBlxUWbER6vZUSUVLmQXVCDnWCVcbh/25JRiT04pAMBoENG1Qwy6pcage8dYpCVHwaAP/xpYURR4fDJs/gBYRZUbtkAgzL/MVuU+ZXCv9nOJiTSqwagoE2IjzYjT7psQFWGEQa+DqBMghPsmaaD9PkkNUHp9clBgzeHyqc+r1nMLZMJ5fRIcLq+/z1ed9Bh6UYfkOCuS4ixIirMiJd5/P9Zy3n8ZxKAZEREREbU6Xp+MKocHlQ71It7rk5EQY0biWfwHXpYVFJU7agXI7Cgsra53cS2KOkRHGFFe6UJuoQ25hTas/jkXJqMePTupAbTenePaTC0Yr09GYUkVCoqrcay4CgXFVThWUh0yA8OgF5EUZ0FKvBXJcVYkx/svxmItMBpOPWwo+LhqEKDa5UW1U70QlBXUClroYDLqgwIUzRmUkGUFLo8PVQ4v7A4PqpxqO6qcXlQ5vKhy+pc5/MucHsiyAqvZgKgII6KsRkRZDdptpDV4WaTVWC8g4JNkuNw+ON0SnG4vXB41e8vl9sFZ+77bp9ZJkhRIsgJZUSDL/h9F8S+XIcuoWacocHslVDnUdjaWXq+DUa9DhMUEi0mvnXOzqSY4ZDbqYTaqv5uNepiMIqpdXuSdqNKCVW6PD0cK1cCztm9Rhw5JagCtY3IkOiRFwmquOYZeDC8IUeXw+ANjNQGyUpsz5LYGvQhZVoIybmRZgdvjg7vRRwyPyahHhNkAq0UPq0mPCIsBFpMeVrMBEWb11uq/Neh1cLp9/iBIzW21/77T7VPfF24fHE5vvcDWmaJlUQk6JMRakRBjQVy0GfFR5pogWbQZFlPDoYfL0AmSrKCgyI7DBTYcyrch55gNDpcX+4+UYf+RMgBq/+jSIQYdEiO0TLfaQSSvt9b92tlakhwyKBqKyahHbJQJcZEmxPiDYHFRNfdjo0wwG89uGEUQ1OBtY4ZaBiiKAqfb5w8QelBR5UJFlQcVdjeqnV7ERZmQ7A+MJcdZEXsef8FxKk1+tT0eD+bOnYvly5cjLy8PVqsVw4cPx/33349+/fqFvT9ZlvHFF1/gq6++wqFDh+BwOJCYmIj+/fvjzjvvxPDhw5vaVCIiIjqHuPwX3oEhDToBzfJNbVM4XF6U290otTlRVulGmc0JW5UHERYDEmPNSIixIDHWgoQY81n/J7qpFEWBrEC7OJRlBV6vetEdEaFADC+OERafJMPh8gUFw2pns9gdXm3Zyb7xt5oNWgAtMdaCRP/rkBhrQZTV0Oj+IkmyehHqDzqoF6Q+FJWpgbIjx+1wuuu3Iy7ajC7to9G5XTS6tI9Gh6RIGPQ6lFe6sP9oOfYfKceBo+VwuLzYdahYG3qUEGNB7y7x6NU5Dj3SYmE+yUXk6fL6ZJwoq8bxUgeOlVShpMIFvSiowQyTGsiwGPUwmUSYawU5zCY9LCb1vgAFVU4vCsvLUVjqQEFxNQqKq1BU5oAS4gJUL+rQLjECMREmlNicKCl3wuuTcKy4qn6WgyAgPsqM5Hj1gi0x1qJlPFU5A8GAQHBMDQbUHqLUWHpR58/80ftv1YLasj8LrOZ9oL43pDrBJnW9eut0+0I+71MJZHqcKK0+5bZmkxpE8frUvtmU59xUkRYjoiKMiPYH+KIjan6PjjAi2r9MLwJVVVWIioqCGOYHxrDeKQDU815icyLvhL1eIO3o8UocPV4Z8vE6nQCTQe8PkAaCdPpaQVM1k6vU5kJ+kR22qtDhrvhoC9KSI/0/UUhNjkR0hFFrm0+StaBM7eBMqGU1WVoy3F4fPIFsLk9N9lYg28vjlf3DWNW/c26PD26PD2Whn+5pEwT1PW+sk/lmNOhg1NdkxgX9bhC1mlnBReh1/sCNLuh3USdAkiTY7fYm9YkAUSegU7todGoXjbHDOkKWFRwvrUZ2vg2H8itwuMCGKqcHh/LKcSivvEnHMBpExEYFhimatcyw2EgT4qLV2zP5uXw2CYLgD7oa0CGxpVtzbhOUJnzyezweTJs2DRkZGUhISMCIESNQXFyMX3/9FQaDAR988AHGjBnT6P1VVVVhxowZ2LZtG+Li4jB48GCYTCYcO3YMe/fuxZ/+9Cf86U9/CreZAIAJEyYAANatW9ekx7dGzfGhRG0P+wWFwn5BdTWlT7g8PuQUVEKnA2IiTYiOMMJi0p9WIEuSZJTYXCgqd6C43IETZU4UlTlQVO4IGSxRg2cCRFGn3uoEdZm2XFCHvJjVC371R6x13x8IMKnf5gd+hwC15orNpdVeKatUg2Tlle6QAZOGRFqNSIyxICHWrAVxAoGdSEvjAzmNoSgKHC6fP5intrvU5n8edhc8Xlm78Je0TBNZCwLU3586tEavF2ExGRBhUbMbIswGWMx6RFoM/uXBGRBmox4ujxrccNTJAKod+Aisa0otGDVDxwC9qEOpzYXK6pPnfBgNov91sCA+2qwGYtxeuNySlo0R+PF4Tx2QMOhFdGoXhU7totC1fQw6tYtCTKTplI+TZQV5RXbsP6IG0XILbUHnXhAEdGkfjfaJEYiOMCE6woDoCBOirDW3janlEwg+HC+tRmGJ/6e0GsXlziYFeGoTBAE+ny/kkCur2YDU5EikJanZQKlJkUiOswS1OVBcOvDePlHm9L/fQ7/PG9umCItBzc4x6yGKOi1AEQhMuDy+sDKnwmU2qe+JSIsRERaDmjVmMSDCavQvNyDSqq4XRUHLTFN/1MBwIHCsZa05vCetKWSqFdS0+j/LAsHNwO9Gvej/XETN56VOgCjUfF7W/uwM1FYKZLs1tnbUmfrfItCX809UIa/IjrwTdpwoc2jDCJsqKc4aFCBrDbUHJX8Qtm7WmJY9FsgYq7Xc45Vh8X8uW2tnoZn0sFoMQZlqgc9wk0E8K186nY3/NxVFwYkyB7ILbCi1OWHQizDq1WCfXq+D0eAP8tUK7NWdffJsnQ9StfbrkMbGipoURv3www+RkZGBAQMGYN68eYiMjAQArFixAo888ggee+wxrF27Vlt+Ko888gi2bduGu+++G3/9619hNBq1dRUVFSgvb1okmYiI2g5Jkv3DXbwQdQKS46xMIz+DbFVu7D5ciqzDpTh4tLzeMA+9qPNf6KuZBzGR/kwEf1Atxr9OAbSLZHUmJn/RWZszrItaWVYgQzlrw01qi7QYERdt8g85Ub+Jtju8KLU5UVLhRKlNLXJc5VAvhGvX7AkwGfWIjjBqF72BIUuB3wOZPuqwppr7Op2A8kpXvcBYaaXrjMzOJcs1WTFnjCAgUhuuZqjJZLEatSFsgX4VKjjr9kootTlRWuFCcYX6GpT4fy+3u+DxSjhWUoVjJSev31KbyagGIKwmPSxmdWhOIJOsQ2JEkwpR63RqfbPO7aIxcVRnuNw+HMqvUINoR8tRXO5AzjF1CNKpzlPdzB8oihYcO17qaDCgYDUb0D4xAu0TIpAcZ4WkKHC5fXD5i7W7/EXanR7/Mv+6QN8KvEeT4ixI9QfGAgGymEjjKS8+A5/VyXHWeuuqnF4UldV8NpRUOGHQ64KCsoHgWIQlEAQwqBlwjbjo9UlyUCAtcN/tkeDxSRBqB9+FmuC7ThAgCAgOMPmDTmaj2o5waypFWY1oj4iTbhMYSmV3qO8/o0H9LFADY/rz4u+drlZ/Gdo7OWidJCtB2Vsuj68ma8ufueX2Bl5zH6IjTOiYrPbV1pg5JOoELcBKjSMIAtolRKBdwsnfS0TNLexPEJ/Ph/nz5wMAnn322aDA2FVXXYXly5fjhx9+wJIlS3DnnXeecn9r167Fhg0bMGHCBDz++OP11sfGxiI2NjbcZhIRUZgCGSmSJPsL3+rO2LdxakFTtU5IlVYPRv0GvtpZ8617lf9+IHOlNoN/Fq5O7aKQlhyFTilRSIy1nPELC2+gkGytwrFa4VX/fY9X8n9zb9QCA/WGuzRQv6alKP6L8KzDpcjKLkHeieCZmOKjLTAYdLBXq8PmfJKMskonyipD14ZpDKNB1IrOqgVn1VpHCTFm6AShphaPrNbjqTtUKpA9JfmXeb1yrSwi9Vt6l7um5k/tIXhOtw+SPwBnNRsQH21Wf2LM2v2EGLUOi6kRdZccLi9KbS5/EM2JEu2+S5t+vvgMBLmirEYkxFi0dif4b81GEaKoFiHWhcgyqb1c1AmQZRm2ykqIBgvcXtmfJVaT4VDt9N9qvwfOr08LJAQy09RAh5r5EMiIiLDUBEAsptMLAJgMIjokRqJDYv0vZ9V+6T/3FWpw0SAKWgai1WSok42oZuicjWL9ZpMe/bslon83dZxMqc2Jg3kVKKt0aYXXaxdiVxTFXyPLg8KSk+87MCyyfUKEFiRTM9hOHdgKRfYHKKqdHvi8TiTGxzZ7lkCkxYDI1Bikp8Y0634D9KIOeosOEedIUKL2UCqqT9QJNRnCRERnUdifOr/99hsqKiqQlpaGAQMG1Fs/efJk/PDDD1i3bl2jgmb/+9//AAB33XVXuE0hIiI/WVZgq1Kn9i63+28r1ayLaocbOlGEJAG+QP0in6wFG2oKBwdn8AiCoH3TbapVzDdoWa06MQZRB7c3kKUgadkK2n1vrWnoPdJJh6E0JDAsJ1A/pG6WhsmoVwNpKVFIS1EDaQkx5lNeNHq8kjqEzD8korrWsDJblRs2f+FUW5UbVU5Po9paanM2WGy4NovJgKgItQh0IKPAYhL9mS+BbKSaGkR1M5NOJ/jgk2QcLrAhK7sEWYdLUV5ZawJzQUDndlHon56A/t0SkRJv1c6j1yejstpdM6NalQeV1W7Y/L/bqtR1gUBnXLTZnz1gQXKgGHictVGZKmeS1ydDkuVmqUUWuNjtmBIV8jhllS7YHR7/+8Gn3arZPep7xeXP+HFr7yEfJElBbJSpJiBWJ6gXTlHgk1PUYVoRxlY5hKKxArN/hcpsam0SYiwNTgwgywqqXeowvlAzGsqygnaBAFliBBJjmvcLA51OgNmkh0EvwG5v3GceERFRWxT2f4l79+4FgAaL/fft2xcAsH///lPuy+fzYdu2bRBFEYMHD0Z2dja+/fZbFBUVIS4uDhdddBFGjhwZbhOJiJpMkhVtFiqn2weXx3/rlrSsCnWZOozF41MzimL8RUQD00/HRJoQYTY0y0WMos1u5dWCYWV2tzZkq7zSjYoq10nrFDVlWnhFUbQCtWdSYAhOVKAWjH9GschAnRhtuRFWf4ZKYEa7/KIqHD2u1j0pKFYLCGfnVyA7vyJo/6nJkeiQGAGvTw4qKh2ovxTukD+DXtSKx8ZEmmrdNyIu2gyjXkSVs+YCN3Dha6/2akXP7Q6Pvwi5F063OkypKYyG0MP6tACbUQ3ABYJuBlFAuc2O3BMF2HekPOj1NehF9OwUh/7dEtC3a4JWFLn+89ed9II/wOuTASjNGNhpXga9Dgac+Uw/g16HFP+MgUSNodMJWrZqh5ZuDBER0Xks7KDZsWPHAADt2rULuT6wvKKiAtXV1YiIaHjMcV5eHlwuFxITE/HZZ5/hjTfegCTV1GSYPXs2xo4dizfffPOk+2mM2vs910mSpP0QBbBfhM/jlXD4WCUO5pXjwNEKlFS4GlUUurH0ooDoCDWQEhNZcxsbqQYinIFhY55aQ8gCAblay9xeHxqTlCWKgjYtdny0OiNQTIQBks+DqEgrjAa1YLIoCjD4iwPrRR30olosWK/z34oCZBlavRCXx1dTB8ZbkzWm1Yfx3/dJsjbVfO0p5k31MtNqajqZDGJYgUVFkRHo4kmxZiTFmjGkpzrUSZIVFJU51Jm4iqqQd8KOwpJqVDu9OHCkHAeOnLw+pk4n1Awjq1VgNzrCqE0xHhOhBkUbUwQ/Pjp0wKnmudTUr7FXe2B3qgXK3Z6avhDI0nO5fXD5z7PTX3PI51M7RSArqfHUIY1qjSYBkVYD+naNR//0BPToGAtjraGIp/t5Enhp+bnU+vFvCIXCfkGhsF9QXewTFEpb6RdhB80cDvWbcIsl9LfLVmvNt6inCprZbOqQmoqKCrz22muYMmUKZsyYgaSkJGzbtg3PPvssNmzYgH/+85/497//HW5TNbIsw263n3rDc4Qsy3C5XBAEATpd66iFQy3vXO4XiqLA5ZFgq/LAVu2BrcoLW7UHFVUeeLwSEmPMSIm3ICXegqRYM/RNKMgMALKi4FixA9nHKpFdoE5xLjVQiNyg12mBHouWuVN/mUEUUOX0qUPSqtWaXLZqNXvJIwMlFT6UVJx6ivnG0Is6xEYaERtlVG/9AbgY/7IoqwG6OoEcWZbhdOpgsZhC9AsFgKTdVSTAJwGBvCMdALNe/QFE/09zkAHFA58H8DXzqJ9IE9CnUwT6dIoAkAKfJKOo3IWC4mqU2FwwGdSiylazWDPjlL++kcnQmBpuCiSvC1XNWCPdagCssSJSYsM7vz5JrlX0OBDElGvueyS4fTXrXYH1Hh98Pgk9OsaiT+dYpCZHaP3G7XLA7TrFgalNOpf/htCZw35BobBfUF3sExRKa+8Xsiw3ql0tWklR9qdO+Hw+jBw5Eq+++qq2bty4cUhMTMSNN96Ir7/+GjNnzkSnTp2adBydToeoqPo1Rs5VkiRBURRERkae03VHqHm15n7hk9TC6eX2moLpgfuB25NlyhzMr5kBTacDkmKt/jouVrXYcUIEYqNM9TKWFEVBSYULB/LKcfBoBQ7mV8Dlrn0cHeJjTOjZMRY9O8UiLTkKVrNeK6B9us9Zre3k8dfEcvuDgm5UVHmgE+CvU1VTtyowdXygMHXt5RaTCL0YfmH+1twvzpa42Bj06trSrWg9Wvv039Qy+FlBobBfUCjsF1QX+wSF0tr7RWMDeWEHzQKZZE5n6OLGgUw0AKccUlk7K+2mm26qt37AgAHo168fsrKykJGR0eSgGYBW+SKdDlEUtR+igJboF+rsXl5/0flagTG7//dKF+xOr1pc6yQEAYiwGBAXpQ4rjIsyITbKDKNBhxOlDhSWVqOwpBoOlxdF5er09DsO1jzeZNRrs4Ulx1lQWOrAgaPlqLAHp81YzQb06BiLnp3i0KNTLJJiLWekELkoikgyGpAU1/LTYvPzgupin6BQ2C8oFPYLCoX9gupin6BQ2kK/CDto1qGDWo70+PHjIdcHlsfGxp4yaJaamqrdT0tLC7lNWloasrKyUFJyirm2ic4RWiFytxcOp88/Y58X1U4fHG711uuTkBJvRVpyFFKTIs/oDHOKosATGMLlkeDx+Qvce2W4vb6goV+BelbqUEo3yu0uVNjdjSqirhd1iIsOBMTMiNMCYyYtUFa7llJDbbVVeVBYUo3C0iocK1EDaSfKHHB7fMgttCG30Bb0GFHUIb1DDHp2UgNlaclRzTrDGBEREREREbVNYQfN+vTpAwDYvXt3yPV79uwBAPTq1euU+4qKikKnTp1w9OhRrb5ZXRUVFQCCs9KImpssK+oMd/7Z7Sqr3aisNbV7ZbUHVU4vZFmBTidAJwgQBGj3Qy0L3PdJij8ops7Y5/WFXwgx0mpEWlIk0pIjkZocidSkKCTEmBsd/HF5fCi1uVBS7kRxhQPFFS6U2pwornCistpzyiywUxIEREcY1SBYpAlx0eaggFhclAkRFsNpB/4EQVBnKYwyoU/XeG25JMkornBqQbSiMgcSYs3o1SkOXTvEnDIYR0RERERERFRX2EGzoUOHIjY2Fvn5+di1axcGDBgQtH7lypUAgAkTJjRqfxMmTMDcuXPx888/Y+zYsUHrKisrtSBcv379wm0qEQA1IFZZ7UGpzYmyShdKbeqwwdqBsWqnF8rpBo7CIAjqLH1WswERZgOsFr16a1ZvRVHAsZJq5BdVoajMgSqHB/uOlGHfkTJtHyajHmnJ/kBaUiTaxVtQaa+Gs9CFsko3SiqcKKlQA2NVjkZUWxcEbTbDwAyHJqMIY51lRv9MiDGRJm0YZUykqcnF+ZuDKOrQLiEC7RIigFPH64mIiIiIiIhOKeygmV6vxx133IH/+7//w3PPPYd58+YhMjISALBixQr88MMPiIuLww033KA9ZufOnfjb3/4GAFi1alXQ/u68807873//w4IFCzB27FiMHj0aAODxePDcc8+hsrISvXv3xtChQ5v8JKntc7p9KLU5UWpTg2JqcEz9vbzS1ajhg4IgINJiQFSEEdERRkRHmNRbq/p7hNUAUSdAlhUoijoTo6woUGRAkuWaZbJ/uQItMy3CbECERY8Ii8Ff7F3f6Cwxj1dCYUk18ourkF9kR0FRFQpLquH2+JCdX4Hs/AoA8B9Pgk4nIlRCV6TFiMRYCxJizUiKtSDR/xMbaYLZpIdRH36ReSIiIiIiIqK2qkmzZ9577734+eefkZGRgYkTJ2LEiBEoKSnBtm3bYDAY8Nprr2mBNECdNCAnJyfkvtq3b48XX3wRf/vb3/DHP/4RgwYNQmJiInbt2oXjx48jMTERb775Ji/m2yCPV1IzocqdKCp3oNQf3JJlNfAk+W9lWYHkD0ZJkhqQ0m5lGVUOtSbYyQiCgLgoMxJizUiINiM+2lwTGIs0IspqRKTF0CprXRkNIjq3j0bn9tHaMkmScaLMgfziKhQUVSG/qAoFxXbooENKQiSS46z+AJlFC5BZTC06WS4RERERERHROaVJV9FGoxEff/wxPvnkEyxfvhzr16+H1WrFhAkT8MADD4Q9lPKqq65Cx44d8Z///Ae//fYbsrKykJycjNtuuw0zZsxASkpKU5pJrYAsKyi3u1BUpgbGiiv8t+XOerManq5IixHxMWYkxJiREGNBfHTgvhmxUWaIrTAg1lSiqEOHpEh0SIoE+qrLJEmC3W5HVFTUOT07CREREREREVFr0OTUE6PRiPvuuw/33XffKbcdNWoU9u/ff9JtBg0ahPfff7+pzaFWotTmxI6Dxcg5VonicidKbE5IJxkaaTEZkBRnQVKcBYkxFpiMInSCAFFUi+mLOrXIvqjTQadDzf1a21gtesRHm2E2MpOKiIiIiIiIiJoHowx02gKBsu0HipF3wl5vvV7UITHWguQ4qxogi7UgOd6KpDgrIsx6Dr0lIiIiIiIiolaHQTNqklKbE9sPFGP7wWLk1wqUCYKA7mmx6JuegHYJViTFWhAXZW6VtcKIiIiIiIiIiBrCoBk1WkmFGijbcbAY+UV1AmUdYzG4RxIGdE9ElNXYgq0kIiIiIiIiIjp9DJpRg7w+GSUVTuw+XILtB0pQUMxAGRERERERERGdHxg0O4/5JBkVdjfKKl0otblQVun/8d+vrHYHbV87UDaweyIiGSgjIiIiIiIiojaKQbPzRLXTi592HkNxuVMLjtmq3FAU5aSPMxpEdGkfjcE9kzCgexIiLYaz1GIiIiIiIiIiopbDoNl5QJIV/GfpzpAzWxr0IuKjzYiLNiEhxoL4aBMSoi2IizYhPsbC2S2JiIiIiIiI6LzEoNl54Iff8pB3wg6zSY8JwzsiPsaChGgz4mPMiLQYGBQjIiIiIiIiIqqDQbM27kSZA99uzgUATLmkG0b1b9+yDSIiIiIiIiIiOgfoWroBdObIsoLP1+yHT5LRu3M8RvZr19JNIiIiIiIiIiI6JzBo1oZtzMxHbqENJqMeN/2uJ4dhEhERERERERE1EoNmbVRRuQPf/JQDALhmTDrioswt3CIiIiIiIiIionMHg2ZtkCwrWPjdAfgkGT06xeGCAaxjRkREREREREQUDgbN2qCfdhzD4YIKGA0ipl7GYZlEREREREREROFi0KyNKbU58fWmwwCAq8ekIyHG0sItIiIiIiIiIiI69zBo1obIsoLPvzsAr09Ct7RYXDigQ0s3iYiIiIiIiIjonMSgWRuyJasQh/LKYdCLuPl3vaDTcVgmEREREREREVFTMGjWRpRVuvD1j+qwzCsv6orEWA7LJCIiIiIiIiJqKgbN2gBFUbDwu/1we3zo2iEGYwantnSTiIiIiIiIiIjOaQyatQE/Zx3HgaPl0Is63DyRwzKJiIiIiIiIiE4Xg2bnuAq7G19tzAYATL6oK5LjrC3cIiIiIiIiIiKicx+DZucwRVGwcK06LLNz+2hcOiStpZtERERERERERNQmMGh2Dtu2twj7csvUYZmcLZOIiIiIiIiIqNkwaHaOqqz24KuN6myZk0Z3QbuEiBZuERERERERERFR28Gg2TlIURR8/dNRON0+dEyJwrjhHVu6SUREREREREREbQqDZuegzAPF2H/UBlEUcMvE3hA5LJOIiIiIiIiIqFkxaHYOWrk5FwDwuxGd0D6RwzKJiIiIiIiIiJqbvqUbQOEb2D0R5bZqjB/O2TKJiIiIiIiIiM4EBs3OQdeMSYfdbocoMlGQiIiIiIiIiOhMYNSFiIiIiIiIiIioDgbNiIiIiIiIiIiI6mDQjIiIiIiIiIiIqA4GzYiIiIiIiIiIiOpo8xMBFBUVQZIkTJgwoaWb0qxkWYZOx5gnBWO/oFDYL6gu9gkKhf2CQmG/oFDYL6gu9gkKpTX3i8LCQoiieMrtWmfrm5HJZIJe3/Zig62141HLYr+gUNgvqC72CQqF/YJCYb+gUNgvqC72CQqlNfcLvV4Pk8l0yu0ERVGUs9AeIiIiIiIiIiKic0brDfsRERERERERERG1EAbNiIiIiIiIiIiI6mDQjIiIiIiIiIiIqA4GzYiIiIiIiIiIiOpg0IyIiIiIiIiIiKgOBs3o/7d35zFRXf0bwB8V1MEFFBRQoijtBQET3K1xr1Vi7UK10iXgAu6iaRODNopK3F5qKo0GoljUtmq1dakaLMUFtBFBRAXUjsWNYaziOB0yqMwMcN4/mrl1YFDf36+yzH0+CYl8z7nJIfMExu/cew4REREREREREdXCphkREREREREREVEtbJoRERERERERERHVwqYZERERERERERFRLWyaERERERERERER1cKmGRERERERERERUS1smhEREREREREREdXi1NgLoJdnNpuxY8cOHDlyBBqNBi4uLhg4cCDmzZuHoKCgxl4evSJXr17FuXPnUFhYiKKiImi1WgDAyZMn4ePjU+91JSUl2Lx5M7Kzs1FeXg4vLy9MmDAB8+bNQ7t27Rpq+fQKWCwW5OTkIDMzEzk5OdBoNKiuroaXlxeGDx+O6OhodO/e3e61zIXj2rdvH7Kzs6FWq/Ho0SM8fvwYrq6u6Nu3Lz766COMGTPG7nXMhLIIITBt2jTk5OQAANLS0uDn51dnHnPh2JYuXYpDhw7VOx4eHo74+Pg6deZCGYxGI1JTU3HixAmUlpYCADw9PTFgwAAsWrQInp6eNvOZC8eVk5ODyMjIF84bMmQIvv32W5sac+HYbt26hZSUFOTk5KCsrAxOTk7o0aMHxo8fjxkzZth9jXU6HbZs2YLMzEzodDp4eHhg9OjRiImJgbu7eyP8FC+nhRBCNPYi6MXMZjOioqKQm5sLd3d3DBo0CA8fPsTFixfh7OyM5ORkjBgxorGXSa/A/PnzcfLkyTr15zXNrl69ioiICDx+/BhBQUHo0aMHCgoKoNVqIUkS9uzZgw4dOrzqpdMrcu7cOcyYMQMA4O3tLTfNCwoKUFZWhvbt22P79u3o16+fzXXMhWMLDQ2FRqOBJEnw9PRE27ZtodFoUFRUBACYOXMmYmNjba5hJpTnhx9+wMqVK9GiRQsIIew2zZgLx2dtmg0fPhxdunSpMz5kyBCEhYXZ1JgLZSguLsaMGTNQVlaGnj17IiAgABaLBSUlJSguLsbu3bsxcOBAeT5z4dhu3ryJlJSUesczMjJQUVGBmJgYLFy4UK4zF44tLy8PUVFRqKyshK+vL/z9/fH06VPk5+ejoqICfn5+2Lt3L1xdXeVrtFotwsPD8fDhQ/Tu3Rv+/v5Qq9W4desWPD09sW/fPnh7ezfiT/UcgpqFLVu2CEmSxOTJk4XRaJTrR48eFZIkiSFDhtjUyXFs3bpVbNq0SWRkZIj79++LYcOGCUmShEajsTu/qqpKjB8/XkiSJLZu3SrXTSaTmDNnjpAkSaxYsaKhlk+vwLlz50RMTIzIz8+3qVdWVoqlS5cKSZLEmDFjhNlslseYC8eXn58vKioq6tQvXLggQkJChCRJ4vLly3KdmVCeP//8U/Tv319ERUWJMWPGCEmSRHFxsc0c5kIZYmNjhSRJ4vz58y81n7lQhvLycjFixAgRHBwsjhw5Umf87t274tGjR/L3zIWy3bt3TwQEBAh/f39RUlIi15kLx/f2228LSZJEYmKiqKmpket//fWXCAsLE5IkiY0bN9pcExkZKSRJEnFxcfI1NTU1Ii4uTkiSJGbOnNmgP8P/gk2zZsBisYjBgwcLSZJEQUFBnfFZs2YJSZLEzp07G2F11NBe1DRLT08XkiSJSZMm2fwSE0KIBw8eiMDAQBEYGCj0en1DLJca2NOnT8WAAQOEJEkiJydHrjMXyrZs2TIhSZJITk6Wa8yE8syaNUuEhISI0tLSeptmzIUy/K9NM+ZCGdauXSskSRI7dux4qfnMhbIlJycLSZLEp59+alNnLhybXq8XkiSJoKAgYTKZ6oxbb+qJiIiQa0VFRUKSJDF48GBRWVlpM7+yslLudVy/fv2Vr///ggcBNAP5+fkwGAzw8fFB375964xPnDgRAOw+wkfKc/r0aQDAhAkT0KJFC5uxrl27YsCAAaiqqkJWVlZjLI9esbZt28LX1xcAUFZWJteZC2Vzcvp7C9PWrVvLNWZCWQ4fPoysrCwsXry43j0PAeaC7GMuHJ/JZMLBgwehUqkQHh7+UtcwF8p2+PBhAMD7779vU2cuHJuzs/NLzevUqZP8b2smxo4dizZt2tjMa9OmDcaOHQsAOHHixL+0yn8Xm2bNwPXr1wGg3s3+AwMDAQBqtbrB1kRNlzUvwcHBdsetOfr9998bbE3UcKqrq+XDIjw8POQ6c6Fc169fx/Hjx9GqVSubvS+ZCeXQ6XRYv349+vbt+8INnZkLZcnIyMCaNWsQFxeH5ORkFBQU2J3HXDi+oqIiGI1GBAYGQqVSITs7GwkJCYiLi8O2bdtw69atOtcwF8p15coV3L59GyqVCqGhoTZjzIVja9++Pfr16weLxYLk5GSIZ7bINxgMSE1NBQB8+OGHcv1lM9FU+xk8PbMZuHfvHgDAy8vL7ri1bjAY8PjxY55GonAvyov1xCPrPHIsP//8M/R6PTp37oz+/fvLdeZCOQ4cOIALFy7AYrFAq9Xi8uXLcHJywqpVq/D666/L85gJ5YiPj0dFRQXWrFmDli2f/3kpc6Es3333nc33iYmJGDVqFBISEuDm5ibXmQvHV1xcDABwd3fHokWLkJ6ebjO+adMmzJ07F4sXL5ZrzIVyWe8ye+utt9C+fXubMebC8a1duxbR0dFISkpCWloa/P39UVlZiYsXL0KlUiEhIQHDhw+X51tf69on71pZs2L94L+pYdOsGXjy5AkAQKVS2R13cXGR/82mGb0oL9Z8PH78uMHWRA2jtLQU//nPfwAAn332mc2jeMyFcuTn5+PQoUPy9yqVCl988QUmT55sM4+ZUIb09HSkp6dj9uzZCAgIeOF85kIZAgICsHLlSgwdOhTe3t7Q6/XIzc3FV199haysLMydOxd79uyRm6zMheMrLy8H8M9jVEuWLME777yDVq1a4fjx40hISEBSUhK6desm30HCXCiT2WxGWloaANQ5ZRdgLpTAejrm4sWLcfnyZdy5c0ceGzZsGF577TWb+dZMPNu3eJa13lQzwccziYgcQEVFBebPnw+DwYDQ0FBMnTq1sZdEjWTt2rVQq9W4dOkSDh8+jIkTJ2LFihWYM2cOKisrG3t51IAMBgPi4+PRs2dPLFy4sLGXQ03I9OnT8cknn6B3795QqVTo3r07wsLC8NNPP8HNzQ2XLl2qc6cRObaamhoAgMViwdy5cxEdHQ1PT094eHggIiICn3/+OQAgKSmpMZdJTcDp06dhMBjg5eWFoUOHNvZyqBGcP38e7777LoxGI7Zv344LFy7gzJkziI+PR3Z2Nj7++GP89ttvjb3Mfw2bZs2AtfP69OlTu+PWzi0A3mVGL8yLtYPPrDgOk8mEefPmQa1W44033sCXX35ZZw5zoTwuLi7o06cP1q1bhylTpuDs2bPYsWOHzTjATDiy9evXQ6fTYfXq1XU23q0Pc6Fsnp6e+OCDDwAAZ86ckevMheN79g6QZ/cisrJ+GHfv3j1oNBqba5gLZbE+mvnee+/ZfeSfuXBsBoMBixcvhtlsRkpKCkaMGIGOHTvC09MT4eHhiI+Ph8lkwsqVK1FdXQ3gn0w827d4lrXeVDPBplkz0K1bNwDA/fv37Y5b625ubk02aNRwXpSXBw8e2Myj5s1isSAmJga5ubkICQlBUlKSzWOZVsyFsllPtnr2lGVmwvGdPHkSbdq0QVJSEiIiImy+Hj58CACIjY1FREQEfvnlFwDMBcHuCczMheOznqrbunVru/sOtWvXDp07dwYA+fcHc6E8er0eZ8+eBVD31Ewr5sKxZWZmwmAwICQkxO5p3OPHj4ezszNKS0vlBrv1tba+9rVZs/K8070bE5tmzUCfPn0AAFevXrU7fu3aNQCAv79/g62Jmi5rXoqKiuyOW3P0MnvbUNNWU1ODJUuWICsrCwEBAdi2bVu9ewUwF8pm/Y+OXq+Xa8yEMphMJuTm5tb5MpvNAIDCwkLk5ubKb1iZC7LubfXsfkTMheMLDAwE8Pd+Vfb2FaqurobRaATwz10jzIXyHDt2DBaLBSEhIejdu7fdOcyFY7M2vjp06GB33MnJSf4dYf178rKZaKr9DDbNmoH+/fvDzc0NpaWlKCwsrDNu3YjxzTffbOilURM0ZswYAH9v/vzsEcDA358aX7x4EU5OThg5cmRjLI/+JUIILF++HMePH0evXr2QmpoKV1fXeuczF8qWk5MDAOjZs6dcYyYcX15eHtRqtd0v66e5aWlpUKvVmD59OgDmQumEEPj1118BAMHBwXKduXB83t7eCAoKAvDP34xn5eXlwWKxQKVSyc0S5kJ5rI9m1neXGcBcOLouXboA+LvRVVVVVWf8zp07crPM+l7DmolTp07BZDLZzDeZTDh16hQAYNy4ca9s3f8fbJo1A05OToiMjAQArF69GhUVFfLYsWPHkJWVhU6dOtU5GY2UaezYsfD19cWNGzeQkpIi181mM+Li4lBVVYXJkyfLd55Q87RhwwYcOHAAPj4+2LVrF9zd3Z87n7lwbEVFRcjIyLD75uX06dNITEwEYLtPDTNB9jAXju/atWs4evSofLehVUVFBZYvX47CwkK4uLjYvK9kLpRh9uzZAICEhASUlpbK9QcPHmDt2rUAgClTpsjbQDAXyvLHH3/g6tWraN26NSZOnFjvPObCsY0cORJt27aFVqvFxo0bbd576vV6LF++HAAwePBgeHh4AACCgoIwdOhQGAwGrFu3Tm6mCiGwbt06GAwGDB8+vMnefdhC1G7/UpNkNpsRFRWF3NxcuLu7Y9CgQdDpdMjLy4OzszOSkpLYrXdQmZmZNicVXbt2DRaLBX369JHftIwaNQoLFiyQ5xQVFSEiIgJPnjxBUFAQevbsiStXrkCr1UKSJOzZs6feW2qp6Ttx4oT8eg8ZMqTePSHGjRtn84kNc+G4rJno2LEjgoKC4O7uDqPRiNu3b6OkpAQAMHPmTMTGxtpcx0wo19ixY6HVapGWlgY/Pz+bMebCsVl/X7i6uiI4OBidOnWCTqfD9evXUV5eDhcXFyQmJmLUqFE21zEXyrBq1Srs3bsXLi4u6N+/P1q2bIlLly7BaDQiJCQEO3futHl0l7lQjoSEBHzzzTcIDQ3F119//dy5zIVj+/HHHxEXF4eamhp069YNgYGBqKysxJUrV2A0GuHh4YHvv/8evXr1kq/RarUIDw/Hw4cP4efnB39/f6jVaty8eRNdu3bF/v374e3t3Yg/Vf3YNGtGzGYzUlNTceTIEWg0Gri4uGDAgAFYsGCBfDs1OZ6DBw9i2bJlz50TFhaGDRs22NTu3r2LzZs3Izs7G+Xl5fDy8sKECRMwf/58HhjRzL1MJgBg4cKFiImJsakxF47pwYMH2L9/P3Jzc1FSUgK9Xo+WLVuia9eu6NevH6ZOnYqBAwfavZaZUKbnNc0A5sKRaTQa7Nq1C4WFhdBqtTAYDHB2dkb37t0xbNgwREZGwsfHx+61zIUyHD16FLt378aNGzdQVVUFX19fTJo0CdOmTbN7Ei9z4fiqq6sxevRolJWVYevWrRg9evQLr2EuHNuVK1ewa9cu5OfnQ6fToVWrVvDx8cHIkSMRHR1t9ykYnU6HzZs3IzMzE48ePYK7uztGjx6NRYsWvfCpmcbEphkREREREREREVEt3NOMiIiIiIiIiIioFjbNiIiIiIiIiIiIamHTjIiIiIiIiIiIqBY2zYiIiIiIiIiIiGph04yIiIiIiIiIiKgWNs2IiIiIiIiIiIhqYdOMiIiIiIiIiIioFjbNiIiIiIiIiIiIamHTjIiIiIiIiIiIqBY2zYiIiIiIiIiIiGph04yIiIiIiIiIiKgWNs2IiIiIiIiIiIhq+S/ByI7NS5ExDAAAAABJRU5ErkJggg==)"
   ]
  },
  {
   "cell_type": "markdown",
   "metadata": {
    "id": "aguo2OvCJK3h"
   },
   "source": [
    "### EfficientNetB7"
   ]
  },
  {
   "cell_type": "code",
   "execution_count": null,
   "metadata": {
    "id": "V8qZPnG_Q8H0"
   },
   "outputs": [],
   "source": [
    "from tensorflow.keras.models import Model\n",
    "from tensorflow.keras.applications import VGG16\n",
    "\n",
    "seed=42\n",
    "def build_model(\n",
    "    input_shape=input_shape,\n",
    "    output_shape=output_shape,\n",
    "    learning_rate=lr_schedule,\n",
    "    augmentation=None,\n",
    "    seed=seed\n",
    "):\n",
    "    # Set the random seed for reproducibility\n",
    "    tf.random.set_seed(seed)\n",
    "\n",
    "    # Debug: Controlla l'output_shape passato\n",
    "    print(\"Output shape:\", output_shape)\n",
    "\n",
    "    # Define the input layer\n",
    "    input_layer = tfkl.Input(shape=input_shape, name='Input')\n",
    "\n",
    "    # Optional: Apply augmentation if provided\n",
    "    if augmentation:\n",
    "        x = augmentation(input_layer)\n",
    "    else:\n",
    "        x = input_layer\n",
    "\n",
    "    base_model = tf.keras.applications.EfficientNetB7(\n",
    "    include_top=False,\n",
    "    weights='imagenet',\n",
    "    input_tensor=x,\n",
    "    input_shape=(96,96,3),\n",
    "    pooling=None,\n",
    "    classifier_activation='softmax'\n",
    "    )\n",
    "\n",
    "    # Add a global average pooling layer\n",
    "    x = tfkl.GlobalAveragePooling2D(name='gap')(base_model.output)\n",
    "\n",
    "    # Add the output layer\n",
    "    output_layer = tfkl.Dense(output_shape, activation='softmax', name='Output')(x)\n",
    "\n",
    "    # Create the model\n",
    "    model = Model(inputs=input_layer, outputs=output_layer, name='Vgg16_Custom')\n",
    "\n",
    "\n",
    "    loss=tf.keras.losses.CategoricalCrossentropy(label_smoothing=0.1)   # smoothing to prevent overfitting due to MixUp e CutMix\n",
    "\n",
    "    optimizer = tf.keras.optimizers.AdamW(learning_rate)\n",
    "    metrics=[tf.keras.metrics.CategoricalAccuracy(), tf.keras.metrics.TopKCategoricalAccuracy(k=5)]\n",
    "    model.compile(loss=loss, optimizer=optimizer, metrics=metrics)\n",
    "\n",
    "    # Return the compiled model\n",
    "    return model"
   ]
  },
  {
   "cell_type": "code",
   "execution_count": null,
   "metadata": {
    "colab": {
     "base_uri": "https://localhost:8080/",
     "height": 1000
    },
    "executionInfo": {
     "elapsed": 60991,
     "status": "ok",
     "timestamp": 1732181504259,
     "user": {
      "displayName": "Matteo Missana",
      "userId": "09393135550846459055"
     },
     "user_tz": -60
    },
    "id": "rN572h1IQ8H1",
    "outputId": "9c3b60c2-fb29-4396-8675-5c2e245e3497"
   },
   "outputs": [],
   "source": [
    "# Build the model with specified input and output shapes\n",
    "model = build_model()\n",
    "#model = build_model(input_shape=input_shape, output_shape=output_shape, learning_rate=learning_rate)\n",
    "\n",
    "# Display a summary of the model architecture\n",
    "model.summary(expand_nested=True, show_trainable=True)\n",
    "\n",
    "# Plot the model architecture\n",
    "tfk.utils.plot_model(model,  show_shapes=True)"
   ]
  },
  {
   "cell_type": "markdown",
   "metadata": {
    "id": "BegLyZ-KbsTp"
   },
   "source": [
    "freezing the first layers for fine tuning (if needed)"
   ]
  },
  {
   "cell_type": "code",
   "execution_count": null,
   "metadata": {
    "id": "KXBGl7mFbsTr"
   },
   "outputs": [],
   "source": [
    "# number of layers to freeze\n",
    "N = 0\n",
    "\n",
    "# set the first N layers as non-trainable\n",
    "for i, layer in enumerate(model.layers[:N]):\n",
    "    layer.trainable = False"
   ]
  },
  {
   "cell_type": "code",
   "execution_count": null,
   "metadata": {
    "colab": {
     "base_uri": "https://localhost:8080/"
    },
    "executionInfo": {
     "elapsed": 2390138,
     "status": "ok",
     "timestamp": 1732398588195,
     "user": {
      "displayName": "Martina Missana",
      "userId": "00522381731481693710"
     },
     "user_tz": -60
    },
    "id": "zb1a14RuaONW",
    "outputId": "482e250f-84bc-40b9-d2df-5756ae41add7"
   },
   "outputs": [],
   "source": [
    "# Train the model\n",
    "\n",
    "history = model.fit(\n",
    "    train_ds,\n",
    "    batch_size=batch_size,\n",
    "    epochs=epochs,\n",
    "    validation_data=val_ds,\n",
    "    callbacks=callbacks,\n",
    "    class_weight=normalized_class_weights\n",
    ").history\n",
    "\n",
    "# Calculate and print the final validation accuracy\n",
    "final_val_accuracy = round(max(history['val_categorical_accuracy'])* 100, 2)\n",
    "print(f'Final validation accuracy: {final_val_accuracy}%')\n",
    "\n",
    "# Save the trained model to a file with the accuracy included in the filename\n",
    "model_filename = 'efficientnetB7.keras' #change this name based on the model\n",
    "model.save(model_filename)\n",
    "\n",
    "del model"
   ]
  },
  {
   "cell_type": "code",
   "execution_count": null,
   "metadata": {
    "colab": {
     "base_uri": "https://localhost:8080/"
    },
    "executionInfo": {
     "elapsed": 13,
     "status": "ok",
     "timestamp": 1732398588212,
     "user": {
      "displayName": "Martina Missana",
      "userId": "00522381731481693710"
     },
     "user_tz": -60
    },
    "id": "lUuzI9TYTYke",
    "outputId": "02765d4a-02a9-4640-fb13-4e2e5dcebf97"
   },
   "outputs": [],
   "source": [
    "# Calculate and print the final validation accuracy\n",
    "final_val_accuracy = round(max(history['val_categorical_accuracy'])* 100, 2)\n",
    "print(f'Final validation accuracy: {final_val_accuracy}%')\n",
    "\n"
   ]
  },
  {
   "cell_type": "code",
   "execution_count": null,
   "metadata": {
    "colab": {
     "base_uri": "https://localhost:8080/",
     "height": 436
    },
    "executionInfo": {
     "elapsed": 865,
     "status": "ok",
     "timestamp": 1732398589075,
     "user": {
      "displayName": "Martina Missana",
      "userId": "00522381731481693710"
     },
     "user_tz": -60
    },
    "id": "NBlwhuSS9v87",
    "outputId": "1a9fbe43-6024-42ff-9942-ba4612fec09f"
   },
   "outputs": [],
   "source": [
    "# Plot training and validation loss\n",
    "plt.figure(figsize=(15, 2))\n",
    "plt.plot(history['loss'], label='Training loss', alpha=.8)\n",
    "plt.plot(history['val_loss'], label='Validation loss', alpha=.8)\n",
    "plt.title('Loss')\n",
    "plt.legend()\n",
    "plt.grid(alpha=.3)\n",
    "\n",
    "# Plot training and validation accuracy\n",
    "plt.figure(figsize=(15, 2))\n",
    "plt.plot(history['categorical_accuracy'], label='Training categorical_accuracy', alpha=.8)\n",
    "plt.plot(history['val_categorical_accuracy'], label='Validation categotical accuracy', alpha=.8)\n",
    "plt.title('Accuracy')\n",
    "plt.legend()\n",
    "plt.grid(alpha=.3)\n",
    "plt.show()"
   ]
  },
  {
   "cell_type": "code",
   "execution_count": null,
   "metadata": {
    "colab": {
     "base_uri": "https://localhost:8080/"
    },
    "executionInfo": {
     "elapsed": 38586,
     "status": "ok",
     "timestamp": 1732456308006,
     "user": {
      "displayName": "Matteo Missana",
      "userId": "09393135550846459055"
     },
     "user_tz": -60
    },
    "id": "ZN9jytfwC2yJ",
    "outputId": "3696cd5f-db54-47c4-aed4-136bafe81bf2"
   },
   "outputs": [],
   "source": [
    "model = keras.models.load_model('efficientnetB7.keras')\n",
    "X_val = (X_val).astype('float32')\n",
    "y_val = tfk.utils.to_categorical(y_val)\n",
    "predictions = model.predict(X_val, verbose=0)\n",
    "\n",
    "# Display the shape of the predictions\n",
    "print(\"Predictions Shape:\", predictions.shape)"
   ]
  },
  {
   "cell_type": "code",
   "execution_count": null,
   "metadata": {
    "colab": {
     "base_uri": "https://localhost:8080/",
     "height": 783
    },
    "executionInfo": {
     "elapsed": 1598,
     "status": "ok",
     "timestamp": 1732456356408,
     "user": {
      "displayName": "Matteo Missana",
      "userId": "09393135550846459055"
     },
     "user_tz": -60
    },
    "id": "mZQuXchWC2yK",
    "outputId": "1a54f388-d603-47ca-eeeb-c24da412f998"
   },
   "outputs": [],
   "source": [
    "# Convert predictions to class labels\n",
    "pred_classes = np.argmax(predictions, axis=-1)\n",
    "\n",
    "# Extract ground truth classes\n",
    "true_classes = np.argmax(y_val, axis=-1)\n",
    "\n",
    "# Calculate and display test set accuracy\n",
    "accuracy = accuracy_score(true_classes, pred_classes)\n",
    "print(f'Accuracy score over the test set: {round(accuracy, 4)}')\n",
    "\n",
    "# Calculate and display test set precision\n",
    "precision = precision_score(true_classes, pred_classes, average='weighted')\n",
    "print(f'Precision score over the test set: {round(precision, 4)}')\n",
    "\n",
    "# Calculate and display test set recall\n",
    "recall = recall_score(true_classes, pred_classes, average='weighted')\n",
    "print(f'Recall score over the test set: {round(recall, 4)}')\n",
    "\n",
    "# Calculate and display test set F1 score\n",
    "f1 = f1_score(true_classes, pred_classes, average='weighted')\n",
    "print(f'F1 score over the test set: {round(f1, 4)}')\n",
    "\n",
    "# Compute the confusion matrix\n",
    "cm = confusion_matrix(true_classes, pred_classes)\n",
    "\n",
    "# Combine numbers and percentages into a single string for annotation\n",
    "annot = np.array([f\"{num}\" for num in cm.flatten()]).reshape(cm.shape)\n",
    "\n",
    "# Plot the confusion matrix\n",
    "plt.figure(figsize=(10, 8))\n",
    "sns.heatmap(cm.T, annot=annot, fmt='', xticklabels=labels, yticklabels=labels, cmap='Blues')\n",
    "plt.ylabel('True labels')\n",
    "plt.xlabel('Predicted labels')\n",
    "plt.show()"
   ]
  },
  {
   "cell_type": "markdown",
   "metadata": {
    "id": "etqVSAkcNqtg"
   },
   "source": [
    "### SE-ResNet50"
   ]
  },
  {
   "cell_type": "code",
   "execution_count": null,
   "metadata": {
    "id": "VL2obm_WOptd"
   },
   "outputs": [],
   "source": [
    "from tensorflow.keras.layers import GlobalAveragePooling2D, Reshape, Dense, Permute, multiply\n",
    "import tensorflow.keras.backend as K\n",
    "\n",
    "\n",
    "def squeeze_excite_block(tensor, ratio=8):\n",
    "    init = tensor\n",
    "    channel_axis = 1 if K.image_data_format() == \"channels_first\" else -1\n",
    "    filters = init.shape[channel_axis]\n",
    "    se_shape = (1, 1, filters)\n",
    "\n",
    "    se = GlobalAveragePooling2D()(init)\n",
    "    se = Reshape(se_shape)(se)\n",
    "    se = Dense(filters // ratio, activation='relu', kernel_initializer='he_normal', use_bias=False)(se)\n",
    "    se = Dense(filters, activation='sigmoid', kernel_initializer='he_normal', use_bias=False)(se)\n",
    "\n",
    "    if K.image_data_format() == 'channels_first':\n",
    "        se = Permute((3, 1, 2))(se)\n",
    "\n",
    "    x = multiply([init, se])\n",
    "    return x\n",
    "\n",
    "from tensorflow.keras.layers import Conv2D, BatchNormalization, ReLU, Add, Input\n",
    "from tensorflow.keras.models import Model\n",
    "from tensorflow.keras.initializers import HeNormal, GlorotUniform\n",
    "\n",
    "\n",
    "def bottleneck_block(x, filters, stride=1, se = False,):\n",
    "    shortcut = x\n",
    "\n",
    "    # Reduction of the number of channels with a 1x1 convolution\n",
    "    x = Conv2D(filters, (1, 1), strides=stride, padding='same', kernel_initializer=HeNormal())(x)\n",
    "    x = BatchNormalization()(x)\n",
    "    x = ReLU()(x)\n",
    "\n",
    "    # main 3x3 convolution\n",
    "    x = Conv2D(filters, (3, 3), strides=1, padding='same', kernel_initializer=HeNormal())(x)\n",
    "    x = BatchNormalization()(x)\n",
    "    x = ReLU()(x)\n",
    "\n",
    "    # channel expansion with a 1x1 convolution\n",
    "    x = Conv2D(filters * 4, (1, 1), strides=1, padding='same', kernel_initializer=HeNormal())(x)\n",
    "    x = BatchNormalization()(x)\n",
    "    if se:\n",
    "      x = squeeze_excite_block(x)\n",
    "\n",
    "    # matching the channel for the shortcut in the downsample layer\n",
    "    if stride != 1 or shortcut.shape[-1] != filters * 4:\n",
    "        shortcut = Conv2D(filters * 4, (1, 1), strides=stride, padding='same', kernel_initializer=HeNormal())(shortcut)\n",
    "        shortcut = BatchNormalization()(shortcut)\n",
    "\n",
    "    # Sum and activation\n",
    "    x = Add()([x, shortcut])\n",
    "    x = ReLU()(x)\n",
    "    return x\n",
    "\n",
    "\n",
    "\n",
    "from tensorflow.keras import layers as tfkl\n",
    "from tensorflow.keras.models import Model\n",
    "import tensorflow as tf\n",
    "from tensorflow.keras.optimizers import SGD\n",
    "\n",
    "\n",
    "\n",
    "def build_resnet(\n",
    "    output_shape=8,\n",
    "    learning_rate = learning_rate,\n",
    "    augmentation=None,\n",
    "    seed=42,\n",
    "    layers = 50,\n",
    "    se = False,\n",
    "    dropout=False,\n",
    "):\n",
    "    # Set the random seed for reproducibility\n",
    "    tf.random.set_seed(seed)\n",
    "\n",
    "    # Debug: checks the output shape\n",
    "    if input_shape != (224,224,3):\n",
    "      raise ValueError(f\"input_shape must be (224, 224, 3), but got {input_shape} instead\")\n",
    "    print(\"Output shape:\", output_shape)\n",
    "\n",
    "    # Define the input layer\n",
    "    input_layer = tfkl.Input(shape=input_shape, name='Input')\n",
    "\n",
    "    # initial layers\n",
    "    x = Conv2D(64, (7, 7), strides=2, padding='same',kernel_initializer=HeNormal())(input_layer)\n",
    "    x = BatchNormalization()(x)\n",
    "    x = ReLU()(x)\n",
    "    x = tfkl.MaxPooling2D((3, 3), strides=2, padding='same')(x)\n",
    "\n",
    "    # define the structure for ResNet-50\n",
    "    # each tupla (n, filters, stride) rappresents n blocks, each one with specific `filters` and `stride`\n",
    "\n",
    "    if layers == 50:\n",
    "        block_specs = [(3, 64, 1), (4, 128, 2), (6, 256, 2), (3, 512, 2)]\n",
    "    elif layers == 101:\n",
    "        block_specs = [(3, 64, 1), (4, 128, 2), (23, 256, 2), (3, 512, 2)]\n",
    "    elif layers == 152:\n",
    "        block_specs = [(3, 64, 1), (8, 128, 2), (36, 256, 2), (3, 512, 2)]\n",
    "    else:\n",
    "      raise ValueError(\"layers must 50, 101 or 152\")\n",
    "\n",
    "    # create the levels of ResNet-50\n",
    "    for n_blocks, filters, stride in block_specs:\n",
    "        for i in range(n_blocks):\n",
    "            x = bottleneck_block(x, filters, stride if i == 0 else 1, se = se)\n",
    "            if dropout:\n",
    "              x = tf.keras.layers.SpatialDropout2D(0.1)(x)\n",
    "\n",
    "    # final pooling finale and classification layer\n",
    "    x = GlobalAveragePooling2D()(x)\n",
    "\n",
    "\n",
    "    # Add the output layer\n",
    "    output_layer = tfkl.Dense(output_shape, activation='softmax', name='Output',kernel_initializer=GlorotUniform())(x)\n",
    "    model_name = f\"ResNet{layers}\" + (\"_SE\" if se else \"\")\n",
    "    # Create the model\n",
    "    model = Model(inputs=input_layer, outputs=output_layer, name=model_name)\n",
    "\n",
    "    # Compile the model\n",
    "    loss = tf.keras.losses.CategoricalCrossentropy(label_smoothing=0.1)  # Smoothing to prevent overfitting\n",
    "    optimizer = tf.keras.optimizers.AdamW(learning_rate)\n",
    "    #optimizer = SGD(learning_rate=learning_rate, momentum=0.9, nesterov=False) to train as suggested in the original paper with lr= 0.1 with decay of 90% every 30 epochs\n",
    "    metrics=[tf.keras.metrics.CategoricalAccuracy()]\n",
    "    model.compile(loss=loss, optimizer=optimizer, metrics=metrics)\n",
    "\n",
    "    # Return the compiled model\n",
    "    return model\n"
   ]
  },
  {
   "cell_type": "code",
   "execution_count": null,
   "metadata": {
    "id": "0iu20bLEPVwf"
   },
   "outputs": [],
   "source": [
    "# Build the model with specified input and output shapes\n",
    "model = build_resnet(layers = 50, se = True, dropout= True, learning_rate = 0.0001)\n",
    "\n",
    "# Display a summary of the model architecture\n",
    "model.summary(expand_nested=True, show_trainable=True)"
   ]
  },
  {
   "cell_type": "code",
   "execution_count": null,
   "metadata": {
    "id": "4UE5RJsNREZe"
   },
   "outputs": [],
   "source": [
    "history = model.fit(\n",
    "    train_ds,\n",
    "    batch_size=batch_size,\n",
    "    epochs=epochs,\n",
    "    validation_data=val_ds,\n",
    "    callbacks=callbacks,\n",
    "    class_weight=normalized_class_weights\n",
    ").history\n",
    "\n",
    "# Calculate and print the final validation accuracy\n",
    "final_val_accuracy = round(max(history['val_categorical_accuracy'])* 100, 2)\n",
    "print(f'Final validation accuracy: {final_val_accuracy}%')\n",
    "\n",
    "# Save the trained model to a file with the accuracy included in the filename\n",
    "model_filename = 'Resnet'+str(final_val_accuracy)+'.keras' #change this name based on the model\n",
    "model.save(model_filename)\n",
    "\n",
    "del model"
   ]
  },
  {
   "cell_type": "markdown",
   "metadata": {
    "id": "nhIvbYJUCPqY"
   },
   "source": [
    "THE MODEL WAS TRAINED ON KAGGLE SO I COPIED ALL THE OUTPUT OF THE NOTEBOOK OF TRAINING AND EVALUATION BELOW\n"
   ]
  },
  {
   "cell_type": "code",
   "execution_count": null,
   "metadata": {
    "id": "TtzixQ7043TB"
   },
   "outputs": [],
   "source": [
    "\n",
    "Epoch 1/100\n",
    "598/598 ━━━━━━━━━━━━━━━━━━━━ 208s 302ms/step - categorical_accuracy: 0.1211 - loss: 2.1407 - top_k_categorical_accuracy: 0.6493 - val_categorical_accuracy: 0.1384 - val_loss: 2.0668 - val_top_k_categorical_accuracy: 0.7788\n",
    "Epoch 2/100\n",
    "598/598 ━━━━━━━━━━━━━━━━━━━━ 151s 216ms/step - categorical_accuracy: 0.1273 - loss: 1.9299 - top_k_categorical_accuracy: 0.6335 - val_categorical_accuracy: 0.1853 - val_loss: 2.0715 - val_top_k_categorical_accuracy: 0.6792\n",
    "Epoch 3/100\n",
    "598/598 ━━━━━━━━━━━━━━━━━━━━ 117s 193ms/step - categorical_accuracy: 0.1215 - loss: 1.8779 - top_k_categorical_accuracy: 0.6359 - val_categorical_accuracy: 0.1585 - val_loss: 2.0723 - val_top_k_categorical_accuracy: 0.6692\n",
    "Epoch 4/100\n",
    "598/598 ━━━━━━━━━━━━━━━━━━━━ 119s 196ms/step - categorical_accuracy: 0.1357 - loss: 1.8310 - top_k_categorical_accuracy: 0.6715 - val_categorical_accuracy: 0.2212 - val_loss: 1.8513 - val_top_k_categorical_accuracy: 0.9544\n",
    "Epoch 5/100\n",
    "598/598 ━━━━━━━━━━━━━━━━━━━━ 154s 255ms/step - categorical_accuracy: 0.1624 - loss: 1.8041 - top_k_categorical_accuracy: 0.6990 - val_categorical_accuracy: 0.2087 - val_loss: 1.8377 - val_top_k_categorical_accuracy: 0.9519\n",
    "Epoch 6/100\n",
    "598/598 ━━━━━━━━━━━━━━━━━━━━ 154s 254ms/step - categorical_accuracy: 0.1711 - loss: 1.7739 - top_k_categorical_accuracy: 0.7286 - val_categorical_accuracy: 0.1748 - val_loss: 1.8483 - val_top_k_categorical_accuracy: 0.9649\n",
    "Epoch 7/100\n",
    "598/598 ━━━━━━━━━━━━━━━━━━━━ 116s 192ms/step - categorical_accuracy: 0.1775 - loss: 1.7583 - top_k_categorical_accuracy: 0.7376 - val_categorical_accuracy: 0.0770 - val_loss: 2.1125 - val_top_k_categorical_accuracy: 0.7323\n",
    "Epoch 8/100\n",
    "598/598 ━━━━━━━━━━━━━━━━━━━━ 121s 199ms/step - categorical_accuracy: 0.1919 - loss: 1.7420 - top_k_categorical_accuracy: 0.7631 - val_categorical_accuracy: 0.2371 - val_loss: 1.8885 - val_top_k_categorical_accuracy: 0.8950\n",
    "Epoch 9/100\n",
    "598/598 ━━━━━━━━━━━━━━━━━━━━ 154s 255ms/step - categorical_accuracy: 0.2226 - loss: 1.7101 - top_k_categorical_accuracy: 0.7899 - val_categorical_accuracy: 0.1920 - val_loss: 1.9043 - val_top_k_categorical_accuracy: 0.8160\n",
    "Epoch 10/100\n",
    "598/598 ━━━━━━━━━━━━━━━━━━━━ 117s 192ms/step - categorical_accuracy: 0.2456 - loss: 1.7034 - top_k_categorical_accuracy: 0.7667 - val_categorical_accuracy: 0.2501 - val_loss: 1.9098 - val_top_k_categorical_accuracy: 0.7896\n",
    "Epoch 11/100\n",
    "598/598 ━━━━━━━━━━━━━━━━━━━━ 151s 250ms/step - categorical_accuracy: 0.2495 - loss: 1.6972 - top_k_categorical_accuracy: 0.7853 - val_categorical_accuracy: 0.4115 - val_loss: 1.7113 - val_top_k_categorical_accuracy: 0.9611\n",
    "Epoch 12/100\n",
    "598/598 ━━━━━━━━━━━━━━━━━━━━ 117s 193ms/step - categorical_accuracy: 0.2730 - loss: 1.6815 - top_k_categorical_accuracy: 0.7910 - val_categorical_accuracy: 0.2857 - val_loss: 1.7820 - val_top_k_categorical_accuracy: 0.9469\n",
    "Epoch 13/100\n",
    "598/598 ━━━━━━━━━━━━━━━━━━━━ 116s 191ms/step - categorical_accuracy: 0.2626 - loss: 1.6711 - top_k_categorical_accuracy: 0.7955 - val_categorical_accuracy: 0.4956 - val_loss: 1.5470 - val_top_k_categorical_accuracy: 0.9875\n",
    "Epoch 14/100\n",
    "598/598 ━━━━━━━━━━━━━━━━━━━━ 116s 191ms/step - categorical_accuracy: 0.2835 - loss: 1.6600 - top_k_categorical_accuracy: 0.8068 - val_categorical_accuracy: 0.4626 - val_loss: 1.5661 - val_top_k_categorical_accuracy: 0.9695\n",
    "Epoch 15/100\n",
    "598/598 ━━━━━━━━━━━━━━━━━━━━ 118s 196ms/step - categorical_accuracy: 0.2806 - loss: 1.6553 - top_k_categorical_accuracy: 0.8053 - val_categorical_accuracy: 0.5169 - val_loss: 1.5222 - val_top_k_categorical_accuracy: 0.9816\n",
    "Epoch 16/100\n",
    "598/598 ━━━━━━━━━━━━━━━━━━━━ 154s 255ms/step - categorical_accuracy: 0.2949 - loss: 1.6267 - top_k_categorical_accuracy: 0.8260 - val_categorical_accuracy: 0.4078 - val_loss: 1.6437 - val_top_k_categorical_accuracy: 0.9506\n",
    "Epoch 17/100\n",
    "598/598 ━━━━━━━━━━━━━━━━━━━━ 150s 249ms/step - categorical_accuracy: 0.2975 - loss: 1.6387 - top_k_categorical_accuracy: 0.8106 - val_categorical_accuracy: 0.5082 - val_loss: 1.4556 - val_top_k_categorical_accuracy: 0.9916\n",
    "Epoch 18/100\n",
    "598/598 ━━━━━━━━━━━━━━━━━━━━ 154s 254ms/step - categorical_accuracy: 0.3153 - loss: 1.6223 - top_k_categorical_accuracy: 0.8236 - val_categorical_accuracy: 0.4454 - val_loss: 1.5796 - val_top_k_categorical_accuracy: 0.9770\n",
    "Epoch 19/100\n",
    "598/598 ━━━━━━━━━━━━━━━━━━━━ 151s 250ms/step - categorical_accuracy: 0.3152 - loss: 1.6145 - top_k_categorical_accuracy: 0.8252 - val_categorical_accuracy: 0.5274 - val_loss: 1.5109 - val_top_k_categorical_accuracy: 0.9774\n",
    "Epoch 20/100\n",
    "598/598 ━━━━━━━━━━━━━━━━━━━━ 154s 255ms/step - categorical_accuracy: 0.3298 - loss: 1.6246 - top_k_categorical_accuracy: 0.8092 - val_categorical_accuracy: 0.7449 - val_loss: 1.2690 - val_top_k_categorical_accuracy: 0.9958\n",
    "Epoch 21/100\n",
    "598/598 ━━━━━━━━━━━━━━━━━━━━ 117s 192ms/step - categorical_accuracy: 0.3402 - loss: 1.6095 - top_k_categorical_accuracy: 0.8133 - val_categorical_accuracy: 0.6303 - val_loss: 1.3818 - val_top_k_categorical_accuracy: 0.9900\n",
    "Epoch 22/100\n",
    "598/598 ━━━━━━━━━━━━━━━━━━━━ 154s 255ms/step - categorical_accuracy: 0.3459 - loss: 1.5956 - top_k_categorical_accuracy: 0.8194 - val_categorical_accuracy: 0.5701 - val_loss: 1.5085 - val_top_k_categorical_accuracy: 0.9624\n",
    "Epoch 23/100\n",
    "598/598 ━━━━━━━━━━━━━━━━━━━━ 120s 198ms/step - categorical_accuracy: 0.3639 - loss: 1.5783 - top_k_categorical_accuracy: 0.8311 - val_categorical_accuracy: 0.7407 - val_loss: 1.1849 - val_top_k_categorical_accuracy: 0.9929\n",
    "Epoch 24/100\n",
    "598/598 ━━━━━━━━━━━━━━━━━━━━ 116s 191ms/step - categorical_accuracy: 0.3724 - loss: 1.5650 - top_k_categorical_accuracy: 0.8293 - val_categorical_accuracy: 0.7403 - val_loss: 1.2136 - val_top_k_categorical_accuracy: 0.9916\n",
    "Epoch 25/100\n",
    "598/598 ━━━━━━━━━━━━━━━━━━━━ 116s 191ms/step - categorical_accuracy: 0.3650 - loss: 1.5686 - top_k_categorical_accuracy: 0.8365 - val_categorical_accuracy: 0.7566 - val_loss: 1.1195 - val_top_k_categorical_accuracy: 0.9979\n",
    "Epoch 26/100\n",
    "598/598 ━━━━━━━━━━━━━━━━━━━━ 116s 191ms/step - categorical_accuracy: 0.3772 - loss: 1.5620 - top_k_categorical_accuracy: 0.8313 - val_categorical_accuracy: 0.6420 - val_loss: 1.3723 - val_top_k_categorical_accuracy: 0.9808\n",
    "Epoch 27/100\n",
    "598/598 ━━━━━━━━━━━━━━━━━━━━ 116s 192ms/step - categorical_accuracy: 0.3763 - loss: 1.5656 - top_k_categorical_accuracy: 0.8317 - val_categorical_accuracy: 0.6880 - val_loss: 1.1796 - val_top_k_categorical_accuracy: 0.9895\n",
    "Epoch 28/100\n",
    "598/598 ━━━━━━━━━━━━━━━━━━━━ 151s 249ms/step - categorical_accuracy: 0.4039 - loss: 1.5284 - top_k_categorical_accuracy: 0.8415 - val_categorical_accuracy: 0.7992 - val_loss: 1.0060 - val_top_k_categorical_accuracy: 0.9958\n",
    "Epoch 29/100\n",
    "598/598 ━━━━━━━━━━━━━━━━━━━━ 120s 197ms/step - categorical_accuracy: 0.3985 - loss: 1.5380 - top_k_categorical_accuracy: 0.8341 - val_categorical_accuracy: 0.7909 - val_loss: 1.0665 - val_top_k_categorical_accuracy: 0.9941\n",
    "Epoch 30/100\n",
    "598/598 ━━━━━━━━━━━━━━━━━━━━ 116s 191ms/step - categorical_accuracy: 0.4128 - loss: 1.5068 - top_k_categorical_accuracy: 0.8475 - val_categorical_accuracy: 0.7616 - val_loss: 1.0932 - val_top_k_categorical_accuracy: 0.9937\n",
    "Epoch 31/100\n",
    "598/598 ━━━━━━━━━━━━━━━━━━━━ 150s 249ms/step - categorical_accuracy: 0.4183 - loss: 1.5124 - top_k_categorical_accuracy: 0.8472 - val_categorical_accuracy: 0.7913 - val_loss: 1.1275 - val_top_k_categorical_accuracy: 0.9941\n",
    "Epoch 32/100\n",
    "598/598 ━━━━━━━━━━━━━━━━━━━━ 120s 197ms/step - categorical_accuracy: 0.4133 - loss: 1.5153 - top_k_categorical_accuracy: 0.8394 - val_categorical_accuracy: 0.7900 - val_loss: 1.0160 - val_top_k_categorical_accuracy: 0.9979\n",
    "Epoch 33/100\n",
    "598/598 ━━━━━━━━━━━━━━━━━━━━ 119s 197ms/step - categorical_accuracy: 0.4219 - loss: 1.5099 - top_k_categorical_accuracy: 0.8473 - val_categorical_accuracy: 0.7562 - val_loss: 1.0963 - val_top_k_categorical_accuracy: 0.9921\n",
    "Epoch 34/100\n",
    "598/598 ━━━━━━━━━━━━━━━━━━━━ 119s 195ms/step - categorical_accuracy: 0.4239 - loss: 1.4985 - top_k_categorical_accuracy: 0.8497 - val_categorical_accuracy: 0.8373 - val_loss: 0.9081 - val_top_k_categorical_accuracy: 0.9987\n",
    "Epoch 35/100\n",
    "598/598 ━━━━━━━━━━━━━━━━━━━━ 150s 249ms/step - categorical_accuracy: 0.4283 - loss: 1.4892 - top_k_categorical_accuracy: 0.8538 - val_categorical_accuracy: 0.8398 - val_loss: 0.9222 - val_top_k_categorical_accuracy: 0.9946\n",
    "Epoch 36/100\n",
    "598/598 ━━━━━━━━━━━━━━━━━━━━ 120s 198ms/step - categorical_accuracy: 0.4349 - loss: 1.4936 - top_k_categorical_accuracy: 0.8455 - val_categorical_accuracy: 0.8532 - val_loss: 0.9098 - val_top_k_categorical_accuracy: 0.9987\n",
    "Epoch 37/100\n",
    "598/598 ━━━━━━━━━━━━━━━━━━━━ 154s 255ms/step - categorical_accuracy: 0.4415 - loss: 1.4839 - top_k_categorical_accuracy: 0.8518 - val_categorical_accuracy: 0.8176 - val_loss: 0.9594 - val_top_k_categorical_accuracy: 0.9967\n",
    "Epoch 38/100\n",
    "598/598 ━━━━━━━━━━━━━━━━━━━━ 116s 191ms/step - categorical_accuracy: 0.4456 - loss: 1.4920 - top_k_categorical_accuracy: 0.8502 - val_categorical_accuracy: 0.5997 - val_loss: 1.3800 - val_top_k_categorical_accuracy: 0.9569\n",
    "Epoch 39/100\n",
    "598/598 ━━━━━━━━━━━━━━━━━━━━ 151s 250ms/step - categorical_accuracy: 0.4560 - loss: 1.4839 - top_k_categorical_accuracy: 0.8496 - val_categorical_accuracy: 0.8532 - val_loss: 0.9327 - val_top_k_categorical_accuracy: 0.9975\n",
    "Epoch 40/100\n",
    "598/598 ━━━━━━━━━━━━━━━━━━━━ 154s 255ms/step - categorical_accuracy: 0.4485 - loss: 1.4653 - top_k_categorical_accuracy: 0.8481 - val_categorical_accuracy: 0.8678 - val_loss: 0.9634 - val_top_k_categorical_accuracy: 0.9929\n",
    "Epoch 41/100\n",
    "598/598 ━━━━━━━━━━━━━━━━━━━━ 151s 249ms/step - categorical_accuracy: 0.4591 - loss: 1.4568 - top_k_categorical_accuracy: 0.8578 - val_categorical_accuracy: 0.8628 - val_loss: 0.8767 - val_top_k_categorical_accuracy: 0.9992\n",
    "Epoch 42/100\n",
    "598/598 ━━━━━━━━━━━━━━━━━━━━ 151s 250ms/step - categorical_accuracy: 0.4564 - loss: 1.4613 - top_k_categorical_accuracy: 0.8560 - val_categorical_accuracy: 0.7445 - val_loss: 1.1217 - val_top_k_categorical_accuracy: 0.9812\n",
    "Epoch 43/100\n",
    "598/598 ━━━━━━━━━━━━━━━━━━━━ 119s 197ms/step - categorical_accuracy: 0.4616 - loss: 1.4435 - top_k_categorical_accuracy: 0.8634 - val_categorical_accuracy: 0.8557 - val_loss: 0.8980 - val_top_k_categorical_accuracy: 0.9946\n",
    "Epoch 44/100\n",
    "598/598 ━━━━━━━━━━━━━━━━━━━━ 154s 255ms/step - categorical_accuracy: 0.4554 - loss: 1.4691 - top_k_categorical_accuracy: 0.8504 - val_categorical_accuracy: 0.8135 - val_loss: 1.0174 - val_top_k_categorical_accuracy: 0.9983\n",
    "Epoch 45/100\n",
    "598/598 ━━━━━━━━━━━━━━━━━━━━ 116s 191ms/step - categorical_accuracy: 0.4647 - loss: 1.4556 - top_k_categorical_accuracy: 0.8524 - val_categorical_accuracy: 0.8628 - val_loss: 0.9155 - val_top_k_categorical_accuracy: 0.9992\n",
    "Epoch 46/100\n",
    "598/598 ━━━━━━━━━━━━━━━━━━━━ 116s 192ms/step - categorical_accuracy: 0.4729 - loss: 1.4490 - top_k_categorical_accuracy: 0.8573 - val_categorical_accuracy: 0.8954 - val_loss: 0.8683 - val_top_k_categorical_accuracy: 0.9950\n",
    "Epoch 47/100\n",
    "598/598 ━━━━━━━━━━━━━━━━━━━━ 119s 197ms/step - categorical_accuracy: 0.4877 - loss: 1.4336 - top_k_categorical_accuracy: 0.8493 - val_categorical_accuracy: 0.6558 - val_loss: 1.3458 - val_top_k_categorical_accuracy: 0.9728\n",
    "Epoch 48/100\n",
    "598/598 ━━━━━━━━━━━━━━━━━━━━ 119s 197ms/step - categorical_accuracy: 0.4763 - loss: 1.4449 - top_k_categorical_accuracy: 0.8615 - val_categorical_accuracy: 0.7369 - val_loss: 1.2256 - val_top_k_categorical_accuracy: 0.9829\n",
    "Epoch 49/100\n",
    "598/598 ━━━━━━━━━━━━━━━━━━━━ 116s 191ms/step - categorical_accuracy: 0.4718 - loss: 1.4447 - top_k_categorical_accuracy: 0.8620 - val_categorical_accuracy: 0.9138 - val_loss: 0.8296 - val_top_k_categorical_accuracy: 1.0000\n",
    "Epoch 50/100\n",
    "598/598 ━━━━━━━━━━━━━━━━━━━━ 150s 249ms/step - categorical_accuracy: 0.4770 - loss: 1.4388 - top_k_categorical_accuracy: 0.8544 - val_categorical_accuracy: 0.8804 - val_loss: 0.8470 - val_top_k_categorical_accuracy: 0.9996\n",
    "Epoch 51/100\n",
    "598/598 ━━━━━━━━━━━━━━━━━━━━ 120s 198ms/step - categorical_accuracy: 0.4851 - loss: 1.4278 - top_k_categorical_accuracy: 0.8612 - val_categorical_accuracy: 0.9147 - val_loss: 0.8591 - val_top_k_categorical_accuracy: 1.0000\n",
    "Epoch 52/100\n",
    "598/598 ━━━━━━━━━━━━━━━━━━━━ 118s 196ms/step - categorical_accuracy: 0.4812 - loss: 1.4431 - top_k_categorical_accuracy: 0.8505 - val_categorical_accuracy: 0.8720 - val_loss: 0.9630 - val_top_k_categorical_accuracy: 0.9950\n",
    "Epoch 53/100\n",
    "598/598 ━━━━━━━━━━━━━━━━━━━━ 116s 191ms/step - categorical_accuracy: 0.4852 - loss: 1.4149 - top_k_categorical_accuracy: 0.8566 - val_categorical_accuracy: 0.8904 - val_loss: 0.8727 - val_top_k_categorical_accuracy: 0.9996\n",
    "Epoch 54/100\n",
    "598/598 ━━━━━━━━━━━━━━━━━━━━ 151s 250ms/step - categorical_accuracy: 0.4951 - loss: 1.4202 - top_k_categorical_accuracy: 0.8644 - val_categorical_accuracy: 0.9017 - val_loss: 0.8370 - val_top_k_categorical_accuracy: 0.9971\n",
    "Epoch 55/100\n",
    "598/598 ━━━━━━━━━━━━━━━━━━━━ 150s 249ms/step - categorical_accuracy: 0.4890 - loss: 1.4220 - top_k_categorical_accuracy: 0.8604 - val_categorical_accuracy: 0.8708 - val_loss: 0.8875 - val_top_k_categorical_accuracy: 0.9975\n",
    "Epoch 56/100\n",
    "598/598 ━━━━━━━━━━━━━━━━━━━━ 120s 198ms/step - categorical_accuracy: 0.4903 - loss: 1.4256 - top_k_categorical_accuracy: 0.8627 - val_categorical_accuracy: 0.9335 - val_loss: 0.8070 - val_top_k_categorical_accuracy: 0.9996\n",
    "Epoch 57/100\n",
    "598/598 ━━━━━━━━━━━━━━━━━━━━ 119s 197ms/step - categorical_accuracy: 0.4971 - loss: 1.4329 - top_k_categorical_accuracy: 0.8589 - val_categorical_accuracy: 0.9051 - val_loss: 0.8376 - val_top_k_categorical_accuracy: 0.9962\n",
    "Epoch 58/100\n",
    "598/598 ━━━━━━━━━━━━━━━━━━━━ 116s 191ms/step - categorical_accuracy: 0.5016 - loss: 1.4059 - top_k_categorical_accuracy: 0.8672 - val_categorical_accuracy: 0.9067 - val_loss: 0.8350 - val_top_k_categorical_accuracy: 0.9992\n",
    "Epoch 59/100\n",
    "598/598 ━━━━━━━━━━━━━━━━━━━━ 118s 196ms/step - categorical_accuracy: 0.4943 - loss: 1.4056 - top_k_categorical_accuracy: 0.8683 - val_categorical_accuracy: 0.7988 - val_loss: 1.0967 - val_top_k_categorical_accuracy: 0.9958\n",
    "Epoch 60/100\n",
    "598/598 ━━━━━━━━━━━━━━━━━━━━ 154s 254ms/step - categorical_accuracy: 0.4999 - loss: 1.4016 - top_k_categorical_accuracy: 0.8705 - val_categorical_accuracy: 0.8524 - val_loss: 0.9657 - val_top_k_categorical_accuracy: 0.9950\n",
    "Epoch 61/100\n",
    "598/598 ━━━━━━━━━━━━━━━━━━━━ 151s 249ms/step - categorical_accuracy: 0.4998 - loss: 1.3975 - top_k_categorical_accuracy: 0.8672 - val_categorical_accuracy: 0.8110 - val_loss: 1.0171 - val_top_k_categorical_accuracy: 0.9925\n",
    "Epoch 62/100\n",
    "598/598 ━━━━━━━━━━━━━━━━━━━━ 116s 192ms/step - categorical_accuracy: 0.5022 - loss: 1.4032 - top_k_categorical_accuracy: 0.8709 - val_categorical_accuracy: 0.9260 - val_loss: 0.8140 - val_top_k_categorical_accuracy: 0.9987\n",
    "Epoch 63/100\n",
    "598/598 ━━━━━━━━━━━━━━━━━━━━ 151s 249ms/step - categorical_accuracy: 0.5118 - loss: 1.4006 - top_k_categorical_accuracy: 0.8623 - val_categorical_accuracy: 0.8745 - val_loss: 0.8939 - val_top_k_categorical_accuracy: 0.9950\n",
    "Epoch 64/100\n",
    "598/598 ━━━━━━━━━━━━━━━━━━━━ 118s 193ms/step - categorical_accuracy: 0.5113 - loss: 1.4032 - top_k_categorical_accuracy: 0.8712 - val_categorical_accuracy: 0.8808 - val_loss: 0.8878 - val_top_k_categorical_accuracy: 0.9979\n",
    "Epoch 65/100\n",
    "598/598 ━━━━━━━━━━━━━━━━━━━━ 119s 197ms/step - categorical_accuracy: 0.5159 - loss: 1.3828 - top_k_categorical_accuracy: 0.8698 - val_categorical_accuracy: 0.9523 - val_loss: 0.7232 - val_top_k_categorical_accuracy: 0.9996\n",
    "Epoch 66/100\n",
    "598/598 ━━━━━━━━━━━━━━━━━━━━ 152s 249ms/step - categorical_accuracy: 0.5167 - loss: 1.3907 - top_k_categorical_accuracy: 0.8766 - val_categorical_accuracy: 0.8921 - val_loss: 0.8990 - val_top_k_categorical_accuracy: 1.0000\n",
    "Epoch 67/100\n",
    "598/598 ━━━━━━━━━━━━━━━━━━━━ 151s 250ms/step - categorical_accuracy: 0.5207 - loss: 1.3885 - top_k_categorical_accuracy: 0.8761 - val_categorical_accuracy: 0.9210 - val_loss: 0.8175 - val_top_k_categorical_accuracy: 1.0000\n",
    "Epoch 68/100\n",
    "598/598 ━━━━━━━━━━━━━━━━━━━━ 115s 191ms/step - categorical_accuracy: 0.5131 - loss: 1.3810 - top_k_categorical_accuracy: 0.8779 - val_categorical_accuracy: 0.7884 - val_loss: 1.0717 - val_top_k_categorical_accuracy: 0.9941\n",
    "Epoch 69/100\n",
    "598/598 ━━━━━━━━━━━━━━━━━━━━ 154s 255ms/step - categorical_accuracy: 0.5142 - loss: 1.3929 - top_k_categorical_accuracy: 0.8677 - val_categorical_accuracy: 0.9444 - val_loss: 0.8232 - val_top_k_categorical_accuracy: 0.9996\n",
    "Epoch 70/100\n",
    "598/598 ━━━━━━━━━━━━━━━━━━━━ 151s 250ms/step - categorical_accuracy: 0.5212 - loss: 1.3856 - top_k_categorical_accuracy: 0.8780 - val_categorical_accuracy: 0.9448 - val_loss: 0.7735 - val_top_k_categorical_accuracy: 0.9987\n",
    "Epoch 71/100\n",
    "598/598 ━━━━━━━━━━━━━━━━━━━━ 117s 192ms/step - categorical_accuracy: 0.5297 - loss: 1.3764 - top_k_categorical_accuracy: 0.8706 - val_categorical_accuracy: 0.8791 - val_loss: 0.8747 - val_top_k_categorical_accuracy: 0.9958\n",
    "Epoch 72/100\n",
    "598/598 ━━━━━━━━━━━━━━━━━━━━ 151s 249ms/step - categorical_accuracy: 0.5225 - loss: 1.3786 - top_k_categorical_accuracy: 0.8752 - val_categorical_accuracy: 0.9260 - val_loss: 0.8246 - val_top_k_categorical_accuracy: 0.9992\n",
    "Epoch 73/100\n",
    "598/598 ━━━━━━━━━━━━━━━━━━━━ 117s 192ms/step - categorical_accuracy: 0.5166 - loss: 1.3877 - top_k_categorical_accuracy: 0.8749 - val_categorical_accuracy: 0.9118 - val_loss: 0.8211 - val_top_k_categorical_accuracy: 0.9996\n",
    "Epoch 74/100\n",
    "598/598 ━━━━━━━━━━━━━━━━━━━━ 154s 255ms/step - categorical_accuracy: 0.5297 - loss: 1.3663 - top_k_categorical_accuracy: 0.8714 - val_categorical_accuracy: 0.8214 - val_loss: 0.9948 - val_top_k_categorical_accuracy: 0.9946\n",
    "Epoch 75/100\n",
    "598/598 ━━━━━━━━━━━━━━━━━━━━ 154s 254ms/step - categorical_accuracy: 0.5195 - loss: 1.3770 - top_k_categorical_accuracy: 0.8768 - val_categorical_accuracy: 0.9373 - val_loss: 0.7927 - val_top_k_categorical_accuracy: 1.0000\n",
    "Epoch 76/100\n",
    "598/598 ━━━━━━━━━━━━━━━━━━━━ 116s 191ms/step - categorical_accuracy: 0.5268 - loss: 1.3787 - top_k_categorical_accuracy: 0.8682 - val_categorical_accuracy: 0.9502 - val_loss: 0.7362 - val_top_k_categorical_accuracy: 0.9996\n",
    "Epoch 77/100\n",
    "598/598 ━━━━━━━━━━━━━━━━━━━━ 119s 197ms/step - categorical_accuracy: 0.5211 - loss: 1.3716 - top_k_categorical_accuracy: 0.8769 - val_categorical_accuracy: 0.9402 - val_loss: 0.7874 - val_top_k_categorical_accuracy: 1.0000\n",
    "Epoch 78/100\n",
    "598/598 ━━━━━━━━━━━━━━━━━━━━ 154s 255ms/step - categorical_accuracy: 0.5252 - loss: 1.3680 - top_k_categorical_accuracy: 0.8860 - val_categorical_accuracy: 0.9406 - val_loss: 0.7753 - val_top_k_categorical_accuracy: 1.0000\n",
    "Epoch 79/100\n",
    "598/598 ━━━━━━━━━━━━━━━━━━━━ 119s 197ms/step - categorical_accuracy: 0.5445 - loss: 1.3515 - top_k_categorical_accuracy: 0.8760 - val_categorical_accuracy: 0.9101 - val_loss: 0.8376 - val_top_k_categorical_accuracy: 0.9992\n",
    "Epoch 80/100\n",
    "598/598 ━━━━━━━━━━━━━━━━━━━━ 116s 192ms/step - categorical_accuracy: 0.5300 - loss: 1.3645 - top_k_categorical_accuracy: 0.8808 - val_categorical_accuracy: 0.9444 - val_loss: 0.7821 - val_top_k_categorical_accuracy: 1.0000\n",
    "Final validation accuracy: 95.23%"
   ]
  },
  {
   "cell_type": "code",
   "execution_count": null,
   "metadata": {
    "id": "M1cm7oxGPCJo"
   },
   "outputs": [],
   "source": [
    "# Plot training and validation loss\n",
    "plt.figure(figsize=(15, 2))\n",
    "plt.plot(history['loss'], label='Training loss', alpha=.8)\n",
    "plt.plot(history['val_loss'], label='Validation loss', alpha=.8)\n",
    "plt.title('Loss')\n",
    "plt.legend()\n",
    "plt.grid(alpha=.3)\n",
    "\n",
    "# Plot training and validation accuracy\n",
    "plt.figure(figsize=(15, 2))\n",
    "plt.plot(history['categorical_accuracy'], label='Training categorical_accuracy', alpha=.8)\n",
    "plt.plot(history['val_categorical_accuracy'], label='Validation categotical accuracy', alpha=.8)\n",
    "plt.title('Accuracy')\n",
    "plt.legend()\n",
    "plt.grid(alpha=.3)\n",
    "plt.show()"
   ]
  },
  {
   "cell_type": "markdown",
   "metadata": {
    "id": "j511ZQSn6nZq"
   },
   "source": [
    "![Immagine 2024-11-24 170427.png](data:image/png;base64,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)"
   ]
  },
  {
   "cell_type": "markdown",
   "metadata": {
    "id": "0x1fYVUJCUW5"
   },
   "source": [
    "![Immagine 2024-11-24 221352.png](data:image/png;base64,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)"
   ]
  },
  {
   "cell_type": "markdown",
   "metadata": {
    "id": "ep_phWKQxj2z"
   },
   "source": [
    "### ConVeXNetBase"
   ]
  },
  {
   "cell_type": "code",
   "execution_count": null,
   "metadata": {
    "id": "1MbgT0kXxwAE"
   },
   "outputs": [],
   "source": [
    "# Train the model with early stopping callback\n",
    "#model.fit(augmented_data['images'], augmented_data['labels'], epochs=10, batch_size=32)\n",
    "history = model.fit(\n",
    "    train_ds,\n",
    "    batch_size=batch_size,\n",
    "    epochs=epochs,\n",
    "    validation_data=val_ds,\n",
    "    callbacks=callbacks,\n",
    "    class_weight=normalized_class_weights\n",
    ").history\n",
    "\n",
    "# Calculate and print the final validation accuracy\n",
    "final_val_accuracy = round(max(history['val_categorical_accuracy'])* 100, 2)\n",
    "print(f'Final validation accuracy: {final_val_accuracy}%')\n",
    "\n",
    "# Save the trained model to a file with the accuracy included in the filename\n",
    "model_filename = 'ConvNextBase_'+str(final_val_accuracy)+'.keras' #change this name based on the model\n",
    "model.save(model_filename)\n",
    "\n",
    "del model"
   ]
  },
  {
   "cell_type": "code",
   "execution_count": null,
   "metadata": {
    "id": "530n4Ewy7kXt"
   },
   "outputs": [],
   "source": [
    "Epoch 1/200\n",
    "299/299 ━━━━━━━━━━━━━━━━━━━━ 443s 1s/step - categorical_accuracy: 0.2596 - loss: 1.6929 - top_k_categorical_accuracy: 0.7659 - val_categorical_accuracy: 0.8361 - val_loss: 0.9782 - val_top_k_categorical_accuracy: 0.9967\n",
    "Epoch 2/200\n",
    "299/299 ━━━━━━━━━━━━━━━━━━━━ 399s 1s/step - categorical_accuracy: 0.4776 - loss: 1.4635 - top_k_categorical_accuracy: 0.8634 - val_categorical_accuracy: 0.8988 - val_loss: 0.9017 - val_top_k_categorical_accuracy: 0.9992\n",
    "Epoch 3/200\n",
    "299/299 ━━━━━━━━━━━━━━━━━━━━ 386s 1s/step - categorical_accuracy: 0.5173 - loss: 1.4116 - top_k_categorical_accuracy: 0.8714 - val_categorical_accuracy: 0.9456 - val_loss: 0.8306 - val_top_k_categorical_accuracy: 0.9992\n",
    "Epoch 4/200\n",
    "299/299 ━━━━━━━━━━━━━━━━━━━━ 387s 1s/step - categorical_accuracy: 0.5349 - loss: 1.3692 - top_k_categorical_accuracy: 0.8872 - val_categorical_accuracy: 0.9582 - val_loss: 0.7759 - val_top_k_categorical_accuracy: 0.9996\n",
    "Epoch 5/200\n",
    "299/299 ━━━━━━━━━━━━━━━━━━━━ 388s 1s/step - categorical_accuracy: 0.5529 - loss: 1.3402 - top_k_categorical_accuracy: 0.8869 - val_categorical_accuracy: 0.9540 - val_loss: 0.8419 - val_top_k_categorical_accuracy: 0.9987\n",
    "Epoch 6/200\n",
    "299/299 ━━━━━━━━━━━━━━━━━━━━ 386s 1s/step - categorical_accuracy: 0.5605 - loss: 1.3271 - top_k_categorical_accuracy: 0.8945 - val_categorical_accuracy: 0.9645 - val_loss: 0.7825 - val_top_k_categorical_accuracy: 0.9996\n",
    "Epoch 7/200\n",
    "299/299 ━━━━━━━━━━━━━━━━━━━━ 387s 1s/step - categorical_accuracy: 0.5699 - loss: 1.3262 - top_k_categorical_accuracy: 0.8944 - val_categorical_accuracy: 0.9678 - val_loss: 0.7362 - val_top_k_categorical_accuracy: 1.0000\n",
    "Epoch 8/200\n",
    "299/299 ━━━━━━━━━━━━━━━━━━━━ 387s 1s/step - categorical_accuracy: 0.5761 - loss: 1.3008 - top_k_categorical_accuracy: 0.9036 - val_categorical_accuracy: 0.9552 - val_loss: 0.8136 - val_top_k_categorical_accuracy: 1.0000\n",
    "Epoch 9/200\n",
    "299/299 ━━━━━━━━━━━━━━━━━━━━ 388s 1s/step - categorical_accuracy: 0.5869 - loss: 1.2483 - top_k_categorical_accuracy: 0.9188 - val_categorical_accuracy: 0.9628 - val_loss: 0.7436 - val_top_k_categorical_accuracy: 1.0000\n",
    "Epoch 10/200\n",
    "299/299 ━━━━━━━━━━━━━━━━━━━━ 388s 1s/step - categorical_accuracy: 0.5787 - loss: 1.2649 - top_k_categorical_accuracy: 0.9112 - val_categorical_accuracy: 0.9368 - val_loss: 0.8633 - val_top_k_categorical_accuracy: 1.0000\n",
    "Epoch 11/200\n",
    "299/299 ━━━━━━━━━━━━━━━━━━━━ 388s 1s/step - categorical_accuracy: 0.5797 - loss: 1.2521 - top_k_categorical_accuracy: 0.9161 - val_categorical_accuracy: 0.9720 - val_loss: 0.7766 - val_top_k_categorical_accuracy: 1.0000\n",
    "Epoch 12/200\n",
    "299/299 ━━━━━━━━━━━━━━━━━━━━ 388s 1s/step - categorical_accuracy: 0.5836 - loss: 1.2351 - top_k_categorical_accuracy: 0.9224 - val_categorical_accuracy: 0.9703 - val_loss: 0.8046 - val_top_k_categorical_accuracy: 1.0000\n",
    "Epoch 13/200\n",
    "299/299 ━━━━━━━━━━━━━━━━━━━━ 389s 1s/step - categorical_accuracy: 0.5977 - loss: 1.2197 - top_k_categorical_accuracy: 0.9204 - val_categorical_accuracy: 0.9649 - val_loss: 0.8261 - val_top_k_categorical_accuracy: 1.0000\n",
    "Epoch 14/200\n",
    "299/299 ━━━━━━━━━━━━━━━━━━━━ 386s 1s/step - categorical_accuracy: 0.5869 - loss: 1.2382 - top_k_categorical_accuracy: 0.9202 - val_categorical_accuracy: 0.9670 - val_loss: 0.8840 - val_top_k_categorical_accuracy: 1.0000\n",
    "Epoch 15/200\n",
    "299/299 ━━━━━━━━━━━━━━━━━━━━ 388s 1s/step - categorical_accuracy: 0.5886 - loss: 1.2298 - top_k_categorical_accuracy: 0.9122 - val_categorical_accuracy: 0.9741 - val_loss: 0.7747 - val_top_k_categorical_accuracy: 1.0000\n",
    "Epoch 16/200\n",
    "299/299 ━━━━━━━━━━━━━━━━━━━━ 386s 1s/step - categorical_accuracy: 0.5943 - loss: 1.1915 - top_k_categorical_accuracy: 0.9297 - val_categorical_accuracy: 0.9766 - val_loss: 0.8166 - val_top_k_categorical_accuracy: 1.0000\n",
    "Epoch 17/200\n",
    "299/299 ━━━━━━━━━━━━━━━━━━━━ 387s 1s/step - categorical_accuracy: 0.6013 - loss: 1.1978 - top_k_categorical_accuracy: 0.9208 - val_categorical_accuracy: 0.9820 - val_loss: 0.7823 - val_top_k_categorical_accuracy: 1.0000\n",
    "Epoch 18/200\n",
    "299/299 ━━━━━━━━━━━━━━━━━━━━ 387s 1s/step - categorical_accuracy: 0.6074 - loss: 1.1651 - top_k_categorical_accuracy: 0.9376 - val_categorical_accuracy: 0.9812 - val_loss: 0.7707 - val_top_k_categorical_accuracy: 1.0000\n",
    "Epoch 19/200\n",
    "299/299 ━━━━━━━━━━━━━━━━━━━━ 386s 1s/step - categorical_accuracy: 0.5956 - loss: 1.1622 - top_k_categorical_accuracy: 0.9413 - val_categorical_accuracy: 0.9787 - val_loss: 0.8297 - val_top_k_categorical_accuracy: 1.0000\n",
    "Epoch 20/200\n",
    "299/299 ━━━━━━━━━━━━━━━━━━━━ 389s 1s/step - categorical_accuracy: 0.5996 - loss: 1.1650 - top_k_categorical_accuracy: 0.9391 - val_categorical_accuracy: 0.9732 - val_loss: 0.8120 - val_top_k_categorical_accuracy: 1.0000\n",
    "Epoch 21/200\n",
    "299/299 ━━━━━━━━━━━━━━━━━━━━ 389s 1s/step - categorical_accuracy: 0.6089 - loss: 1.1644 - top_k_categorical_accuracy: 0.9282 - val_categorical_accuracy: 0.9795 - val_loss: 0.7885 - val_top_k_categorical_accuracy: 1.0000\n",
    "Epoch 22/200\n",
    "299/299 ━━━━━━━━━━━━━━━━━━━━ 389s 1s/step - categorical_accuracy: 0.5953 - loss: 1.1676 - top_k_categorical_accuracy: 0.9340 - val_categorical_accuracy: 0.9770 - val_loss: 0.8251 - val_top_k_categorical_accuracy: 0.9992\n",
    "Epoch 23/200\n",
    "299/299 ━━━━━━━━━━━━━━━━━━━━ 387s 1s/step - categorical_accuracy: 0.5999 - loss: 1.1835 - top_k_categorical_accuracy: 0.9263 - val_categorical_accuracy: 0.9787 - val_loss: 0.7582 - val_top_k_categorical_accuracy: 1.0000\n",
    "Epoch 24/200\n",
    "299/299 ━━━━━━━━━━━━━━━━━━━━ 387s 1s/step - categorical_accuracy: 0.6013 - loss: 1.1387 - top_k_categorical_accuracy: 0.9408 - val_categorical_accuracy: 0.9829 - val_loss: 0.7543 - val_top_k_categorical_accuracy: 1.0000\n",
    "Epoch 25/200\n",
    "299/299 ━━━━━━━━━━━━━━━━━━━━ 387s 1s/step - categorical_accuracy: 0.6052 - loss: 1.1509 - top_k_categorical_accuracy: 0.9314 - val_categorical_accuracy: 0.9795 - val_loss: 0.8114 - val_top_k_categorical_accuracy: 1.0000\n",
    "Epoch 26/200\n",
    "299/299 ━━━━━━━━━━━━━━━━━━━━ 387s 1s/step - categorical_accuracy: 0.5987 - loss: 1.1558 - top_k_categorical_accuracy: 0.9276 - val_categorical_accuracy: 0.9841 - val_loss: 0.7545 - val_top_k_categorical_accuracy: 1.0000\n",
    "Epoch 27/200\n",
    "299/299 ━━━━━━━━━━━━━━━━━━━━ 388s 1s/step - categorical_accuracy: 0.6054 - loss: 1.1475 - top_k_categorical_accuracy: 0.9321 - val_categorical_accuracy: 0.9849 - val_loss: 0.8143 - val_top_k_categorical_accuracy: 0.9996\n",
    "Epoch 28/200\n",
    "299/299 ━━━━━━━━━━━━━━━━━━━━ 388s 1s/step - categorical_accuracy: 0.6080 - loss: 1.1514 - top_k_categorical_accuracy: 0.9353 - val_categorical_accuracy: 0.9820 - val_loss: 0.7332 - val_top_k_categorical_accuracy: 1.0000\n",
    "Epoch 29/200\n",
    "299/299 ━━━━━━━━━━━━━━━━━━━━ 388s 1s/step - categorical_accuracy: 0.6102 - loss: 1.1565 - top_k_categorical_accuracy: 0.9327 - val_categorical_accuracy: 0.9837 - val_loss: 0.7181 - val_top_k_categorical_accuracy: 1.0000\n",
    "Epoch 30/200\n",
    "299/299 ━━━━━━━━━━━━━━━━━━━━ 388s 1s/step - categorical_accuracy: 0.6057 - loss: 1.1241 - top_k_categorical_accuracy: 0.9421 - val_categorical_accuracy: 0.9820 - val_loss: 0.7910 - val_top_k_categorical_accuracy: 1.0000\n",
    "Epoch 31/200\n",
    "299/299 ━━━━━━━━━━━━━━━━━━━━ 387s 1s/step - categorical_accuracy: 0.6112 - loss: 1.1297 - top_k_categorical_accuracy: 0.9365 - val_categorical_accuracy: 0.9845 - val_loss: 0.7775 - val_top_k_categorical_accuracy: 1.0000\n",
    "Epoch 32/200\n",
    "299/299 ━━━━━━━━━━━━━━━━━━━━ 389s 1s/step - categorical_accuracy: 0.6136 - loss: 1.1196 - top_k_categorical_accuracy: 0.9373 - val_categorical_accuracy: 0.9866 - val_loss: 0.8029 - val_top_k_categorical_accuracy: 1.0000\n",
    "Epoch 33/200\n",
    "299/299 ━━━━━━━━━━━━━━━━━━━━ 390s 1s/step - categorical_accuracy: 0.6073 - loss: 1.1077 - top_k_categorical_accuracy: 0.9434 - val_categorical_accuracy: 0.9841 - val_loss: 0.8322 - val_top_k_categorical_accuracy: 1.0000\n",
    "Epoch 34/200\n",
    "299/299 ━━━━━━━━━━━━━━━━━━━━ 390s 1s/step - categorical_accuracy: 0.6165 - loss: 1.1087 - top_k_categorical_accuracy: 0.9431 - val_categorical_accuracy: 0.9837 - val_loss: 0.7632 - val_top_k_categorical_accuracy: 1.0000\n",
    "Epoch 35/200\n",
    "299/299 ━━━━━━━━━━━━━━━━━━━━ 390s 1s/step - categorical_accuracy: 0.6054 - loss: 1.1287 - top_k_categorical_accuracy: 0.9399 - val_categorical_accuracy: 0.9837 - val_loss: 0.7545 - val_top_k_categorical_accuracy: 1.0000\n",
    "Epoch 36/200\n",
    "299/299 ━━━━━━━━━━━━━━━━━━━━ 389s 1s/step - categorical_accuracy: 0.6150 - loss: 1.1125 - top_k_categorical_accuracy: 0.9361 - val_categorical_accuracy: 0.9845 - val_loss: 0.7776 - val_top_k_categorical_accuracy: 1.0000\n",
    "Epoch 37/200\n",
    "299/299 ━━━━━━━━━━━━━━━━━━━━ 388s 1s/step - categorical_accuracy: 0.6117 - loss: 1.1001 - top_k_categorical_accuracy: 0.9439 - val_categorical_accuracy: 0.9841 - val_loss: 0.8056 - val_top_k_categorical_accuracy: 1.0000\n",
    "Epoch 38/200\n",
    "299/299 ━━━━━━━━━━━━━━━━━━━━ 389s 1s/step - categorical_accuracy: 0.6042 - loss: 1.1124 - top_k_categorical_accuracy: 0.9416 - val_categorical_accuracy: 0.9837 - val_loss: 0.7680 - val_top_k_categorical_accuracy: 1.0000\n",
    "Epoch 39/200\n",
    "299/299 ━━━━━━━━━━━━━━━━━━━━ 389s 1s/step - categorical_accuracy: 0.6202 - loss: 1.0990 - top_k_categorical_accuracy: 0.9422 - val_categorical_accuracy: 0.9824 - val_loss: 0.7410 - val_top_k_categorical_accuracy: 1.0000\n",
    "Epoch 40/200\n",
    "299/299 ━━━━━━━━━━━━━━━━━━━━ 388s 1s/step - categorical_accuracy: 0.6075 - loss: 1.1132 - top_k_categorical_accuracy: 0.9442 - val_categorical_accuracy: 0.9820 - val_loss: 0.8222 - val_top_k_categorical_accuracy: 1.0000\n",
    "Epoch 41/200\n",
    "299/299 ━━━━━━━━━━━━━━━━━━━━ 389s 1s/step - categorical_accuracy: 0.6127 - loss: 1.0966 - top_k_categorical_accuracy: 0.9479 - val_categorical_accuracy: 0.9841 - val_loss: 0.7620 - val_top_k_categorical_accuracy: 1.0000\n",
    "Epoch 42/200\n",
    "299/299 ━━━━━━━━━━━━━━━━━━━━ 413s 1s/step - categorical_accuracy: 0.6175 - loss: 1.0821 - top_k_categorical_accuracy: 0.9465 - val_categorical_accuracy: 0.9837 - val_loss: 0.7891 - val_top_k_categorical_accuracy: 0.9996\n",
    "Epoch 43/200\n",
    "299/299 ━━━━━━━━━━━━━━━━━━━━ 388s 1s/step - categorical_accuracy: 0.6126 - loss: 1.1088 - top_k_categorical_accuracy: 0.9412 - val_categorical_accuracy: 0.9816 - val_loss: 0.7796 - val_top_k_categorical_accuracy: 1.0000\n",
    "Epoch 44/200\n",
    "299/299 ━━━━━━━━━━━━━━━━━━━━ 386s 1s/step - categorical_accuracy: 0.6040 - loss: 1.0882 - top_k_categorical_accuracy: 0.9437 - val_categorical_accuracy: 0.9854 - val_loss: 0.7997 - val_top_k_categorical_accuracy: 1.0000\n",
    "Epoch 45/200\n",
    "299/299 ━━━━━━━━━━━━━━━━━━━━ 387s 1s/step - categorical_accuracy: 0.6125 - loss: 1.0958 - top_k_categorical_accuracy: 0.9434 - val_categorical_accuracy: 0.9854 - val_loss: 0.7580 - val_top_k_categorical_accuracy: 1.0000\n",
    "Epoch 46/200\n",
    "299/299 ━━━━━━━━━━━━━━━━━━━━ 389s 1s/step - categorical_accuracy: 0.6110 - loss: 1.0849 - top_k_categorical_accuracy: 0.9478 - val_categorical_accuracy: 0.9837 - val_loss: 0.8055 - val_top_k_categorical_accuracy: 1.0000\n",
    "Epoch 47/200\n",
    "299/299 ━━━━━━━━━━━━━━━━━━━━ 389s 1s/step - categorical_accuracy: 0.6097 - loss: 1.0891 - top_k_categorical_accuracy: 0.9433 - val_categorical_accuracy: 0.9887 - val_loss: 0.7836 - val_top_k_categorical_accuracy: 1.0000\n",
    "Epoch 48/200\n",
    "299/299 ━━━━━━━━━━━━━━━━━━━━ 387s 1s/step - categorical_accuracy: 0.6217 - loss: 1.0820 - top_k_categorical_accuracy: 0.9410 - val_categorical_accuracy: 0.9841 - val_loss: 0.8155 - val_top_k_categorical_accuracy: 0.9996\n",
    "Epoch 49/200\n",
    "299/299 ━━━━━━━━━━━━━━━━━━━━ 389s 1s/step - categorical_accuracy: 0.6175 - loss: 1.0888 - top_k_categorical_accuracy: 0.9407 - val_categorical_accuracy: 0.9849 - val_loss: 0.7545 - val_top_k_categorical_accuracy: 1.0000\n",
    "Epoch 50/200\n",
    "299/299 ━━━━━━━━━━━━━━━━━━━━ 387s 1s/step - categorical_accuracy: 0.6174 - loss: 1.1039 - top_k_categorical_accuracy: 0.9368 - val_categorical_accuracy: 0.9833 - val_loss: 0.7760 - val_top_k_categorical_accuracy: 0.9996\n",
    "Epoch 51/200\n",
    "299/299 ━━━━━━━━━━━━━━━━━━━━ 388s 1s/step - categorical_accuracy: 0.6081 - loss: 1.1033 - top_k_categorical_accuracy: 0.9435 - val_categorical_accuracy: 0.9849 - val_loss: 0.7843 - val_top_k_categorical_accuracy: 1.0000\n",
    "Epoch 52/200\n",
    "299/299 ━━━━━━━━━━━━━━━━━━━━ 388s 1s/step - categorical_accuracy: 0.6191 - loss: 1.0796 - top_k_categorical_accuracy: 0.9471 - val_categorical_accuracy: 0.9845 - val_loss: 0.7876 - val_top_k_categorical_accuracy: 1.0000\n",
    "Epoch 53/200\n",
    "299/299 ━━━━━━━━━━━━━━━━━━━━ 391s 1s/step - categorical_accuracy: 0.6055 - loss: 1.0802 - top_k_categorical_accuracy: 0.9520 - val_categorical_accuracy: 0.9803 - val_loss: 0.7823 - val_top_k_categorical_accuracy: 1.0000\n",
    "Epoch 54/200\n",
    "299/299 ━━━━━━━━━━━━━━━━━━━━ 388s 1s/step - categorical_accuracy: 0.6163 - loss: 1.0921 - top_k_categorical_accuracy: 0.9338 - val_categorical_accuracy: 0.9820 - val_loss: 0.7473 - val_top_k_categorical_accuracy: 1.0000\n",
    "Epoch 55/200\n",
    "299/299 ━━━━━━━━━━━━━━━━━━━━ 387s 1s/step - categorical_accuracy: 0.6160 - loss: 1.0907 - top_k_categorical_accuracy: 0.9385 - val_categorical_accuracy: 0.9849 - val_loss: 0.7566 - val_top_k_categorical_accuracy: 0.9996\n",
    "Epoch 56/200\n",
    "299/299 ━━━━━━━━━━━━━━━━━━━━ 388s 1s/step - categorical_accuracy: 0.6067 - loss: 1.0831 - top_k_categorical_accuracy: 0.9429 - val_categorical_accuracy: 0.9845 - val_loss: 0.7741 - val_top_k_categorical_accuracy: 1.0000\n",
    "Epoch 57/200\n",
    "299/299 ━━━━━━━━━━━━━━━━━━━━ 386s 1s/step - categorical_accuracy: 0.6195 - loss: 1.0816 - top_k_categorical_accuracy: 0.9378 - val_categorical_accuracy: 0.9845 - val_loss: 0.7887 - val_top_k_categorical_accuracy: 0.9996\n",
    "Epoch 58/200\n",
    "299/299 ━━━━━━━━━━━━━━━━━━━━ 390s 1s/step - categorical_accuracy: 0.6110 - loss: 1.0628 - top_k_categorical_accuracy: 0.9516 - val_categorical_accuracy: 0.9854 - val_loss: 0.7937 - val_top_k_categorical_accuracy: 0.9996\n",
    "Epoch 59/200\n",
    "299/299 ━━━━━━━━━━━━━━━━━━━━ 413s 1s/step - categorical_accuracy: 0.6233 - loss: 1.0660 - top_k_categorical_accuracy: 0.9450 - val_categorical_accuracy: 0.9858 - val_loss: 0.7672 - val_top_k_categorical_accuracy: 1.0000\n",
    "Epoch 60/200\n",
    "299/299 ━━━━━━━━━━━━━━━━━━━━ 387s 1s/step - categorical_accuracy: 0.6265 - loss: 1.0755 - top_k_categorical_accuracy: 0.9414 - val_categorical_accuracy: 0.9858 - val_loss: 0.7406 - val_top_k_categorical_accuracy: 1.0000\n",
    "Epoch 61/200\n",
    "299/299 ━━━━━━━━━━━━━━━━━━━━ 388s 1s/step - categorical_accuracy: 0.6091 - loss: 1.0698 - top_k_categorical_accuracy: 0.9480 - val_categorical_accuracy: 0.9866 - val_loss: 0.7804 - val_top_k_categorical_accuracy: 1.0000\n",
    "Epoch 62/200\n",
    "299/299 ━━━━━━━━━━━━━━━━━━━━ 390s 1s/step - categorical_accuracy: 0.6132 - loss: 1.0746 - top_k_categorical_accuracy: 0.9462 - val_categorical_accuracy: 0.9883 - val_loss: 0.7682 - val_top_k_categorical_accuracy: 1.0000\n",
    "Final validation accuracy: 98.87%"
   ]
  },
  {
   "cell_type": "code",
   "execution_count": null,
   "metadata": {
    "id": "Rhg_cuxs1RQy"
   },
   "outputs": [],
   "source": [
    "# Plot training and validation loss\n",
    "plt.figure(figsize=(15, 2))\n",
    "plt.plot(history['loss'], label='Training loss', alpha=.8)\n",
    "plt.plot(history['val_loss'], label='Validation loss', alpha=.8)\n",
    "plt.title('Loss')\n",
    "plt.legend()\n",
    "plt.grid(alpha=.3)\n",
    "\n",
    "# Plot training and validation accuracy\n",
    "plt.figure(figsize=(15, 2))\n",
    "plt.plot(history['categorical_accuracy'], label='Training categorical_accuracy', alpha=.8)\n",
    "plt.plot(history['val_categorical_accuracy'], label='Validation categotical accuracy', alpha=.8)\n",
    "plt.title('Accuracy')\n",
    "plt.legend()\n",
    "plt.grid(alpha=.3)\n",
    "plt.show()"
   ]
  },
  {
   "cell_type": "markdown",
   "metadata": {
    "id": "0H9cZrn67qi7"
   },
   "source": [
    "![__results___36_1-4.png](data:image/png;base64,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)![__results___36_0-4.png](data:image/png;base64,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)"
   ]
  },
  {
   "cell_type": "code",
   "execution_count": null,
   "metadata": {
    "id": "rlBTTztf9ww5"
   },
   "outputs": [],
   "source": [
    "model = keras.models.load_model(model_filename)\n",
    "#model=keras.models.load_model('ConvNextBase_98.87.keras')\n",
    "X_val = tf.image.resize(X_val, (224, 224))  # resize\n",
    "y_val = tfk.utils.to_categorical(y_val)\n",
    "predictions = model.predict(X_val, verbose=0)\n",
    "\n",
    "# Display the shape of the predictions\n",
    "print(\"Predictions Shape:\", predictions.shape)"
   ]
  },
  {
   "cell_type": "code",
   "execution_count": null,
   "metadata": {
    "id": "S-tKoVVa9VKG"
   },
   "outputs": [],
   "source": [
    "# Convert predictions to class labels\n",
    "pred_classes = np.argmax(predictions, axis=-1)\n",
    "\n",
    "# Extract ground truth classes\n",
    "true_classes = np.argmax(y_val, axis=-1)\n",
    "\n",
    "# Calculate and display test set accuracy\n",
    "accuracy = accuracy_score(true_classes, pred_classes)\n",
    "print(f'Accuracy score over the test set: {round(accuracy, 4)}')\n",
    "\n",
    "# Calculate and display test set precision\n",
    "precision = precision_score(true_classes, pred_classes, average='weighted')\n",
    "print(f'Precision score over the test set: {round(precision, 4)}')\n",
    "\n",
    "# Calculate and display test set recall\n",
    "recall = recall_score(true_classes, pred_classes, average='weighted')\n",
    "print(f'Recall score over the test set: {round(recall, 4)}')\n",
    "\n",
    "# Calculate and display test set F1 score\n",
    "f1 = f1_score(true_classes, pred_classes, average='weighted')\n",
    "print(f'F1 score over the test set: {round(f1, 4)}')\n",
    "\n",
    "# Compute the confusion matrix\n",
    "cm = confusion_matrix(true_classes, pred_classes)\n",
    "\n",
    "# Combine numbers and percentages into a single string for annotation\n",
    "annot = np.array([f\"{num}\" for num in cm.flatten()]).reshape(cm.shape)\n",
    "\n",
    "# Plot the confusion matrix\n",
    "plt.figure(figsize=(10, 8))\n",
    "sns.heatmap(cm.T, annot=annot, fmt='', xticklabels=labels, yticklabels=labels, cmap='Blues')\n",
    "plt.ylabel('True labels')\n",
    "plt.xlabel('Predicted labels')\n",
    "plt.show()"
   ]
  },
  {
   "cell_type": "code",
   "execution_count": null,
   "metadata": {
    "id": "XzD6Qhpu9B_0"
   },
   "outputs": [],
   "source": [
    "# i trained it on kaggle, so i report here the output that was print\n",
    "Accuracy score over the test set: 0.9887\n",
    "Precision score over the test set: 0.9888\n",
    "Recall score over the test set: 0.9887\n",
    "F1 score over the test set: 0.9887"
   ]
  },
  {
   "cell_type": "markdown",
   "metadata": {
    "id": "GqVd_-xE9RYs"
   },
   "source": [
    "![__results___38_1.png](data:image/png;base64,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)"
   ]
  },
  {
   "cell_type": "markdown",
   "metadata": {
    "id": "W3zNdBRPg98C"
   },
   "source": [
    "## 💭 Prediction"
   ]
  },
  {
   "cell_type": "markdown",
   "metadata": {
    "id": "ph63KHh7_lvA"
   },
   "source": [
    "these are only the prediction of the best model (Xception)"
   ]
  },
  {
   "cell_type": "code",
   "execution_count": null,
   "metadata": {
    "colab": {
     "base_uri": "https://localhost:8080/"
    },
    "executionInfo": {
     "elapsed": 3861826,
     "status": "ok",
     "timestamp": 1732294992463,
     "user": {
      "displayName": "Laura Moiana",
      "userId": "03513378093158623547"
     },
     "user_tz": -60
    },
    "id": "iYZahWbA_Xu8",
    "outputId": "709f11d6-4fd1-45a9-a320-f3bae9619a7d"
   },
   "outputs": [],
   "source": [
    "# upload the model\n",
    "# model = keras.models.load_model(model_filename)\n",
    "model = tfk.models.load_model('TL_Xception_99.12.keras')\n",
    "\n",
    "# make predictions\n",
    "X_val = tf.image.resize(X_val, (299, 299))  # resize\n",
    "X_val = X_val / 255.0  # normalizzazione\n",
    "y_val = tfk.utils.to_categorical(y_val) # trasformo y_val in one-hot encoding\n",
    "predictions = model.predict(X_val, verbose=0)\n",
    "\n",
    "# Display the shape of the predictions\n",
    "print(\"Predictions Shape:\", predictions.shape)"
   ]
  },
  {
   "cell_type": "code",
   "execution_count": null,
   "metadata": {
    "colab": {
     "base_uri": "https://localhost:8080/",
     "height": 782
    },
    "executionInfo": {
     "elapsed": 909,
     "status": "ok",
     "timestamp": 1732295015683,
     "user": {
      "displayName": "Laura Moiana",
      "userId": "03513378093158623547"
     },
     "user_tz": -60
    },
    "id": "3Rmy_DMl_aCp",
    "outputId": "66aa6f3c-0d7a-48cd-a123-1439a17707a7"
   },
   "outputs": [],
   "source": [
    "# convert predictions to class labels\n",
    "pred_classes = np.argmax(predictions, axis=-1)\n",
    "\n",
    "# extract ground truth classes\n",
    "true_classes = np.argmax(y_val, axis=-1)\n",
    "\n",
    "# calculate and display test set accuracy\n",
    "accuracy = accuracy_score(true_classes, pred_classes)\n",
    "print(f'Accuracy score over the test set: {round(accuracy, 4)}')\n",
    "\n",
    "# calculate and display test set precision\n",
    "precision = precision_score(true_classes, pred_classes, average='weighted')\n",
    "print(f'Precision score over the test set: {round(precision, 4)}')\n",
    "\n",
    "# calculate and display test set recall\n",
    "recall = recall_score(true_classes, pred_classes, average='weighted')\n",
    "print(f'Recall score over the test set: {round(recall, 4)}')\n",
    "\n",
    "# calculate and display test set F1 score\n",
    "f1 = f1_score(true_classes, pred_classes, average='weighted')\n",
    "print(f'F1 score over the test set: {round(f1, 4)}')\n",
    "\n",
    "# compute the confusion matrix\n",
    "cm = confusion_matrix(true_classes, pred_classes)\n",
    "\n",
    "# combine numbers and percentages into a single string for annotation\n",
    "annot = np.array([f\"{num}\" for num in cm.flatten()]).reshape(cm.shape)\n",
    "\n",
    "# plot the confusion matrix\n",
    "plt.figure(figsize=(10, 8))\n",
    "sns.heatmap(cm.T, annot=annot, fmt='', xticklabels=labels, yticklabels=labels, cmap='Blues')\n",
    "plt.ylabel('True labels')\n",
    "plt.xlabel('Predicted labels')\n",
    "plt.show()"
   ]
  },
  {
   "cell_type": "markdown",
   "metadata": {
    "id": "xNXEyTGiimOm"
   },
   "source": [
    "# Prepare the submission"
   ]
  },
  {
   "cell_type": "code",
   "execution_count": null,
   "metadata": {
    "id": "u8EZpJFNSrfD"
   },
   "outputs": [],
   "source": [
    "import shutil\n",
    "\n",
    "# Definisci il percorso del file nel tuo Google Drive\n",
    "drive_model_path = '/gdrive/MyDrive/[2024-2025] AN2DL/Homework 1/TL_Xception_99.12.keras'\n",
    "\n",
    "# Definisci il percorso di destinazione in /content mantenendo il nome originale\n",
    "content_model_path = '/content/TL_Xception_99.12.keras'\n",
    "\n",
    "# Copia il modello da Google Drive a /content\n",
    "shutil.copy(drive_model_path, content_model_path)\n",
    "\n",
    "print(\"Modello copiato con successo!\")"
   ]
  },
  {
   "cell_type": "code",
   "execution_count": null,
   "metadata": {
    "colab": {
     "base_uri": "https://localhost:8080/"
    },
    "executionInfo": {
     "elapsed": 8,
     "status": "ok",
     "timestamp": 1732057561408,
     "user": {
      "displayName": "Matteo Missana",
      "userId": "09393135550846459055"
     },
     "user_tz": -60
    },
    "id": "NsJxA7wn_hZ8",
    "outputId": "eba8636d-3138-41d8-98b8-6702b946410c"
   },
   "outputs": [],
   "source": [
    "%%writefile model.py\n",
    "import numpy as np\n",
    "\n",
    "import tensorflow as tf\n",
    "from tensorflow import keras as tfk\n",
    "from tensorflow.keras import layers as tfkl\n",
    "\n",
    "\n",
    "class Model:\n",
    "    def __init__(self):\n",
    "        \"\"\"\n",
    "        Initialize the internal state of the model. Note that the __init__\n",
    "        method cannot accept any arguments.\n",
    "        \"\"\"\n",
    "        self.neural_network = tfk.models.load_model('TL_Xception_99.12.keras') #insert here the name of your weights\n",
    "\n",
    "    def predict(self, X, batch_size=32):\n",
    "        \"\"\"\n",
    "        Predict the labels corresponding to the input X. Note that X is a numpy\n",
    "        array of shape (n_samples, 96, 96, 3) and the output should be a numpy\n",
    "        array of shape (n_samples,). Therefore, outputs must no be one-hot\n",
    "        encoded.\n",
    "        \"\"\"\n",
    "\n",
    "        all_preds = []\n",
    "\n",
    "        # for each batch\n",
    "        for i in range(0, len(X), batch_size):\n",
    "            batch = X[i:i+batch_size]\n",
    "\n",
    "            batch_resized = tf.image.resize(batch, (299, 299))  # Resize images to 299x299\n",
    "            batch_resized = batch_resized / 255.0  # Normalize images\n",
    "\n",
    "            # prediction for current batch\n",
    "            preds = self.neural_network.predict(batch_resized)\n",
    "            all_preds.append(preds)\n",
    "\n",
    "        # concatenate all the predictions\n",
    "        all_preds = np.concatenate(all_preds, axis=0)\n",
    "\n",
    "        if len(all_preds.shape) == 2:\n",
    "            all_preds = np.argmax(all_preds, axis=1)\n",
    "\n",
    "        return all_preds"
   ]
  },
  {
   "cell_type": "code",
   "execution_count": null,
   "metadata": {
    "colab": {
     "base_uri": "https://localhost:8080/",
     "height": 69
    },
    "executionInfo": {
     "elapsed": 42500,
     "status": "ok",
     "timestamp": 1732057603902,
     "user": {
      "displayName": "Matteo Missana",
      "userId": "09393135550846459055"
     },
     "user_tz": -60
    },
    "id": "r_JIlt7T_pMw",
    "outputId": "704a6e3b-517f-4f0a-eeb5-6405e9afcd6e"
   },
   "outputs": [],
   "source": [
    "from datetime import datetime\n",
    "import os\n",
    "\n",
    "# Create a name for the submission\n",
    "filename = f'submission_test_models{model_filename}_{datetime.now().strftime(\"%y%m%d_%H%M%S\")}.zip'\n",
    "\n",
    "# specify model path\n",
    "keras_file_path = model_filename\n",
    "\n",
    "# add the files to zip file\n",
    "if os.path.exists('model.py') and os.path.exists(keras_file_path):\n",
    "    !zip {filename} model.py {keras_file_path}\n",
    "else:\n",
    "    print(\"Error, one or more files don't exist.\")\n",
    "\n",
    "# Import the librery for the download\n",
    "from google.colab import files\n",
    "\n",
    "# download the zip file\n",
    "files.download(filename)"
   ]
  }
 ],
 "metadata": {
  "colab": {
   "provenance": [],
   "toc_visible": true
  },
  "kernelspec": {
   "display_name": "Python 3",
   "name": "python3"
  },
  "language_info": {
   "name": "python"
  },
  "widgets": {
   "application/vnd.jupyter.widget-state+json": {
    "1ace48d529d64ea59cf6c5a3234c689a": {
     "model_module": "@jupyter-widgets/controls",
     "model_module_version": "1.5.0",
     "model_name": "DescriptionStyleModel",
     "state": {
      "_model_module": "@jupyter-widgets/controls",
      "_model_module_version": "1.5.0",
      "_model_name": "DescriptionStyleModel",
      "_view_count": null,
      "_view_module": "@jupyter-widgets/base",
      "_view_module_version": "1.2.0",
      "_view_name": "StyleView",
      "description_width": ""
     }
    },
    "3329592262d54b36bdf9f121d80ae16a": {
     "model_module": "@jupyter-widgets/base",
     "model_module_version": "1.2.0",
     "model_name": "LayoutModel",
     "state": {
      "_model_module": "@jupyter-widgets/base",
      "_model_module_version": "1.2.0",
      "_model_name": "LayoutModel",
      "_view_count": null,
      "_view_module": "@jupyter-widgets/base",
      "_view_module_version": "1.2.0",
      "_view_name": "LayoutView",
      "align_content": null,
      "align_items": null,
      "align_self": null,
      "border": null,
      "bottom": null,
      "display": null,
      "flex": null,
      "flex_flow": null,
      "grid_area": null,
      "grid_auto_columns": null,
      "grid_auto_flow": null,
      "grid_auto_rows": null,
      "grid_column": null,
      "grid_gap": null,
      "grid_row": null,
      "grid_template_areas": null,
      "grid_template_columns": null,
      "grid_template_rows": null,
      "height": null,
      "justify_content": null,
      "justify_items": null,
      "left": null,
      "margin": null,
      "max_height": null,
      "max_width": null,
      "min_height": null,
      "min_width": null,
      "object_fit": null,
      "object_position": null,
      "order": null,
      "overflow": null,
      "overflow_x": null,
      "overflow_y": null,
      "padding": null,
      "right": null,
      "top": null,
      "visibility": null,
      "width": null
     }
    },
    "4312bf3e62d1474a804400efe07f7474": {
     "model_module": "@jupyter-widgets/controls",
     "model_module_version": "1.5.0",
     "model_name": "DescriptionStyleModel",
     "state": {
      "_model_module": "@jupyter-widgets/controls",
      "_model_module_version": "1.5.0",
      "_model_name": "DescriptionStyleModel",
      "_view_count": null,
      "_view_module": "@jupyter-widgets/base",
      "_view_module_version": "1.2.0",
      "_view_name": "StyleView",
      "description_width": ""
     }
    },
    "453295d2701443258fdd5b81953d9f12": {
     "model_module": "@jupyter-widgets/base",
     "model_module_version": "1.2.0",
     "model_name": "LayoutModel",
     "state": {
      "_model_module": "@jupyter-widgets/base",
      "_model_module_version": "1.2.0",
      "_model_name": "LayoutModel",
      "_view_count": null,
      "_view_module": "@jupyter-widgets/base",
      "_view_module_version": "1.2.0",
      "_view_name": "LayoutView",
      "align_content": null,
      "align_items": null,
      "align_self": null,
      "border": null,
      "bottom": null,
      "display": null,
      "flex": null,
      "flex_flow": null,
      "grid_area": null,
      "grid_auto_columns": null,
      "grid_auto_flow": null,
      "grid_auto_rows": null,
      "grid_column": null,
      "grid_gap": null,
      "grid_row": null,
      "grid_template_areas": null,
      "grid_template_columns": null,
      "grid_template_rows": null,
      "height": null,
      "justify_content": null,
      "justify_items": null,
      "left": null,
      "margin": null,
      "max_height": null,
      "max_width": null,
      "min_height": null,
      "min_width": null,
      "object_fit": null,
      "object_position": null,
      "order": null,
      "overflow": null,
      "overflow_x": null,
      "overflow_y": null,
      "padding": null,
      "right": null,
      "top": null,
      "visibility": null,
      "width": null
     }
    },
    "561380765c6a472bbc1f5f076114f9c0": {
     "model_module": "@jupyter-widgets/base",
     "model_module_version": "1.2.0",
     "model_name": "LayoutModel",
     "state": {
      "_model_module": "@jupyter-widgets/base",
      "_model_module_version": "1.2.0",
      "_model_name": "LayoutModel",
      "_view_count": null,
      "_view_module": "@jupyter-widgets/base",
      "_view_module_version": "1.2.0",
      "_view_name": "LayoutView",
      "align_content": null,
      "align_items": null,
      "align_self": null,
      "border": null,
      "bottom": null,
      "display": null,
      "flex": null,
      "flex_flow": null,
      "grid_area": null,
      "grid_auto_columns": null,
      "grid_auto_flow": null,
      "grid_auto_rows": null,
      "grid_column": null,
      "grid_gap": null,
      "grid_row": null,
      "grid_template_areas": null,
      "grid_template_columns": null,
      "grid_template_rows": null,
      "height": null,
      "justify_content": null,
      "justify_items": null,
      "left": null,
      "margin": null,
      "max_height": null,
      "max_width": null,
      "min_height": null,
      "min_width": null,
      "object_fit": null,
      "object_position": null,
      "order": null,
      "overflow": null,
      "overflow_x": null,
      "overflow_y": null,
      "padding": null,
      "right": null,
      "top": null,
      "visibility": null,
      "width": null
     }
    },
    "75f2671fbe7e47bb91111b4b8634f8ef": {
     "model_module": "@jupyter-widgets/controls",
     "model_module_version": "1.5.0",
     "model_name": "DescriptionStyleModel",
     "state": {
      "_model_module": "@jupyter-widgets/controls",
      "_model_module_version": "1.5.0",
      "_model_name": "DescriptionStyleModel",
      "_view_count": null,
      "_view_module": "@jupyter-widgets/base",
      "_view_module_version": "1.2.0",
      "_view_name": "StyleView",
      "description_width": ""
     }
    },
    "783296acd36f43ab9a08f60f6e32e343": {
     "model_module": "@jupyter-widgets/base",
     "model_module_version": "1.2.0",
     "model_name": "LayoutModel",
     "state": {
      "_model_module": "@jupyter-widgets/base",
      "_model_module_version": "1.2.0",
      "_model_name": "LayoutModel",
      "_view_count": null,
      "_view_module": "@jupyter-widgets/base",
      "_view_module_version": "1.2.0",
      "_view_name": "LayoutView",
      "align_content": null,
      "align_items": null,
      "align_self": null,
      "border": null,
      "bottom": null,
      "display": null,
      "flex": null,
      "flex_flow": null,
      "grid_area": null,
      "grid_auto_columns": null,
      "grid_auto_flow": null,
      "grid_auto_rows": null,
      "grid_column": null,
      "grid_gap": null,
      "grid_row": null,
      "grid_template_areas": null,
      "grid_template_columns": null,
      "grid_template_rows": null,
      "height": null,
      "justify_content": null,
      "justify_items": null,
      "left": null,
      "margin": null,
      "max_height": null,
      "max_width": null,
      "min_height": null,
      "min_width": null,
      "object_fit": null,
      "object_position": null,
      "order": null,
      "overflow": null,
      "overflow_x": null,
      "overflow_y": null,
      "padding": null,
      "right": null,
      "top": null,
      "visibility": null,
      "width": null
     }
    },
    "84e78f576f394c8d983bc696b41c2c38": {
     "model_module": "@jupyter-widgets/controls",
     "model_module_version": "1.5.0",
     "model_name": "FloatProgressModel",
     "state": {
      "_dom_classes": [],
      "_model_module": "@jupyter-widgets/controls",
      "_model_module_version": "1.5.0",
      "_model_name": "FloatProgressModel",
      "_view_count": null,
      "_view_module": "@jupyter-widgets/controls",
      "_view_module_version": "1.5.0",
      "_view_name": "ProgressView",
      "bar_style": "success",
      "description": "",
      "description_tooltip": null,
      "layout": "IPY_MODEL_cfcea22ddd24459d9098125bcd8e5149",
      "max": 13759,
      "min": 0,
      "orientation": "horizontal",
      "style": "IPY_MODEL_eea8adf6634f442bb25931cac9a474b4",
      "value": 13759
     }
    },
    "8911630013464449811ab6e3fa17b90e": {
     "model_module": "@jupyter-widgets/controls",
     "model_module_version": "1.5.0",
     "model_name": "HTMLModel",
     "state": {
      "_dom_classes": [],
      "_model_module": "@jupyter-widgets/controls",
      "_model_module_version": "1.5.0",
      "_model_name": "HTMLModel",
      "_view_count": null,
      "_view_module": "@jupyter-widgets/controls",
      "_view_module_version": "1.5.0",
      "_view_name": "HTMLView",
      "description": "",
      "description_tooltip": null,
      "layout": "IPY_MODEL_9230c0cc3a644ca1b2c4cfe3b372f49f",
      "placeholder": "​",
      "style": "IPY_MODEL_75f2671fbe7e47bb91111b4b8634f8ef",
      "value": "100%"
     }
    },
    "9230c0cc3a644ca1b2c4cfe3b372f49f": {
     "model_module": "@jupyter-widgets/base",
     "model_module_version": "1.2.0",
     "model_name": "LayoutModel",
     "state": {
      "_model_module": "@jupyter-widgets/base",
      "_model_module_version": "1.2.0",
      "_model_name": "LayoutModel",
      "_view_count": null,
      "_view_module": "@jupyter-widgets/base",
      "_view_module_version": "1.2.0",
      "_view_name": "LayoutView",
      "align_content": null,
      "align_items": null,
      "align_self": null,
      "border": null,
      "bottom": null,
      "display": null,
      "flex": null,
      "flex_flow": null,
      "grid_area": null,
      "grid_auto_columns": null,
      "grid_auto_flow": null,
      "grid_auto_rows": null,
      "grid_column": null,
      "grid_gap": null,
      "grid_row": null,
      "grid_template_areas": null,
      "grid_template_columns": null,
      "grid_template_rows": null,
      "height": null,
      "justify_content": null,
      "justify_items": null,
      "left": null,
      "margin": null,
      "max_height": null,
      "max_width": null,
      "min_height": null,
      "min_width": null,
      "object_fit": null,
      "object_position": null,
      "order": null,
      "overflow": null,
      "overflow_x": null,
      "overflow_y": null,
      "padding": null,
      "right": null,
      "top": null,
      "visibility": null,
      "width": null
     }
    },
    "995f16b5131449cdbcc8563051c3be8e": {
     "model_module": "@jupyter-widgets/controls",
     "model_module_version": "1.5.0",
     "model_name": "HBoxModel",
     "state": {
      "_dom_classes": [],
      "_model_module": "@jupyter-widgets/controls",
      "_model_module_version": "1.5.0",
      "_model_name": "HBoxModel",
      "_view_count": null,
      "_view_module": "@jupyter-widgets/controls",
      "_view_module_version": "1.5.0",
      "_view_name": "HBoxView",
      "box_style": "",
      "children": [
       "IPY_MODEL_e015c44aceab4b1f80ed49fe72ade973",
       "IPY_MODEL_84e78f576f394c8d983bc696b41c2c38",
       "IPY_MODEL_af96b1f3ca1843bbaf0cee800464c2cf"
      ],
      "layout": "IPY_MODEL_ebc07425a6374a7285fb2812aa77a833"
     }
    },
    "9c3ecb313279407a93db342b1d9b575a": {
     "model_module": "@jupyter-widgets/controls",
     "model_module_version": "1.5.0",
     "model_name": "DescriptionStyleModel",
     "state": {
      "_model_module": "@jupyter-widgets/controls",
      "_model_module_version": "1.5.0",
      "_model_name": "DescriptionStyleModel",
      "_view_count": null,
      "_view_module": "@jupyter-widgets/base",
      "_view_module_version": "1.2.0",
      "_view_name": "StyleView",
      "description_width": ""
     }
    },
    "af96b1f3ca1843bbaf0cee800464c2cf": {
     "model_module": "@jupyter-widgets/controls",
     "model_module_version": "1.5.0",
     "model_name": "HTMLModel",
     "state": {
      "_dom_classes": [],
      "_model_module": "@jupyter-widgets/controls",
      "_model_module_version": "1.5.0",
      "_model_name": "HTMLModel",
      "_view_count": null,
      "_view_module": "@jupyter-widgets/controls",
      "_view_module_version": "1.5.0",
      "_view_name": "HTMLView",
      "description": "",
      "description_tooltip": null,
      "layout": "IPY_MODEL_453295d2701443258fdd5b81953d9f12",
      "placeholder": "​",
      "style": "IPY_MODEL_4312bf3e62d1474a804400efe07f7474",
      "value": " 13759/13759 [07:36&lt;00:00, 152.75it/s]"
     }
    },
    "cc1fdb8730084bcfa7378db898c891c7": {
     "model_module": "@jupyter-widgets/controls",
     "model_module_version": "1.5.0",
     "model_name": "ProgressStyleModel",
     "state": {
      "_model_module": "@jupyter-widgets/controls",
      "_model_module_version": "1.5.0",
      "_model_name": "ProgressStyleModel",
      "_view_count": null,
      "_view_module": "@jupyter-widgets/base",
      "_view_module_version": "1.2.0",
      "_view_name": "StyleView",
      "bar_color": null,
      "description_width": ""
     }
    },
    "cfcea22ddd24459d9098125bcd8e5149": {
     "model_module": "@jupyter-widgets/base",
     "model_module_version": "1.2.0",
     "model_name": "LayoutModel",
     "state": {
      "_model_module": "@jupyter-widgets/base",
      "_model_module_version": "1.2.0",
      "_model_name": "LayoutModel",
      "_view_count": null,
      "_view_module": "@jupyter-widgets/base",
      "_view_module_version": "1.2.0",
      "_view_name": "LayoutView",
      "align_content": null,
      "align_items": null,
      "align_self": null,
      "border": null,
      "bottom": null,
      "display": null,
      "flex": null,
      "flex_flow": null,
      "grid_area": null,
      "grid_auto_columns": null,
      "grid_auto_flow": null,
      "grid_auto_rows": null,
      "grid_column": null,
      "grid_gap": null,
      "grid_row": null,
      "grid_template_areas": null,
      "grid_template_columns": null,
      "grid_template_rows": null,
      "height": null,
      "justify_content": null,
      "justify_items": null,
      "left": null,
      "margin": null,
      "max_height": null,
      "max_width": null,
      "min_height": null,
      "min_width": null,
      "object_fit": null,
      "object_position": null,
      "order": null,
      "overflow": null,
      "overflow_x": null,
      "overflow_y": null,
      "padding": null,
      "right": null,
      "top": null,
      "visibility": null,
      "width": null
     }
    },
    "e015c44aceab4b1f80ed49fe72ade973": {
     "model_module": "@jupyter-widgets/controls",
     "model_module_version": "1.5.0",
     "model_name": "HTMLModel",
     "state": {
      "_dom_classes": [],
      "_model_module": "@jupyter-widgets/controls",
      "_model_module_version": "1.5.0",
      "_model_name": "HTMLModel",
      "_view_count": null,
      "_view_module": "@jupyter-widgets/controls",
      "_view_module_version": "1.5.0",
      "_view_name": "HTMLView",
      "description": "",
      "description_tooltip": null,
      "layout": "IPY_MODEL_783296acd36f43ab9a08f60f6e32e343",
      "placeholder": "​",
      "style": "IPY_MODEL_1ace48d529d64ea59cf6c5a3234c689a",
      "value": "100%"
     }
    },
    "e12bac9c59d549beb640693459cd161d": {
     "model_module": "@jupyter-widgets/controls",
     "model_module_version": "1.5.0",
     "model_name": "HBoxModel",
     "state": {
      "_dom_classes": [],
      "_model_module": "@jupyter-widgets/controls",
      "_model_module_version": "1.5.0",
      "_model_name": "HBoxModel",
      "_view_count": null,
      "_view_module": "@jupyter-widgets/controls",
      "_view_module_version": "1.5.0",
      "_view_name": "HBoxView",
      "box_style": "",
      "children": [
       "IPY_MODEL_8911630013464449811ab6e3fa17b90e",
       "IPY_MODEL_e248ea748deb45d28d7158c5301ad351",
       "IPY_MODEL_eea5b4d29f774b6e9b4a18b56bd72ac9"
      ],
      "layout": "IPY_MODEL_561380765c6a472bbc1f5f076114f9c0"
     }
    },
    "e248ea748deb45d28d7158c5301ad351": {
     "model_module": "@jupyter-widgets/controls",
     "model_module_version": "1.5.0",
     "model_name": "FloatProgressModel",
     "state": {
      "_dom_classes": [],
      "_model_module": "@jupyter-widgets/controls",
      "_model_module_version": "1.5.0",
      "_model_name": "FloatProgressModel",
      "_view_count": null,
      "_view_module": "@jupyter-widgets/controls",
      "_view_module_version": "1.5.0",
      "_view_name": "ProgressView",
      "bar_style": "success",
      "description": "",
      "description_tooltip": null,
      "layout": "IPY_MODEL_3329592262d54b36bdf9f121d80ae16a",
      "max": 13759,
      "min": 0,
      "orientation": "horizontal",
      "style": "IPY_MODEL_cc1fdb8730084bcfa7378db898c891c7",
      "value": 13759
     }
    },
    "ebc07425a6374a7285fb2812aa77a833": {
     "model_module": "@jupyter-widgets/base",
     "model_module_version": "1.2.0",
     "model_name": "LayoutModel",
     "state": {
      "_model_module": "@jupyter-widgets/base",
      "_model_module_version": "1.2.0",
      "_model_name": "LayoutModel",
      "_view_count": null,
      "_view_module": "@jupyter-widgets/base",
      "_view_module_version": "1.2.0",
      "_view_name": "LayoutView",
      "align_content": null,
      "align_items": null,
      "align_self": null,
      "border": null,
      "bottom": null,
      "display": null,
      "flex": null,
      "flex_flow": null,
      "grid_area": null,
      "grid_auto_columns": null,
      "grid_auto_flow": null,
      "grid_auto_rows": null,
      "grid_column": null,
      "grid_gap": null,
      "grid_row": null,
      "grid_template_areas": null,
      "grid_template_columns": null,
      "grid_template_rows": null,
      "height": null,
      "justify_content": null,
      "justify_items": null,
      "left": null,
      "margin": null,
      "max_height": null,
      "max_width": null,
      "min_height": null,
      "min_width": null,
      "object_fit": null,
      "object_position": null,
      "order": null,
      "overflow": null,
      "overflow_x": null,
      "overflow_y": null,
      "padding": null,
      "right": null,
      "top": null,
      "visibility": null,
      "width": null
     }
    },
    "ee2d4d1b9481436a87cd3f05fd14019d": {
     "model_module": "@jupyter-widgets/base",
     "model_module_version": "1.2.0",
     "model_name": "LayoutModel",
     "state": {
      "_model_module": "@jupyter-widgets/base",
      "_model_module_version": "1.2.0",
      "_model_name": "LayoutModel",
      "_view_count": null,
      "_view_module": "@jupyter-widgets/base",
      "_view_module_version": "1.2.0",
      "_view_name": "LayoutView",
      "align_content": null,
      "align_items": null,
      "align_self": null,
      "border": null,
      "bottom": null,
      "display": null,
      "flex": null,
      "flex_flow": null,
      "grid_area": null,
      "grid_auto_columns": null,
      "grid_auto_flow": null,
      "grid_auto_rows": null,
      "grid_column": null,
      "grid_gap": null,
      "grid_row": null,
      "grid_template_areas": null,
      "grid_template_columns": null,
      "grid_template_rows": null,
      "height": null,
      "justify_content": null,
      "justify_items": null,
      "left": null,
      "margin": null,
      "max_height": null,
      "max_width": null,
      "min_height": null,
      "min_width": null,
      "object_fit": null,
      "object_position": null,
      "order": null,
      "overflow": null,
      "overflow_x": null,
      "overflow_y": null,
      "padding": null,
      "right": null,
      "top": null,
      "visibility": null,
      "width": null
     }
    },
    "eea5b4d29f774b6e9b4a18b56bd72ac9": {
     "model_module": "@jupyter-widgets/controls",
     "model_module_version": "1.5.0",
     "model_name": "HTMLModel",
     "state": {
      "_dom_classes": [],
      "_model_module": "@jupyter-widgets/controls",
      "_model_module_version": "1.5.0",
      "_model_name": "HTMLModel",
      "_view_count": null,
      "_view_module": "@jupyter-widgets/controls",
      "_view_module_version": "1.5.0",
      "_view_name": "HTMLView",
      "description": "",
      "description_tooltip": null,
      "layout": "IPY_MODEL_ee2d4d1b9481436a87cd3f05fd14019d",
      "placeholder": "​",
      "style": "IPY_MODEL_9c3ecb313279407a93db342b1d9b575a",
      "value": " 13759/13759 [01:09&lt;00:00, 201.25it/s]"
     }
    },
    "eea8adf6634f442bb25931cac9a474b4": {
     "model_module": "@jupyter-widgets/controls",
     "model_module_version": "1.5.0",
     "model_name": "ProgressStyleModel",
     "state": {
      "_model_module": "@jupyter-widgets/controls",
      "_model_module_version": "1.5.0",
      "_model_name": "ProgressStyleModel",
      "_view_count": null,
      "_view_module": "@jupyter-widgets/base",
      "_view_module_version": "1.2.0",
      "_view_name": "StyleView",
      "bar_color": null,
      "description_width": ""
     }
    }
   }
  }
 },
 "nbformat": 4,
 "nbformat_minor": 0
}
